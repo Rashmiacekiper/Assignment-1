{
  "nbformat": 4,
  "nbformat_minor": 0,
  "metadata": {
    "colab": {
      "provenance": [],
      "authorship_tag": "ABX9TyMJC2I07EQ4dn3axJcTkzSL",
      "include_colab_link": true
    },
    "kernelspec": {
      "name": "python3",
      "display_name": "Python 3"
    },
    "language_info": {
      "name": "python"
    }
  },
  "cells": [
    {
      "cell_type": "markdown",
      "metadata": {
        "id": "view-in-github",
        "colab_type": "text"
      },
      "source": [
        "<a href=\"https://colab.research.google.com/github/Rashmiacekiper/Assignment-1/blob/main/Funtions_Assignment_3.ipynb\" target=\"_parent\"><img src=\"https://colab.research.google.com/assets/colab-badge.svg\" alt=\"Open In Colab\"/></a>"
      ]
    },
    {
      "cell_type": "code",
      "execution_count": null,
      "metadata": {
        "id": "YLoQiwzotH5Z"
      },
      "outputs": [],
      "source": []
    },
    {
      "cell_type": "markdown",
      "source": [
        "# 1. What is the difference between a function and a method in Python?\n",
        "\n",
        "Ans - **Functions**\n",
        "\n",
        "(a) Function is block of code that is also called by its name. (independent)\n",
        "(b) The function can have different parameters or may not have any at all. If any data (parameters) are passed, they are passed explicitly.\n",
        "(c) It may or may not return any data.\n",
        "(d) Function does not deal with Class and its instance concept.\n",
        "\n",
        "  A function is a collection of lines of code that accomplishes a certain task. Functions have:\n",
        "- Name\n",
        "- Parameters\n",
        "- Return statement\n",
        "- Return statement and parameters are optional. A function can either have them or not.\n",
        "\n"
      ],
      "metadata": {
        "id": "PgMMbAvPtIy6"
      }
    },
    {
      "cell_type": "code",
      "source": [
        "# code other than function in Python\n",
        "import math\n",
        "\n",
        "ceil_val = math.ceil(15.25)\n",
        "print( \"Ceiling value of 15.25 is : \", ceil_val)"
      ],
      "metadata": {
        "colab": {
          "base_uri": "https://localhost:8080/"
        },
        "id": "mBKM1BRouTKl",
        "outputId": "6080a860-e77b-475b-f9bf-154be79ed050"
      },
      "execution_count": null,
      "outputs": [
        {
          "output_type": "stream",
          "name": "stdout",
          "text": [
            "Ceiling value of 15.25 is :  16\n"
          ]
        }
      ]
    },
    {
      "cell_type": "markdown",
      "source": [
        "**Difference between a Method and a Function in Python:**\n",
        "\n",
        "(a) Simply, function and method both look similar as they perform in almost similar way, but the key difference is the concept of ‘Class and its Object‘.\n",
        "(b) Functions can be called only by its name, as it is defined independently. But methods can’t be called by its name only, we need to invoke the class by a reference of that class in which it is defined, i.e. method is defined within a class and hence they are dependent on that class."
      ],
      "metadata": {
        "id": "VfPvkyBpuy8q"
      }
    },
    {
      "cell_type": "markdown",
      "source": [
        "# 2. Explain the concept of function arguments and parameters in Python.\n",
        "\n",
        "Ans - In Python, function arguments and parameters refer to the values and variables used in functions to allow them to process information and produce results. While the terms are often used interchangeably, they have distinct meanings depending on their context.\n",
        "\n",
        "Parameters\n",
        "Parameters are the variables listed inside the function definition. They act as placeholders for the values that will be passed to the function when it is called.\n",
        "Parameters specify what kind of data a function expects to work with.\n",
        "Example:\n",
        "\n",
        "def greet(name, age):  # 'name' and 'age' are parameters\n",
        "    print(f\"Hello, {name}! You are {age} years old.\")\n",
        "In this function greet, name and age are parameters. They define what kind of input the function needs in order to execute.\n",
        "\n",
        "Arguments\n",
        "Arguments are the actual values or data passed to the function when it is called. These values are assigned to the corresponding parameters.\n",
        "Arguments are the real data that is provided to the function for processing.\n",
        "Example:\n",
        "\n",
        "greet(\"Alice\", 25)  # \"Alice\" and 25 are arguments\n",
        "Here, \"Alice\" and 25 are arguments. They are passed to the function greet, where \"Alice\" will be assigned to the parameter name, and 25 will be assigned to the parameter age."
      ],
      "metadata": {
        "id": "hJKTDj9Z2fKI"
      }
    },
    {
      "cell_type": "markdown",
      "source": [
        "# 3.  What are the different ways to define and call a function in Python?\n",
        "\n",
        "Ans - In Python, functions are defined using the def keyword, but there are multiple ways to define and call a function, depending on the use case. Here are the different methods:\n",
        "\n",
        "1. Basic Function Definition and Call\n",
        "The most common way to define and call a function:\n",
        "\n",
        "# Function definition\n",
        "def greet(name):\n",
        "    print(f\"Hello, {name}!\")\n",
        "\n",
        "# Function call\n",
        "greet(\"Alice\")  # Output: Hello, Alice!\n",
        "2. Function with Return Value\n",
        "Functions can also return values, which can then be used when the function is called:\n",
        "\n",
        "# Function definition\n",
        "def add(a, b):\n",
        "    return a + b\n",
        "\n",
        "# Function call\n",
        "result = add(5, 3)\n",
        "print(result)  # Output: 8\n",
        "3. Function with Default Arguments\n",
        "You can provide default values for function parameters. These defaults are used if no argument is passed:\n",
        "\n",
        "# Function definition\n",
        "def greet(name=\"Guest\"):\n",
        "    print(f\"Hello, {name}!\")\n",
        "\n",
        "# Function calls\n",
        "greet()        # Output: Hello, Guest!\n",
        "greet(\"Bob\")   # Output: Hello, Bob!\n",
        "4. Function with Variable Number of Arguments (*args and **kwargs)\n",
        "*args: Allows the function to accept a variable number of positional arguments.\n",
        "**kwargs: Allows the function to accept a variable number of keyword arguments.\n",
        "\n",
        "# Function definition with *args and **kwargs\n",
        "def display_info(*args, **kwargs):\n",
        "    print(\"Positional arguments:\", args)\n",
        "    print(\"Keyword arguments:\", kwargs)\n",
        "\n",
        "# Function call\n",
        "display_info(1, 2, 3, name=\"Alice\", age=30)\n",
        "# Output:\n",
        "# Positional arguments: (1, 2, 3)\n",
        "# Keyword arguments: {'name': 'Alice', 'age': 30}\n",
        "5. Lambda Functions (Anonymous Functions)\n",
        "Lambda functions are a concise way to define small, anonymous functions, usually used for short tasks:\n",
        "\n",
        "# Lambda function definition\n",
        "square = lambda x: x ** 2\n",
        "\n",
        "# Function call\n",
        "print(square(4))  # Output: 16\n",
        "6. Function Defined Inside Another Function (Nested Functions)\n",
        "You can define a function inside another function. These are often used for closures.\n",
        "\n",
        "def outer_function(x):\n",
        "    def inner_function(y):\n",
        "        return y * y\n",
        "    return inner_function(x)\n",
        "\n",
        "# Function call\n",
        "print(outer_function(5))  # Output: 25\n",
        "7. Functions Assigned to Variables\n",
        "In Python, functions are first-class citizens, meaning you can assign a function to a variable and call it through the variable:\n",
        "\n",
        "# Function definition\n",
        "def say_hello():\n",
        "    print(\"Hello!\")\n",
        "\n",
        "# Assigning function to a variable\n",
        "greeting = say_hello\n",
        "\n",
        "# Function call through the variable\n",
        "greeting()  # Output: Hello!\n",
        "8. Function with Docstring (Documentation)\n",
        "A function can have a docstring, which provides documentation about the function. It is placed immediately after the function definition.\n",
        "\n",
        "def multiply(x, y):\n",
        "    \"\"\"\n",
        "    This function multiplies two numbers.\n",
        "    \"\"\"\n",
        "    return x * y\n",
        "\n",
        "# Accessing the docstring\n",
        "print(multiply.__doc__)  # Output: This function multiplies two numbers.\n",
        "9. Recursive Functions\n",
        "A function can call itself. This is known as recursion. Ensure that a base case is provided to avoid infinite recursion.\n",
        "\n",
        "def factorial(n):\n",
        "    if n == 0:\n",
        "        return 1\n",
        "    else:\n",
        "        return n * factorial(n - 1)\n",
        "\n",
        "# Function call\n",
        "print(factorial(5))  # Output: 120\n",
        "10. Function with Class (Methods)\n",
        "In object-oriented programming, functions can be defined as methods within a class. Methods are called on instances of the class or the class itself.\n",
        "\n",
        "class MyClass:\n",
        "    def greet(self, name):\n",
        "        print(f\"Hello, {name}!\")\n",
        "\n",
        "# Creating an object and calling the method\n",
        "obj = MyClass()\n",
        "obj.greet(\"Alice\")  # Output: Hello, Alice!\n",
        "11. Function as an Argument\n",
        "Functions can be passed as arguments to other functions, enabling higher-order functions.\n",
        "\n",
        "def apply_function(func, value):\n",
        "    return func(value)\n",
        "\n",
        "# Defining a function to pass\n",
        "def square(x):\n",
        "    return x * x\n",
        "\n",
        "# Calling the function with another function as an argument\n",
        "result = apply_function(square, 4)\n",
        "print(result)  # Output: 16\n",
        "12. Function as a Return Value (Returning a Function)\n",
        "A function can return another function. This is often used in closures and decorators.\n",
        "\n",
        "def outer_function():\n",
        "    def inner_function():\n",
        "        print(\"This is the inner function.\")\n",
        "    return inner_function\n",
        "\n",
        "# Getting the inner function and calling it\n",
        "inner = outer_function()\n",
        "inner()  # Output: This is the inner function\n",
        "\n"
      ],
      "metadata": {
        "id": "GUuUX7FN3CeQ"
      }
    },
    {
      "cell_type": "markdown",
      "source": [
        "# 4. What is the purpose of the `return` statement in a Python function?\n",
        "\n",
        "Ans - The return statement in a Python function serves several important purposes:\n",
        "\n",
        "1. Exit the Function\n",
        "The return statement immediately ends the execution of the function, and the control is passed back to the point where the function was called. This means that any code after the return statement in the function won't be executed.\n",
        "\n",
        "python\n",
        "Copy code\n",
        "def example():\n",
        "    print(\"Before return\")\n",
        "    return\n",
        "    print(\"After return\")  # This will never be printed\n",
        "\n",
        "example()  # Output: Before return\n",
        "2. Send a Value Back to the Caller\n",
        "When a return statement is followed by an expression or a value, that value is sent back to the caller. This allows the function to \"output\" a result, which can then be used elsewhere in the program.\n",
        "\n",
        "python\n",
        "Copy code\n",
        "def add(a, b):\n",
        "    return a + b\n",
        "\n",
        "result = add(3, 4)\n",
        "print(result)  # Output: 7\n",
        "In this case, the function add returns the sum of a and b, and the returned value is stored in the variable result.\n",
        "\n",
        "3. Return Multiple Values (Tuples)\n",
        "A function can return multiple values, which Python implicitly packages into a tuple. This allows functions to return more than one value at once.\n",
        "\n",
        "Summary of the return statement:\n",
        "Exits the function: It ends the function's execution immediately.\n",
        "Returns a value: It sends a result (or value) back to the caller.\n",
        "Can return multiple values (tuples): By returning multiple values, Python packages them into a tuple.\n",
        "Returns None implicitly: If no return is provided, the function returns None by default.\n",
        "Controls program flow: It can be used to exit early or handle conditions."
      ],
      "metadata": {
        "id": "irdSKSeM4fNE"
      }
    },
    {
      "cell_type": "markdown",
      "source": [
        "# 5. What are iterators in Python and how do they differ from iterables?\n",
        "\n",
        "Ans - An iterator is an object that allows traversal through a countable number of values. It is used to iterate over iterable objects like lists, tuples, sets, etc\n",
        "Key Points:\n",
        "Lazy Evaluation:\n",
        "•\tOn-Demand Evaluation: Values are generated only when requested, avoiding the need for storing all elements at once.\n",
        "•\tMemory Efficiency: Only one memory location is used for processing values, reducing RAM usage, especially beneficial for large datasets.\n",
        "•\tNo Repeated Evaluation: The expression's evaluation is stored in memory until the item is explicitly called.\n",
        "Using an iterator-\n",
        "•\titer() function is used to create an iterator containing an iterable object.\n",
        "•\tnext() function is used to call the next element in the iterable object.\n",
        "•\tAfter the iterable object is completed, to use them again reassign them to the same object.\n",
        "\n",
        "my_list = [1, 2, 3, 4]\n",
        "\n",
        "# Get the iterator\n",
        "iterator = iter(my_list)\n",
        "\n",
        "# Manually iterating through the iterator\n",
        "print(next(iterator))  # Output: 1\n",
        "print(next(iterator))  # Output: 2\n",
        "print(next(iterator))  # Output: 3\n",
        "print(next(iterator))  # Output: 4\n",
        "print(next(iterator))  # Raises StopIteration exception\n",
        "In this example:\n",
        "\n",
        "my_list is an iterable.\n",
        "iterator = iter(my_list) converts the iterable into an iterator.\n",
        "We can manually call next(iterator) to get the next item until StopIteration is raised.\n",
        "\n",
        "Key Differences Between Iterables and Iterators\n",
        "\n",
        "(a) An object that can return an iterator is iterable.\tAn object that represents a stream of data and supports the next() method is iterator.\n",
        "\n",
        "(b) Iterable implements __iter__() or __getitem__().\tIterator implements both __iter__() and __next__() methods.\n",
        "\n",
        "(c) Iterable does not keep track of the current position in the iteration. Iteraor keeps track of the current position and raises StopIteration when exhausted.\n",
        "\n",
        "(d) Iterator Can be used in a for loop directly.\tIterator used to fetch elements one at a time using next().\n",
        "\n",
        "(e) Lists, strings, sets, dictionaries, etc. are Iterables.\tThe result of calling iter() on an iterable is Iterators.\n",
        "\n",
        "** Example of an Iterable and an Iterator: **\n",
        "\n",
        "# Example of an Iterable\n",
        "my_list = [10, 20, 30]\n",
        "# It is an iterable because we can use it in a for loop\n",
        "for item in my_list:\n",
        "    print(item)\n",
        "\n",
        "# Example of an Iterator\n",
        "my_iter = iter(my_list)\n",
        "# The iterator can be used with next()\n",
        "print(next(my_iter))  # Output: 10\n",
        "print(next(my_iter))  # Output: 20\n",
        "print(next(my_iter))  # Output: 30\n",
        "In the example above:\n",
        "\n",
        "my_list is an iterable (because it can be used in a for loop).\n",
        "my_iter is an iterator (created by calling iter(my_list)), and we can manually fetch items using next().\n",
        "\n",
        "Important Points:\n",
        "Iterable: An object that can be iterated over (e.g., a list, tuple, set).\n",
        "Iterator: An object that allows you to iterate through an iterable one element at a time, keeping track of the current position and raising StopIteration when all elements have been accessed.\n",
        "We can obtain an iterator from an iterable using the iter() function.\n",
        "Once an iterator is exhausted (all elements are iterated), it cannot be reused unless you call iter() again on the iterable to create a new iterator.\n"
      ],
      "metadata": {
        "id": "nk5hRa-Z6Orc"
      }
    },
    {
      "cell_type": "markdown",
      "source": [
        "# 6. Explain the concept of generators in Python and how they are defined.\n",
        "\n",
        "Ans - Generators are a simple way to create iterators using functions and the yield keyword instead of returning values.\n",
        "Key Points:\n",
        "•\tyield Keyword:\n",
        "o\tYield vs. Return: Unlike the return statement, which exits the function, yield returns a value and pauses the function’s state, allowing it to resume from where it left off.\n",
        "o\tMultiple Yields: Functions can yield multiple values over time, producing a sequence of results.\n",
        "Lazy Evaluation:\n",
        "•\tOn-Demand Data: Generators produce values one at a time and only when required, avoiding the need to generate or store all values upfront.\n",
        "•\tMemory Efficiency: Since values are generated as needed and not all at once, generators use minimal memory.\n",
        "\n",
        "There are two primary ways to define a generator in Python:\n",
        "\n",
        "1. Using a Generator Function (with yield)\n",
        "A generator function looks like a normal function, but instead of returning a value using return, it uses the yield keyword. When the function is called, it does not execute immediately. Instead, it returns a generator object, which can be iterated over.\n",
        "\n",
        "Syntax of a Generator Function:\n",
        "\n",
        "def generator_function():\n",
        "    yield value  # Yields a value, suspends the function's execution\n",
        "The yield statement returns a value and pauses the function’s execution, saving its state.\n",
        "The next time the generator is called (via next() or in a loop), it resumes execution from where it was paused and continues until the next yield or the end of the function.\n",
        "Example:\n",
        "\n",
        "def count_up_to(max):\n",
        "    count = 1\n",
        "    while count <= max:\n",
        "        yield count  # Yield the current count, then pause\n",
        "        count += 1\n",
        "\n",
        "# Create the generator\n",
        "counter = count_up_to(5)\n",
        "\n",
        "# Iterate over the generator using a for loop\n",
        "for number in counter:\n",
        "    print(number)\n",
        "Output:\n",
        "\n",
        "1\n",
        "2\n",
        "3\n",
        "4\n",
        "5\n",
        "In this example:\n",
        "\n",
        "count_up_to(5) returns a generator object.\n",
        "The generator yields the values 1 through 5 one at a time, and each time the for loop requests a value, the generator picks up where it left off.\n",
        "\n",
        "2. Using a Generator Expression (Similar to List Comprehensions)\n",
        "A generator expression is a more concise way to define a generator. It is similar to a list comprehension but uses parentheses () instead of square brackets [].\n",
        "\n",
        "Syntax of a Generator Expression:\n",
        "\n",
        "(generator_expression for item in iterable)\n",
        "Example:\n",
        "\n",
        "# Generator expression to generate squares of numbers\n",
        "squares = (x * x for x in range(1, 6))\n",
        "\n",
        "# Iterate over the generator using a for loop\n",
        "for square in squares:\n",
        "    print(square)\n",
        "Output:\n",
        "\n",
        "1\n",
        "4\n",
        "9\n",
        "16\n",
        "25\n",
        "In this example:\n",
        "\n",
        "The generator expression (x * x for x in range(1, 6)) creates a generator that computes the square of each number from 1 to 5.\n"
      ],
      "metadata": {
        "id": "asE-ZkuK9B-I"
      }
    },
    {
      "cell_type": "markdown",
      "source": [
        " # 7. What are the advantages of using generators over regular functions?\n",
        "\n",
        " Ans - Generators offer several advantages over regular functions (or other types of iterators) in Python, particularly when it comes to memory efficiency and the ability to handle large datasets. Below are the key advantages of using generators:\n",
        "\n",
        "1. Memory Efficiency\n",
        "Generators are memory-efficient because they do not store all the values in memory at once. Instead of generating the entire list of values upfront, generators yield one value at a time when needed (lazy evaluation).\n",
        "This is particularly beneficial when dealing with large datasets or infinite sequences, where holding the entire dataset in memory would be impractical or impossible.\n",
        "Example:\n",
        "\n",
        "def large_range():\n",
        "    for i in range(10**6):\n",
        "        yield i  # Generates numbers one at a time, not all at once\n",
        "If you were to use a regular function that returns a list of values, it would need to hold all those values in memory, which could lead to memory issues for very large ranges.\n",
        "\n",
        "2. Lazy Evaluation (On-Demand Generation)\n",
        "Generators generate values on demand and compute them only when requested. This is in contrast to regular functions or iterables like lists, which compute and store all values upfront.\n",
        "Lazy evaluation helps in scenarios where you only need part of the data, rather than generating all values at once. It allows you to avoid unnecessary computation and wasteful memory usage when you only need to process a subset of values.\n",
        "Example:\n",
        "\n",
        "def fibonacci():\n",
        "    a, b = 0, 1\n",
        "    while True:\n",
        "        yield a\n",
        "        a, b = b, a + b\n",
        "\n",
        "fib_gen = fibonacci()\n",
        "for _ in range(5):  # Only generate the first 5 Fibonacci numbers\n",
        "    print(next(fib_gen))\n",
        "The generator only calculates and returns the Fibonacci numbers when needed, making it very efficient.\n",
        "\n",
        "3. Improved Performance\n",
        "Since generators yield values one at a time, they can start producing results immediately without needing to wait for all values to be computed.\n",
        "With regular functions that return lists or other collections, Python needs to compute and store all values before you can start processing them, which can introduce delays.\n",
        "Example of Performance Comparison: If you want to sum a very large range of numbers, using a generator can be faster because you avoid storing the entire range in memory:\n",
        "\n",
        "# Using a generator\n",
        "def sum_large_range(n):\n",
        "    return sum(i for i in range(n))\n",
        "\n",
        "# Using a list (less memory efficient)\n",
        "def sum_large_range_list(n):\n",
        "    return sum(range(n))\n",
        "The generator-based function works faster and uses less memory than the function that creates a list of all numbers upfront.\n",
        "\n",
        "4. Infinite Sequences\n",
        "Generators are ideal for infinite sequences because they can keep yielding values indefinitely without consuming all available memory.\n",
        "Regular functions that generate sequences (like lists) would not work for infinite sequences, as they would eventually run out of memory. Generators, on the other hand, can handle this case naturally.\n",
        "Example of an Infinite Generator:\n",
        "\n",
        "def count_up():\n",
        "    num = 1\n",
        "    while True:\n",
        "        yield num\n",
        "        num += 1\n",
        "\n",
        "counter = count_up()\n",
        "for _ in range(10):  # Only print the first 10 numbers\n",
        "    print(next(counter))\n",
        "The count_up generator can continue indefinitely, generating numbers as long as needed, without ever storing the entire sequence.\n",
        "\n",
        "5. Cleaner and More Readable Code\n",
        "Generators provide a more concise and readable way to write iterators compared to manually managing an iterator state with a class or function.\n",
        "With the yield keyword, you can express iteration logic in a way that’s often much more readable than using an explicit iterator class with __iter__() and __next__() methods.\n",
        "Example: A generator function allows you to write a simple iteration over a sequence of numbers:\n",
        "\n",
        "def even_numbers(n):\n",
        "    for i in range(0, n, 2):\n",
        "        yield i\n",
        "Without generators, you might have to write a more complex solution using an iterator class:\n",
        "\n",
        "class EvenNumbers:\n",
        "    def __init__(self, n):\n",
        "        self.n = n\n",
        "        self.current = 0\n",
        "    def __iter__(self):\n",
        "        return self\n",
        "    def __next__(self):\n",
        "        if self.current >= self.n:\n",
        "            raise StopIteration\n",
        "        value = self.current\n",
        "        self.current += 2\n",
        "        return value\n",
        "The generator version is cleaner, more concise, and easier to understand.\n",
        "\n",
        "6. State Retention Between Iterations\n",
        "When a generator yields a value, it saves its state, meaning it remembers where it left off, including the values of local variables. This makes it easy to continue from the same point without manually tracking state.\n",
        "Regular functions do not retain their state after returning. If you want to remember the state, you need to manage it explicitly (e.g., using global variables, classes, or external data structures).\n",
        "Example: In a generator:\n",
        "\n",
        "def countdown(start):\n",
        "    while start > 0:\n",
        "        yield start\n",
        "        start -= 1\n",
        "Here, the generator function remembers the value of start between iterations, so you don’t need to manually store it elsewhere.\n",
        "\n",
        "7. Simplified Error Handling\n",
        "Generators handle state transitions and exception handling in a natural way. You don’t need to manually handle state when managing iteration.\n",
        "You can use try-except blocks inside generators, and when the generator is exhausted, it will automatically raise a StopIteration exception. This is much cleaner than manually managing iteration and error handling in non-generator functions.\n",
        "Example of Error Handling with Generators:\n",
        "\n",
        "def safe_divide(numbers, divisor):\n",
        "    for num in numbers:\n",
        "        try:\n",
        "            yield num / divisor\n",
        "        except ZeroDivisionError:\n",
        "            yield 'Division by zero error'\n",
        "\n",
        "for result in safe_divide([10, 20, 30], 0):\n",
        "    print(result)\n",
        "This example demonstrates how generators allow you to yield results while handling exceptions without disrupting the overall iteration flow."
      ],
      "metadata": {
        "id": "XPiDyq53-O-g"
      }
    },
    {
      "cell_type": "markdown",
      "source": [
        "# 8. What is a lambda function in Python and when is it typically used?\n",
        "\n",
        "Ans - A lambda function in Python is a small, anonymous function that is defined using the lambda keyword. Unlike regular functions defined with the def keyword, lambda functions are typically used for simple operations that are short enough to be defined in a single line of code.\n",
        "\n",
        "Key Points:\n",
        "•\tAnonymous: Lambda functions are not bound to a name.\n",
        "•\tSingle Expression: They can contain only one expression, which is evaluated and returned.\n",
        "•\tCompact: Lambda functions are typically used for short functions that can be expressed in a single line of code.\n",
        "\n",
        "Syntax of a Lambda Function:\n",
        "\n",
        "lambda arguments: expression\n",
        "\n",
        "lambda: The keyword that defines a lambda function.\n",
        "arguments: A comma-separated list of parameters (similar to function arguments).\n",
        "expression: A single expression that is evaluated and returned by the function.\n",
        "Example:\n",
        "\n",
        "# A simple lambda function that adds two numbers\n",
        "add = lambda x, y: x + y\n",
        "\n",
        "# Using the lambda function\n",
        "result = add(5, 3)\n",
        "print(result)  # Output: 8\n",
        "In this example:\n",
        "\n",
        "The lambda function lambda x, y: x + y is equivalent to defining a regular function like this:\n",
        "\n",
        "def add(x, y):\n",
        "    return x + y\n",
        "However, the lambda function is more concise and is often used in situations where you need a short, throwaway function.\n"
      ],
      "metadata": {
        "id": "sfXLMhIT-57_"
      }
    },
    {
      "cell_type": "markdown",
      "source": [
        "# 9.  Explain the purpose and usage of the `map()` function in Python.\n",
        "\n",
        "Ans - The map function applies a given function to all items in an input iterable (like a list) and returns an iterator with the results. The map() function in Python is used to apply a specified function to all the items in an iterable (such as a list, tuple, or any other iterable object) and returns a map object (an iterator). This function is particularly useful when you want to apply a transformation to every item in an iterable, without needing to explicitly loop over the iterable yourself.\n",
        "\n",
        "Syntax:\n",
        "\n",
        "map(function, iterable, ...)\n",
        "function: A function that defines the operation to be applied to each item in the iterable. This function takes as input one (or more) arguments and returns a value.\n",
        "iterable: An iterable (such as a list, tuple, or string) whose elements will be passed to the function.\n",
        "... (Optional): map() can take more than one iterable. If multiple iterables are passed, the function should accept as many arguments as there are iterables, and map() will apply the function in parallel across all iterables.\n",
        "How map() Works:\n",
        "The map() function applies the given function to each item in the iterable and returns a map object, which is an iterator.\n",
        "You can convert the map object into other data types like list, tuple, etc., to get the result.\n",
        "Basic Example:\n",
        "Let's say you have a list of numbers and you want to square each number. You can use map() to apply the squaring operation to each number in the list.\n",
        "\n",
        "numbers = [1, 2, 3, 4, 5]\n",
        "\n",
        "# Function to square a number\n",
        "def square(x):\n",
        "    return x ** 2\n",
        "\n",
        "# Using map to apply the square function to each number in the list\n",
        "squared_numbers = map(square, numbers)\n",
        "\n",
        "# Converting the result to a list\n",
        "print(list(squared_numbers))  # Output: [1, 4, 9, 16, 25]\n",
        "Here:\n",
        "\n",
        "The square function is applied to each element of the numbers list.\n",
        "The result is a map object, which is then converted into a list to display the squared values.\n",
        "\n",
        "Returning a Map Object:\n",
        "The map() function returns a map object, which is an iterator.\n",
        "If you want to obtain the result as a list, tuple, or other data types, you need to explicitly convert the map object using list(), tuple(), or other similar functions.\n",
        "\n",
        "numbers = [1, 2, 3, 4]\n",
        "\n",
        "# Using map to apply a lambda that doubles the numbers\n",
        "doubled_numbers = map(lambda x: x * 2, numbers)\n",
        "\n",
        "# Converting to a list to see the result\n",
        "print(list(doubled_numbers))  # Output: [2, 4, 6, 8]\n",
        "\n",
        "map() applies a given function to all the items in an iterable and returns a map object (an iterator).\n",
        "It can take multiple iterables and applies the function in parallel to their elements.\n",
        "It is more memory-efficient than list comprehensions when dealing with large datasets because it uses lazy evaluation.\n",
        "Common use cases include transforming data, processing multiple iterables, and simplifying code.\n",
        "You can convert the resulting map object into a list or other types if needed."
      ],
      "metadata": {
        "id": "a0fibdq1AmYC"
      }
    },
    {
      "cell_type": "markdown",
      "source": [
        "# 10. What is the difference between `map()`, `reduce()`, and `filter()` functions in Python?\n",
        "\n",
        "Ans -\n",
        "\n",
        "1. Map() - Apply a function to every item in the iterable, Output as an iterator with transformed elements. Use in Transforming elements (e.g., squaring each number).\n",
        "\n",
        "2. Reduce() - Apply a binary function cumulatively to the iterable. Output as a single accumulated result. Use in Calculating the sum or product of a sequence of numbers.\n",
        "\n",
        "3. Filter() - Filter elements based on a condition (function returns True or False). Output as An iterator with filtered elements. Use in Filtering even numbers or elements based on a condition.\n",
        "\n",
        "Thus, map() transforms elements, reduce() accumulates them into a single value, and filter() selects elements based on a condition.\n",
        "\n",
        "** In Detail **\n",
        "\n",
        "1. map() function\n",
        "Purpose: The map() function applies a given function to each item in an iterable (e.g., a list) and returns a map object (which is an iterator) of the results.\n",
        "\n",
        "Syntax:\n",
        "\n",
        "map(function, iterable)\n",
        "How it works:\n",
        "\n",
        "It takes two arguments: a function and an iterable.\n",
        "The function is applied to each element of the iterable.\n",
        "Returns an iterator that produces the transformed items.\n",
        "Example:\n",
        "\n",
        "def square(x):\n",
        "    return x * x\n",
        "\n",
        "numbers = [1, 2, 3, 4]\n",
        "result = map(square, numbers)\n",
        "print(list(result))  # Output: [1, 4, 9, 16]\n",
        "2. reduce() function\n",
        "Purpose: The reduce() function is used to accumulate or combine the elements of an iterable into a single result by applying a binary function (a function that takes two arguments) cumulatively to the items in the iterable.\n",
        "\n",
        "Syntax:\n",
        "\n",
        "from functools import reduce\n",
        "reduce(function, iterable)\n",
        "How it works:\n",
        "\n",
        "The function must take two arguments and apply it to the first two elements of the iterable, then take the result and apply the function to the next element, and so on, until all elements are processed.\n",
        "Returns a single value, which is the result of the cumulative operation.\n",
        "Example:\n",
        "\n",
        "from functools import reduce\n",
        "\n",
        "def add(x, y):\n",
        "    return x + y\n",
        "\n",
        "numbers = [1, 2, 3, 4]\n",
        "result = reduce(add, numbers)\n",
        "print(result)  # Output: 10 (1 + 2 + 3 + 4)\n",
        "3. filter() function\n",
        "Purpose: The filter() function filters elements from an iterable based on a function that returns True or False. Only elements for which the function returns True are kept.\n",
        "\n",
        "Syntax:\n",
        "\n",
        "filter(function, iterable)\n",
        "How it works:\n",
        "\n",
        "It takes two arguments: a function and an iterable.\n",
        "The function is applied to each element, and only those elements for which the function returns True are included in the result.\n",
        "Returns an iterator of the filtered items.\n",
        "Example:\n",
        "\n",
        "def is_even(x):\n",
        "    return x % 2 == 0\n",
        "\n",
        "numbers = [1, 2, 3, 4, 5, 6]\n",
        "result = filter(is_even, numbers)\n",
        "print(list(result))  # Output: [2, 4, 6]\n",
        "\n"
      ],
      "metadata": {
        "id": "JZRlf1M-BzbN"
      }
    },
    {
      "cell_type": "markdown",
      "source": [
        "# 11. Using pen & Paper write the internal mechanism for sum operation using  reduce function on this given  list: [47,11,42,13].\n",
        " Ans - The reduce function works as follows:\n",
        "\n",
        "The first two elements of the list are taken and the binary operation (addition) is applied.\n",
        "The result of that operation is then used with the next element of the list.\n",
        "This process continues until the list is reduced to a single value.\n",
        "Example:\n",
        "Let's perform the sum operation using the reduce function step-by-step on the list [47, 11, 42, 13].\n",
        "\n",
        "List: [47, 11, 42, 13]\n",
        "\n",
        "Binary Operation: + (addition)\n",
        "\n",
        "Initial Step (First two elements):\n",
        "\n",
        "47 and 11 are taken from the list.\n",
        "47 + 11 = 58\n",
        "Second Step:\n",
        "\n",
        "The result of the previous operation, 58, is now used with the next element, 42.\n",
        "58 + 42 = 100\n",
        "Third Step:\n",
        "\n",
        "The result of the previous operation, 100, is now used with the last element, 13.\n",
        "100 + 13 = 113\n",
        "After all steps, the final result is 113."
      ],
      "metadata": {
        "id": "ZTdKSZzfFYvq"
      }
    },
    {
      "cell_type": "code",
      "source": [
        "list = [47, 11, 42, 13]\n",
        "step1 = 47 + 11 #47+11=58\n",
        "step2 = 58 + 42 #58+42=100\n",
        "step3 = 100 + 13 #100+13=113\n",
        "print(step3)\n"
      ],
      "metadata": {
        "colab": {
          "base_uri": "https://localhost:8080/"
        },
        "id": "Qv4zP9LvFe1C",
        "outputId": "69478685-19b9-43b6-8f0b-02125c3c3a93"
      },
      "execution_count": 6,
      "outputs": [
        {
          "output_type": "stream",
          "name": "stdout",
          "text": [
            "113\n"
          ]
        }
      ]
    },
    {
      "cell_type": "markdown",
      "source": [
        "# Practical Questions"
      ],
      "metadata": {
        "id": "t7iFcGVgH4Wy"
      }
    },
    {
      "cell_type": "markdown",
      "source": [
        "## 1. Write a Python function that takes a list of numbers as input and returns the sum of all even numbers in the list.\n",
        " Ans -"
      ],
      "metadata": {
        "id": "H37ExrcgH9l_"
      }
    },
    {
      "cell_type": "code",
      "source": [
        "numbers = [47, 11, 42, 13, 24, 30]\n",
        "result = sum_even_numbers(numbers)\n",
        "print(\"Sum of even numbers:\", result)"
      ],
      "metadata": {
        "colab": {
          "base_uri": "https://localhost:8080/"
        },
        "id": "rx9ApX-4IkY_",
        "outputId": "d4bc625d-fda2-4250-c393-7f8132b51a86"
      },
      "execution_count": 10,
      "outputs": [
        {
          "output_type": "stream",
          "name": "stdout",
          "text": [
            "Sum of even numbers: 96\n"
          ]
        }
      ]
    },
    {
      "cell_type": "markdown",
      "source": [
        "## 2. Create a Python function that accepts a string and returns the reverse of that string.\n",
        "\n",
        "Ans -"
      ],
      "metadata": {
        "id": "_FaEXSojJPY4"
      }
    },
    {
      "cell_type": "code",
      "source": [
        "def my_function(x):\n",
        "  return x[::-1]\n",
        "mytxt = my_function(\"pwskills\")\n",
        "print(mytxt)"
      ],
      "metadata": {
        "colab": {
          "base_uri": "https://localhost:8080/"
        },
        "id": "_KvXnBh9Jdlg",
        "outputId": "5e356d7c-723a-418b-ff43-692cda7604ea"
      },
      "execution_count": 24,
      "outputs": [
        {
          "output_type": "stream",
          "name": "stdout",
          "text": [
            "sllikswp\n"
          ]
        }
      ]
    },
    {
      "cell_type": "markdown",
      "source": [
        "## 3. Implement a Python function that takes a list of integers and returns a new list containing the squares of each number."
      ],
      "metadata": {
        "id": "R9f3OWeCMP9w"
      }
    },
    {
      "cell_type": "code",
      "source": [
        "def square_numbers(input_list):\n",
        "    # Using list comprehension to return a list of squares\n",
        "    return [x ** 2 for x in input_list]\n",
        "\n",
        "# Example usage:\n",
        "numbers = [6,7,8,9,10]\n",
        "squared_numbers = square_numbers(numbers)\n",
        "print(squared_numbers)"
      ],
      "metadata": {
        "colab": {
          "base_uri": "https://localhost:8080/"
        },
        "id": "ULTqQNvVNR-f",
        "outputId": "e0d24225-15c0-47fe-f771-76ea36a5b253"
      },
      "execution_count": 4,
      "outputs": [
        {
          "output_type": "stream",
          "name": "stdout",
          "text": [
            "[36, 49, 64, 81, 100]\n"
          ]
        }
      ]
    },
    {
      "cell_type": "markdown",
      "source": [],
      "metadata": {
        "id": "q3Yvdyo6Ospz"
      }
    },
    {
      "cell_type": "markdown",
      "source": [],
      "metadata": {
        "id": "mC6sb4AhOxa5"
      }
    },
    {
      "cell_type": "markdown",
      "source": [
        "## 4. Write a Python function that checks if a given number is prime or not from 1 to 200.\n"
      ],
      "metadata": {
        "id": "StKO2bMXNkCQ"
      }
    },
    {
      "cell_type": "code",
      "source": [
        "def is_prime(number):\n",
        "    # Check for numbers less than 2\n",
        "    if number < 2:\n",
        "        return False\n",
        "    # Check divisibility from 2 to the square root of the number\n",
        "    for i in range(2, int(number**0.5) + 1):\n",
        "        if number % i == 0:\n",
        "            return False\n",
        "    return True\n",
        "\n",
        "# Example usage:\n",
        "for num in range(1, 201):\n",
        "    if is_prime(num):\n",
        "        print(num, \"is a prime number\")"
      ],
      "metadata": {
        "colab": {
          "base_uri": "https://localhost:8080/"
        },
        "id": "D5y8wRrpNrdo",
        "outputId": "21e585a4-a500-4bcd-ea5f-c5058ce0083b"
      },
      "execution_count": 2,
      "outputs": [
        {
          "output_type": "stream",
          "name": "stdout",
          "text": [
            "2 is a prime number\n",
            "3 is a prime number\n",
            "5 is a prime number\n",
            "7 is a prime number\n",
            "11 is a prime number\n",
            "13 is a prime number\n",
            "17 is a prime number\n",
            "19 is a prime number\n",
            "23 is a prime number\n",
            "29 is a prime number\n",
            "31 is a prime number\n",
            "37 is a prime number\n",
            "41 is a prime number\n",
            "43 is a prime number\n",
            "47 is a prime number\n",
            "53 is a prime number\n",
            "59 is a prime number\n",
            "61 is a prime number\n",
            "67 is a prime number\n",
            "71 is a prime number\n",
            "73 is a prime number\n",
            "79 is a prime number\n",
            "83 is a prime number\n",
            "89 is a prime number\n",
            "97 is a prime number\n",
            "101 is a prime number\n",
            "103 is a prime number\n",
            "107 is a prime number\n",
            "109 is a prime number\n",
            "113 is a prime number\n",
            "127 is a prime number\n",
            "131 is a prime number\n",
            "137 is a prime number\n",
            "139 is a prime number\n",
            "149 is a prime number\n",
            "151 is a prime number\n",
            "157 is a prime number\n",
            "163 is a prime number\n",
            "167 is a prime number\n",
            "173 is a prime number\n",
            "179 is a prime number\n",
            "181 is a prime number\n",
            "191 is a prime number\n",
            "193 is a prime number\n",
            "197 is a prime number\n",
            "199 is a prime number\n"
          ]
        }
      ]
    },
    {
      "cell_type": "markdown",
      "source": [
        "## 5. Create an iterator class in Python that generates the Fibonacci sequence up to a specified number of terms.\n"
      ],
      "metadata": {
        "id": "wJm8xIPXOEct"
      }
    },
    {
      "cell_type": "code",
      "source": [
        "class FibonacciIterator:\n",
        "    def __init__(self, terms):\n",
        "        # Initialize the number of terms and the first two Fibonacci numbers\n",
        "        self.terms = terms\n",
        "        self.a, self.b = 0, 1\n",
        "        self.count = 0\n",
        "\n",
        "    def __iter__(self):\n",
        "        return self\n",
        "\n",
        "    def __next__(self):\n",
        "        # If we have reached the specified number of terms, stop the iteration\n",
        "        if self.count >= self.terms:\n",
        "            raise StopIteration\n",
        "        # Return the next Fibonacci number and update the numbers\n",
        "        self.count += 1\n",
        "        self.a, self.b = self.b, self.a + self.b\n",
        "        return self.a\n",
        "\n",
        "# Example usage:\n",
        "fibonacci = FibonacciIterator(10)  # Generate first 10 Fibonacci numbers\n",
        "for num in fibonacci:\n",
        "    print(num)"
      ],
      "metadata": {
        "colab": {
          "base_uri": "https://localhost:8080/"
        },
        "id": "Cy8w_aAFOM6O",
        "outputId": "0aa36b22-15e6-48e8-e3d1-2396b6a15d3b"
      },
      "execution_count": 3,
      "outputs": [
        {
          "output_type": "stream",
          "name": "stdout",
          "text": [
            "1\n",
            "1\n",
            "2\n",
            "3\n",
            "5\n",
            "8\n",
            "13\n",
            "21\n",
            "34\n",
            "55\n"
          ]
        }
      ]
    },
    {
      "cell_type": "markdown",
      "source": [
        "## 6. Write a generator function in Python that yields the powers of 2 up to a given exponent.\n"
      ],
      "metadata": {
        "id": "WfpOcM_3O3Mp"
      }
    },
    {
      "cell_type": "code",
      "source": [
        "def powers_of_2(exponent):\n",
        "    for i in range(exponent + 1):\n",
        "        yield 2 ** i\n",
        "\n",
        "# Example usage:\n",
        "for power in powers_of_2(5):\n",
        "    print(power)"
      ],
      "metadata": {
        "colab": {
          "base_uri": "https://localhost:8080/"
        },
        "id": "n8tR0D2gO8O8",
        "outputId": "b25efacb-6dd4-4228-c82c-85d7be9a7013"
      },
      "execution_count": 7,
      "outputs": [
        {
          "output_type": "stream",
          "name": "stdout",
          "text": [
            "1\n",
            "2\n",
            "4\n",
            "8\n",
            "16\n",
            "32\n"
          ]
        }
      ]
    },
    {
      "cell_type": "markdown",
      "source": [
        "## 7. Implement a generator function that reads a file line by line and yields each line as a string.\n"
      ],
      "metadata": {
        "id": "nW_pNf5xPRnE"
      }
    },
    {
      "cell_type": "code",
      "source": [],
      "metadata": {
        "id": "j8w13fxCXocE"
      },
      "execution_count": null,
      "outputs": []
    },
    {
      "cell_type": "code",
      "source": [
        "file_path = 'your_file.txt'\n",
        "\n",
        "for line in read_file_line_by_line(file_path):\n",
        "    print(line)  # prints each line from the file"
      ],
      "metadata": {
        "id": "Byx3XFLGXou7"
      },
      "execution_count": null,
      "outputs": []
    },
    {
      "cell_type": "code",
      "source": [
        "def read_file_line_by_line(file_path):\n",
        "    with open(file_path, 'r') as file:\n",
        "        for line in file:\n",
        "            yield line.strip()  # strip() removes the newline character"
      ],
      "metadata": {
        "id": "z6MmkfoVXpy9"
      },
      "execution_count": 43,
      "outputs": []
    },
    {
      "cell_type": "markdown",
      "source": [
        "## 8. Use a lambda function in Python to sort a list of tuples based on the second element of each tuple.\n",
        "\n",
        "\n"
      ],
      "metadata": {
        "id": "bpkiEYaNX1HI"
      }
    },
    {
      "cell_type": "code",
      "source": [
        "# List of tuples\n",
        "tuples_list = [(1, 3), (2, 1), (3, 2), (4, 5)]\n",
        "\n",
        "# Sorting using lambda to sort by the second element of each tuple\n",
        "sorted_list = sorted(tuples_list, key=lambda x: x[1])\n",
        "\n",
        "# Print the sorted list\n",
        "print(sorted_list)"
      ],
      "metadata": {
        "colab": {
          "base_uri": "https://localhost:8080/"
        },
        "id": "BBr0IAyWYJg2",
        "outputId": "85bdc47c-3bd7-4fd6-ca0b-887fb307ef0f"
      },
      "execution_count": 44,
      "outputs": [
        {
          "output_type": "stream",
          "name": "stdout",
          "text": [
            "[(2, 1), (3, 2), (1, 3), (4, 5)]\n"
          ]
        }
      ]
    },
    {
      "cell_type": "markdown",
      "source": [
        "## 9.  Write a Python program that uses `map()` to convert a list of temperatures from Celsius to Fahrenheit.\n"
      ],
      "metadata": {
        "id": "ETMAiGThYSWP"
      }
    },
    {
      "cell_type": "code",
      "source": [
        "# List of temperatures in Celsius\n",
        "celsius_temps = [0, 10, 20, 30, 40]\n",
        "\n",
        "# Function to convert Celsius to Fahrenheit\n",
        "def celsius_to_fahrenheit(celsius):\n",
        "    return (9/5) * celsius + 32\n",
        "\n",
        "# Use map() to apply the conversion to each element in the list\n",
        "fahrenheit_temps = list(map(celsius_to_fahrenheit, celsius_temps))\n",
        "\n",
        "# Print the result\n",
        "print(fahrenheit_temps)"
      ],
      "metadata": {
        "colab": {
          "base_uri": "https://localhost:8080/"
        },
        "id": "TOJGdZDfYVgm",
        "outputId": "d4aaf744-bc93-4182-a7dd-c214f89667f2"
      },
      "execution_count": 46,
      "outputs": [
        {
          "output_type": "stream",
          "name": "stdout",
          "text": [
            "[32.0, 50.0, 68.0, 86.0, 104.0]\n"
          ]
        }
      ]
    },
    {
      "cell_type": "markdown",
      "source": [
        "## 10. Create a Python program that uses `filter()` to remove all the vowels from a given string.\n"
      ],
      "metadata": {
        "id": "AwZZ8PlJYz8f"
      }
    },
    {
      "cell_type": "code",
      "source": [
        "# Input string\n",
        "input_string = \"Hello, World!\"\n",
        "\n",
        "# Define a function to check if a character is not a vowel\n",
        "def is_not_vowel(char):\n",
        "    return char.lower() not in 'aeiou'\n",
        "\n",
        "# Use filter() to remove vowels from the string\n",
        "filtered_string = ''.join(filter(is_not_vowel, input_string))\n",
        "\n",
        "# Print the result\n",
        "print(filtered_string)"
      ],
      "metadata": {
        "colab": {
          "base_uri": "https://localhost:8080/"
        },
        "id": "4XQVfTupY-1R",
        "outputId": "6ebe5da5-5fad-475c-fb22-c7e3b2f344a7"
      },
      "execution_count": 47,
      "outputs": [
        {
          "output_type": "stream",
          "name": "stdout",
          "text": [
            "Hll, Wrld!\n"
          ]
        }
      ]
    },
    {
      "cell_type": "markdown",
      "source": [
        "## 11. Imagine an accounting routine used in a book shop. It works on a list with sublists, which look like this:\n",
        " Write a Python program, which returns a list with 2-tuples. Each tuple consists of the order number and the\n",
        "product of the price per item and the quantity. The product should be increased by 10,- € if the value of the\n",
        "order is smaller than 100,00 €.\n",
        " Write a Python program using lambda and map."
      ],
      "metadata": {
        "id": "SdFp3PK4ZPT7"
      }
    },
    {
      "cell_type": "code",
      "source": [
        "Sample data: list of orders in the format [order_number, price_per_item, quantity]\n",
        "orders = [\n",
        "    [34587, 40.95, 4],    # Order 1: 20 * 3 = 60\n",
        "    [98762, 56.80, 5],    # Order 2: 50 * 1 = 50\n",
        "    [77226, 32.95, 3],   # Order 3: 100 * 2 = 200\n",
        "    [88112, 24.99, 3]     # Order 4: 30 * 4 = 120\n",
        "]\n",
        "\n",
        "# Function to process the orders\n",
        "def process_order(order):\n",
        "    order_number, price_per_item, quantity = order\n",
        "    total_price = price_per_item * quantity\n",
        "    if total_price < 100:\n",
        "        total_price += 10  # Increase by 10€ if the total price is less than 100€\n",
        "    return (order_number, total_price)\n",
        "\n",
        "# Use map() with a lambda function to process each order\n",
        "result = list(map(lambda order: (order[0], order[1] * order[2] + 10 if order[1] * order[2] < 100 else order[1] * order[2]), orders))\n",
        "\n",
        "# Print the result\n",
        "print(result)"
      ],
      "metadata": {
        "colab": {
          "base_uri": "https://localhost:8080/",
          "height": 110
        },
        "id": "VL97gBVHapCR",
        "outputId": "a839b3b0-f43e-4853-c40c-4e41e38bf362"
      },
      "execution_count": 48,
      "outputs": [
        {
          "output_type": "error",
          "ename": "SyntaxError",
          "evalue": "invalid syntax (<ipython-input-48-1da318f3677b>, line 1)",
          "traceback": [
            "\u001b[0;36m  File \u001b[0;32m\"<ipython-input-48-1da318f3677b>\"\u001b[0;36m, line \u001b[0;32m1\u001b[0m\n\u001b[0;31m    Sample data: list of orders in the format [order_number, price_per_item, quantity]\u001b[0m\n\u001b[0m           ^\u001b[0m\n\u001b[0;31mSyntaxError\u001b[0m\u001b[0;31m:\u001b[0m invalid syntax\n"
          ]
        }
      ]
    }
  ]
}