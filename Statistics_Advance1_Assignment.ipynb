{
  "nbformat": 4,
  "nbformat_minor": 0,
  "metadata": {
    "colab": {
      "provenance": [],
      "authorship_tag": "ABX9TyMM09hIy7wm17isPCpK/Si4",
      "include_colab_link": true
    },
    "kernelspec": {
      "name": "python3",
      "display_name": "Python 3"
    },
    "language_info": {
      "name": "python"
    }
  },
  "cells": [
    {
      "cell_type": "markdown",
      "metadata": {
        "id": "view-in-github",
        "colab_type": "text"
      },
      "source": [
        "<a href=\"https://colab.research.google.com/github/Rashmiacekiper/Assignment-1/blob/main/Statistics_Advance1_Assignment.ipynb\" target=\"_parent\"><img src=\"https://colab.research.google.com/assets/colab-badge.svg\" alt=\"Open In Colab\"/></a>"
      ]
    },
    {
      "cell_type": "markdown",
      "source": [
        "**# Statistics Advance Part 1**\n",
        "\n",
        "## Q 1. What is a random variable in probability theory?\n",
        "\n",
        " Ans- In probability theory, a **random variable** is a variable that takes on different values, each with a certain probability, depending on the outcome of a random experiment or process. It essentially maps the outcomes of a random event to numerical values.\n",
        "\n",
        "There are two main types of random variables:\n",
        "\n",
        "1. **Discrete random variable**: Takes on a finite or countably infinite number of possible values. For example, the number of heads when flipping a coin three times (can be 0, 1, 2, or 3).\n",
        "\n",
        "2. **Continuous random variable**: Takes on an infinite number of possible values within a given range. For example, the exact height of a person, which could be any value within a range of possible values (e.g., 5.6 feet, 5.61 feet, etc.).\n",
        "\n",
        "The probability distribution of a random variable tells us the likelihood of each possible outcome. For discrete random variables, this is typically represented by a **probability mass function** (PMF), while for continuous variables, it’s represented by a **probability density function** (PDF).\n",
        "\n",
        "## Q 2. What are the types of random variables?\n",
        "\n",
        "Ans- The two main types of random variables are:\n",
        "\n",
        "1. **Discrete random variable**: Takes on a countable number of distinct values. Example: The number of heads in a coin flip.\n",
        "\n",
        "2. **Continuous random variable**: Takes on an infinite number of values within a range. Example: The height of a person, measured to any degree of precision.\n",
        "\n",
        "## Q 3. What is the difference between discrete and continuous distributions?\n",
        "\n",
        "Ans- The key difference between discrete and continuous distributions is:\n",
        "\n",
        "- **Discrete distribution**: Deals with random variables that take on **countable** values (e.g., number of heads in coin flips). Probabilities are assigned to specific outcomes.\n",
        "\n",
        "- **Continuous distribution**: Deals with random variables that take on **uncountably infinite** values within a range (e.g., height, time). Probabilities are represented by areas under a curve, since exact values have zero probability.\n",
        "\n",
        "## Q 4.  What are probability distribution functions (PDF)?\n",
        "\n",
        "Ans- A **Probability Distribution Function (PDF)** describes the likelihood of a random variable taking on a particular value or range of values.\n",
        "\n",
        "There are two types:\n",
        "\n",
        "1. **For Discrete Random Variables**: The **Probability Mass Function (PMF)** is used. It gives the probability that a discrete random variable is exactly equal to some value. The sum of all probabilities in the PMF must equal 1.\n",
        "\n",
        "2. **For Continuous Random Variables**: The **Probability Density Function (PDF)** is used. It shows the likelihood of the random variable falling within a particular range. For continuous variables, the probability of any exact value is zero; instead, we calculate probabilities over an interval by finding the area under the curve of the PDF.\n",
        "\n",
        "In both cases, the PDF provides a complete description of the distribution of a random variable.\n",
        "\n",
        "## Q 5. How do cumulative distribution functions (CDF) differ from probability distribution functions (PDF)?\n",
        "\n",
        "Ans- The key difference between a **Cumulative Distribution Function (CDF)** and a **Probability Distribution Function (PDF)** lies in what they represent:\n",
        "\n",
        "1. **PDF (Probability Distribution Function)**:\n",
        "   - Represents the **probability density** at a specific point for continuous variables (or probability at a specific value for discrete variables).\n",
        "   - For continuous variables, the probability of the variable taking an exact value is always 0. Instead, the PDF gives the density, and probabilities are calculated over ranges by integrating the PDF.\n",
        "   - For discrete variables, the PDF (technically called a PMF) gives the probability of the variable taking specific values.\n",
        "\n",
        "2. **CDF (Cumulative Distribution Function)**:\n",
        "   - Represents the **cumulative probability** that the random variable is less than or equal to a certain value.\n",
        "   - It is a non-decreasing function that starts at 0 and asymptotically approaches 1 as the value of the random variable increases.\n",
        "   - The CDF provides the cumulative probability for any value, whether for discrete or continuous variables.\n",
        "\n",
        "### Summary:\n",
        "- **PDF** shows how the probability is distributed at each point (density for continuous, specific probabilities for discrete).\n",
        "- **CDF** shows the cumulative probability up to a given point, giving the probability that the variable is less than or equal to that point.\n"
      ],
      "metadata": {
        "id": "SSsGYK-T0SWL"
      }
    }
  ]
}