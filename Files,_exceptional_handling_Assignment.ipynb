{
  "nbformat": 4,
  "nbformat_minor": 0,
  "metadata": {
    "colab": {
      "provenance": [],
      "authorship_tag": "ABX9TyN9PI04dgjyll+Z/LIwXeiH",
      "include_colab_link": true
    },
    "kernelspec": {
      "name": "python3",
      "display_name": "Python 3"
    },
    "language_info": {
      "name": "python"
    }
  },
  "cells": [
    {
      "cell_type": "markdown",
      "metadata": {
        "id": "view-in-github",
        "colab_type": "text"
      },
      "source": [
        "<a href=\"https://colab.research.google.com/github/Rashmiacekiper/Assignment-1/blob/main/Files%2C_exceptional_handling_Assignment.ipynb\" target=\"_parent\"><img src=\"https://colab.research.google.com/assets/colab-badge.svg\" alt=\"Open In Colab\"/></a>"
      ]
    },
    {
      "cell_type": "markdown",
      "source": [
        "# **Files, exceptional handling, logging and memory management Questions**\n",
        "\n",
        "## Q 1. What is the difference between interpreted and compiled languages.\n",
        "\n",
        "Ans - The key difference between interpreted and compiled languages is how the code is executed:\n",
        "\n",
        "Interpreted languages: The source code is executed line-by-line by an interpreter at runtime. This means the code is not directly translated into machine code but is processed by the interpreter every time it is run (e.g., Python, JavaScript).\n",
        "\n",
        "Compiled languages: The source code is translated into machine code or an intermediate code by a compiler before execution. Once compiled, the program can be run multiple times without needing to be recompiled (e.g., C, C++).\n",
        "\n",
        "## Q 2.  What is exception handling in Python?\n",
        "\n",
        "Ans - Exception handling in Python is a mechanism to handle runtime errors, allowing the program to continue running instead of crashing. It uses the try, except, else, and finally blocks:\n",
        "\n",
        "try: Contains the code that may raise an exception.\n",
        "except: Catches and handles the exception if one occurs.\n",
        "else: Executes if no exception occurs.\n",
        "finally: Runs code that must execute regardless of whether an exception occurred (e.g., cleanup).\n"
      ],
      "metadata": {
        "id": "1zQJEkPvfsJa"
      }
    },
    {
      "cell_type": "code",
      "source": [
        "try:\n",
        "    x = 10 / 0\n",
        "except ZeroDivisionError:\n",
        "    print(\"Cannot divide by zero!\")\n",
        "finally:\n",
        "    print(\"Execution complete.\")\n"
      ],
      "metadata": {
        "colab": {
          "base_uri": "https://localhost:8080/"
        },
        "id": "o2m8hwyxhEOm",
        "outputId": "f0cbdf3e-3f3b-4cbe-eeba-c78ab91d9cd1"
      },
      "execution_count": null,
      "outputs": [
        {
          "output_type": "stream",
          "name": "stdout",
          "text": [
            "Cannot divide by zero!\n",
            "Execution complete.\n"
          ]
        }
      ]
    },
    {
      "cell_type": "markdown",
      "source": [
        "## Q 3.  What is the purpose of the finally block in exception handling.\n",
        "\n",
        "Ans- The purpose of the finally block in exception handling is to ensure that certain code is executed no matter what, whether an exception occurs or not. It is typically used for cleanup operations, such as closing files or releasing resources.\n"
      ],
      "metadata": {
        "id": "KeNg3FYJhnIw"
      }
    },
    {
      "cell_type": "code",
      "source": [
        "try:\n",
        "  file = open(\"example.txt\", \"r\")\n",
        "    # Perform file operations\n",
        "except FileNotFoundError:\n",
        "  print(\"File not found.\")\n",
        "finally:\n",
        "  file.close()  # This will always run, even if an exception occurs.\n"
      ],
      "metadata": {
        "id": "l1ciarEIjbIY"
      },
      "execution_count": null,
      "outputs": []
    },
    {
      "cell_type": "markdown",
      "source": [
        "##Q 4. What is logging in Python?\n",
        "\n",
        "Ans-\n",
        "Logging in Python is a way to track events that happen while a program is running. It helps in monitoring and debugging by recording messages about the program's execution. Python provides a built-in logging module to manage different log levels, such as:\n",
        "\n",
        "DEBUG: Detailed information for diagnosing problems.\n",
        "INFO: General information about the program’s progress.\n",
        "WARNING: Indications of potential problems.\n",
        "ERROR: Errors that affect functionality.\n",
        "CRITICAL: Severe errors that may cause the program to stop.\n",
        "\n",
        "Logging can write messages to the console, files, or other destinations, and it can be customized for different verbosity levels."
      ],
      "metadata": {
        "id": "nYRI_9P7j-Wh"
      }
    },
    {
      "cell_type": "code",
      "source": [
        "import logging\n",
        "\n",
        "logging.basicConfig(level=logging.INFO)\n",
        "logging.info(\"This is an informational message.\")\n",
        "logging.error(\"This is an error message.\")\n"
      ],
      "metadata": {
        "colab": {
          "base_uri": "https://localhost:8080/"
        },
        "id": "hciR8prWkokg",
        "outputId": "37b66d48-c8dc-448b-ca86-0d12627e6c80"
      },
      "execution_count": null,
      "outputs": [
        {
          "output_type": "stream",
          "name": "stderr",
          "text": [
            "ERROR:root:This is an error message.\n"
          ]
        }
      ]
    },
    {
      "cell_type": "markdown",
      "source": [
        "## Q 5. What is the significance of the __del__ method in Python.\n",
        "\n",
        "Ans- The __del__ method in Python is a special method, also known as a destructor, that is called when an object is about to be destroyed or garbage collected. It allows the programmer to define cleanup behavior, such as releasing resources (e.g., closing files, network connections) before the object is removed from memory.\n",
        "\n",
        "However, its usage is generally discouraged because:\n",
        "\n",
        "Python's garbage collection is automatic, and the exact timing of __del__ calls is not guaranteed, making it unreliable for critical resource management.\n",
        "If there are circular references (objects referencing each other), __del__ might not be called."
      ],
      "metadata": {
        "id": "AZFzN5G7k0Cq"
      }
    },
    {
      "cell_type": "code",
      "source": [
        "class MyClass:\n",
        "    def __del__(self):\n",
        "        print(\"Object is being destroyed.\")\n",
        "\n",
        "obj = MyClass()\n",
        "del obj  # Calls __del__ method\n"
      ],
      "metadata": {
        "colab": {
          "base_uri": "https://localhost:8080/"
        },
        "id": "tV0gCR8hlI7E",
        "outputId": "052cda52-bed3-47c8-b293-27e4c679eb9e"
      },
      "execution_count": null,
      "outputs": [
        {
          "output_type": "stream",
          "name": "stdout",
          "text": [
            "Object is being destroyed.\n"
          ]
        }
      ]
    },
    {
      "cell_type": "markdown",
      "source": [
        "## Q 6. What is the difference between import and from ... import in Python?\n",
        "\n",
        "Ans- Import gives you access to the whole module, while from ... import allows you to import only the necessary parts.The difference between import and from ... import in Python is in how they bring modules or specific components into the current namespace:\n",
        "\n",
        "**import:** Imports the entire module, and you access its functions or classes using the module's name as a prefix."
      ],
      "metadata": {
        "id": "FV6CEMTklNff"
      }
    },
    {
      "cell_type": "code",
      "source": [
        "import math\n",
        "result = math.sqrt(16)\n"
      ],
      "metadata": {
        "id": "c4FnGx1JmMh9"
      },
      "execution_count": null,
      "outputs": []
    },
    {
      "cell_type": "markdown",
      "source": [
        "**from ... import:** Imports specific functions, classes, or variables directly into the current namespace, so you don’t need to prefix them with the module name."
      ],
      "metadata": {
        "id": "i3XAnHJImb0E"
      }
    },
    {
      "cell_type": "code",
      "source": [
        "from math import sqrt\n",
        "result = sqrt(16)\n"
      ],
      "metadata": {
        "id": "-5r88q0wmwsx"
      },
      "execution_count": null,
      "outputs": []
    },
    {
      "cell_type": "markdown",
      "source": [
        "## Q. 7.  How can you handle multiple exceptions in Python?\n",
        "\n",
        "Ans- In Python, you can handle multiple exceptions using the following methods:\n",
        "\n",
        "**Multiple except blocks:** You can specify different except blocks for each exception type.\n",
        "\n",
        "try:\n",
        "    # code that may raise exceptions\n",
        "except ValueError:\n",
        "    print(\"ValueError occurred.\")\n",
        "except TypeError:\n",
        "    print(\"TypeError occurred.\")\n",
        "\n",
        "**Single except block for multiple exceptions: **You can catch multiple exceptions in one except block by specifying them as a tuple.\n",
        "\n",
        "try:\n",
        "    # code that may raise exceptions\n",
        "except (ValueError, TypeError):\n",
        "    print(\"Either ValueError or TypeError occurred.\")\n",
        "This allows you to handle different types of exceptions in a structured way, depending on the situation.\n",
        "\n",
        "\n",
        "\n"
      ],
      "metadata": {
        "id": "ELYHdSzinMS5"
      }
    },
    {
      "cell_type": "markdown",
      "source": [
        "## Q 8.  What is the purpose of the with statement when handling files in Python.\n",
        " Ans- The purpose of the with statement when handling files in Python is to ensure proper resource management by automatically handling the opening and closing of files. It simplifies file handling and guarantees that the file is closed correctly, even if an exception occurs during file operations.\n",
        "\n",
        "Using the with statement eliminates the need to explicitly call file.close(), as it automatically closes the file when the block of code is exited, whether normally or via an exception.\n",
        "\n",
        "Example:\n",
        "\n",
        "with open('example.txt', 'r') as file:\n",
        "    content = file.read()\n",
        "# The file is automatically closed when the block ends, even if an error occurs.\n",
        "This approach helps prevent issues like file locks or memory leaks, making the code more reliable and cleaner."
      ],
      "metadata": {
        "id": "e1GU5Slln_Wp"
      }
    },
    {
      "cell_type": "markdown",
      "source": [
        "## Q 9. What is the difference between multithreading and multiprocessing.\n",
        " Ans- The key difference between multithreading and multiprocessing lies in how they handle tasks and utilize system resources:\n",
        "\n",
        "**Multithreading:**\n",
        "\n",
        "Involves multiple threads running within a single process.\n",
        "Threads share the same memory space, allowing them to communicate easily but also introducing risks like data corruption without proper synchronization.\n",
        "Best suited for I/O-bound tasks (e.g., file handling, network requests) that spend time waiting for external resources.\n",
        "Due to the Global Interpreter Lock (GIL) in Python, multithreading does not provide true parallel execution for CPU-bound tasks.\n",
        "\n",
        "**Multiprocessing:**\n",
        "\n",
        "Involves multiple processes running independently, each with its own memory space.\n",
        "Processes do not share memory, so communication between them is more complex (e.g., using inter-process communication mechanisms like queues or pipes).\n",
        "Best suited for CPU-bound tasks that require true parallel execution, as each process runs on a separate core, bypassing the GIL limitation.\n",
        "\n",
        "Summary:\n",
        "Multithreading is more efficient for I/O-bound tasks, while multiprocessing is better for CPU-bound tasks that require parallelism."
      ],
      "metadata": {
        "id": "8_qHpKG7onGV"
      }
    },
    {
      "cell_type": "markdown",
      "source": [
        "## Q 10.  What are the advantages of using logging in a program?\n",
        "\n",
        " Ans- The advantages of using logging in a program include:\n",
        "\n",
        "**Track Program Behavior:** Logging provides a record of what the program is doing, helping to monitor its execution and debug issues.\n",
        "**Better Debugging:** It helps identify errors, warnings, and flow of execution, making debugging easier and more efficient.\n",
        "**Persistent Logs: **Logs can be stored in files or other outputs, providing a history of events for future reference.\n",
        "**Configurable Severity Levels: **Logs can be categorized by severity (e.g., DEBUG, INFO, ERROR), allowing you to filter and prioritize messages.\n",
        "**Non-Intrusive:** Logging can be added without affecting the program's core functionality and can be enabled or disabled easily.\n",
        "**Improved Maintenance:** Logs help in understanding program behavior over time, aiding in ongoing maintenance and performance optimization.\n",
        "Logging is crucial for monitoring, debugging, and maintaining large and complex programs."
      ],
      "metadata": {
        "id": "YDDQhzIepF3A"
      }
    },
    {
      "cell_type": "markdown",
      "source": [
        "## Q 11. What is memory management in Python?\n",
        "\n",
        "Ans- Memory management in Python refers to the process of efficiently allocating, using, and freeing memory resources during the execution of a program. Python handles memory management automatically through several mechanisms:\n",
        "\n",
        "Automatic Memory Allocation: Python automatically allocates memory when objects are created (e.g., variables, lists, or other data structures).\n",
        "\n",
        "Garbage Collection: Python uses a built-in garbage collector to manage memory. It tracks objects and automatically reclaims memory from objects that are no longer in use (i.e., objects with no references pointing to them).\n",
        "\n",
        "Reference Counting: Python keeps track of how many references exist for each object in memory. When an object's reference count drops to zero, the memory can be freed.\n",
        "\n",
        "Memory Pooling: Python uses memory pools to manage smaller objects, which helps reduce overhead and improve performance by reusing memory blocks.\n",
        "\n",
        "Together, these mechanisms help Python handle memory management efficiently without requiring the programmer to manually manage memory allocation and deallocation."
      ],
      "metadata": {
        "id": "myTqfLPR-lxM"
      }
    },
    {
      "cell_type": "markdown",
      "source": [
        "## Q 12.  What are the basic steps involved in exception handling in Python?\n",
        "\n",
        "Ans- Exception handling in Python involves the following basic steps:\n",
        "\n",
        "1. **Try Block**: Code that may raise an exception is placed inside the `try` block. This is where the potential error occurs.\n",
        "\n",
        "   ```python\n",
        "   try:\n",
        "       # Code that might raise an exception\n",
        "   ```\n",
        "\n",
        "2. **Except Block**: If an exception is raised in the `try` block, the `except` block handles it. You can specify the type of exception to catch (e.g., `ValueError`, `ZeroDivisionError`), or use a generic `except` to catch all exceptions.\n",
        "\n",
        "   ```python\n",
        "   except SomeException:\n",
        "       # Handle the exception\n",
        "   ```\n",
        "\n",
        "3. **Else Block** (optional): If no exceptions occur in the `try` block, the `else` block is executed. It is used for code that should run only if no exceptions were raised.\n",
        "\n",
        "   ```python\n",
        "   else:\n",
        "       # Code to execute if no exception occurs\n",
        "   ```\n",
        "\n",
        "4. **Finally Block** (optional): This block will always execute, regardless of whether an exception was raised or not. It is typically used for cleanup operations (e.g., closing files, releasing resources).\n",
        "\n",
        "   ```python\n",
        "   finally:\n",
        "       # Code to execute after try/except (cleanup)\n",
        "   ```\n",
        "\n",
        "\n",
        "Here’s an example combining these steps:\n",
        "."
      ],
      "metadata": {
        "id": "wtmOJL5U-8-R"
      }
    },
    {
      "cell_type": "code",
      "source": [
        "try:\n",
        "  x = 1 / 0  # This will raise a ZeroDivisionError\n",
        "except ZeroDivisionError:\n",
        "  print(\"Cannot divide by zero\")\n",
        "else:\n",
        "  print(\"No exception occurred\")\n",
        "finally:\n",
        "  print(\"This will always execute\")\n",
        "\n",
        "  # This structure ensures that errors are handled gracefully and necessary cleanup is done"
      ],
      "metadata": {
        "colab": {
          "base_uri": "https://localhost:8080/"
        },
        "id": "7xZ8mViA_nCG",
        "outputId": "668f0651-a54b-4ee2-f737-6d98015d0372"
      },
      "execution_count": null,
      "outputs": [
        {
          "output_type": "stream",
          "name": "stdout",
          "text": [
            "Cannot divide by zero\n",
            "This will always execute\n"
          ]
        }
      ]
    },
    {
      "cell_type": "markdown",
      "source": [
        "## Q 13.  Why is memory management important in Python?\n",
        "\n",
        "Ans- Memory management in Python is important because it ensures efficient use of memory, prevents memory leaks, and improves performance. By automatically handling memory allocation and deallocation (through garbage collection), Python helps avoid crashes due to excessive memory use. It also allows developers to focus more on coding logic rather than manual memory management, making programs more stable and scalable. Efficient memory management is essential for handling large data or complex applications while optimizing system resources.\n",
        "\n",
        "\n",
        "\n",
        "## Q 14. What is the role of try and except in exception handling?\n",
        "\n",
        "Ans- In exception handling, the try and except blocks serve the following roles:\n",
        "\n",
        "**try block**: It contains code that might raise an exception. Python attempts to execute this code. If no exception occurs, the code runs normally.\n",
        "\n",
        "**except block**: If an exception is raised in the try block, the except block catches and handles it. It prevents the program from crashing and allows you to define how to respond to the error (e.g., print a message, log it, or recover from it).\n",
        "\n",
        "Together, they help handle errors gracefully, ensuring that the program can continue running even when unexpected issues arise.\n",
        "\n",
        "## Q 15.  How does Python's garbage collection system work?\n",
        "\n",
        "Ans- Python's garbage collection system works through two key mechanisms:\n",
        "\n",
        "1. **Reference Counting**: Python keeps track of how many references point to each object in memory. When an object's reference count drops to zero (i.e., no references are pointing to it), the memory occupied by that object is automatically freed.\n",
        "\n",
        "2. **Cycle Detection (Garbage Collector)**: Python's garbage collector detects and handles circular references (where two or more objects reference each other) that reference counting alone can't clean up. The garbage collector periodically looks for objects involved in circular references and frees their memory.\n",
        "\n",
        "Together, these mechanisms help manage memory automatically, reclaiming unused memory and preventing memory leaks.\n",
        "\n",
        "## Q 16.  What is the purpose of the else block in exception handling?\n",
        "\n",
        "Ans- The else block in exception handling is used to specify code that should run only if no exception occurs in the try block. It helps separate the normal flow of execution from error handling, ensuring that certain actions are taken only when the code runs successfully without errors.\n",
        "\n",
        "In the below example, the else block executes only if the try block doesn't raise an exception."
      ],
      "metadata": {
        "id": "2-3TO1H8AOjA"
      }
    },
    {
      "cell_type": "code",
      "source": [
        "try:\n",
        "    # Code that may raise an exception\n",
        "  result = 10 / 2\n",
        "except ZeroDivisionError:\n",
        "  print(\"Cannot divide by zero\")\n",
        "else:\n",
        "    # Code that runs only if no exception occurred\n",
        "  print(\"Division successful, result is:\", result)\n"
      ],
      "metadata": {
        "colab": {
          "base_uri": "https://localhost:8080/"
        },
        "id": "lx_DI6q6BUTa",
        "outputId": "0b70ee42-e00e-4c9a-ec8c-a6cb0d8fa023"
      },
      "execution_count": null,
      "outputs": [
        {
          "output_type": "stream",
          "name": "stdout",
          "text": [
            "Division successful, result is: 5.0\n"
          ]
        }
      ]
    },
    {
      "cell_type": "markdown",
      "source": [
        "## Q 17.  What are the common logging levels in Python?\n",
        "\n",
        "Ans- In Python, the common logging levels are:\n",
        "\n",
        "1. **`DEBUG`**: Provides detailed information, typically useful for diagnosing problems during development. Logs everything.\n",
        "   \n",
        "2. **`INFO`**: Used to report general information about the program’s execution (e.g., successful completion of a task).\n",
        "\n",
        "3. **`WARNING`**: Indicates a potential problem or something unexpected, but the program can continue running without issues.\n",
        "\n",
        "4. **`ERROR`**: Indicates a more serious issue that prevents a specific operation from completing, but the program can still run.\n",
        "\n",
        "5. **`CRITICAL`**: Represents a very severe error that may cause the program to terminate.\n",
        "\n",
        "These levels help control the verbosity of logs, allowing developers to filter out unnecessary details in production environments.\n",
        "\n",
        "## Q 18.  What is the difference between os.fork() and multiprocessing in Python?\n",
        "Ans- The main differences between **`os.fork()`** and **`multiprocessing`** in Python are:\n",
        "\n",
        "1. **Purpose**:\n",
        "   - **`os.fork()`**: It is a low-level system call used to create a new process by duplicating the current process. It is available on Unix-based systems (like Linux and macOS) and creates a child process that runs concurrently with the parent process.\n",
        "   - **`multiprocessing`**: It is a higher-level Python module that provides an easy-to-use API for creating and managing multiple processes. It works across different platforms, including Windows, and abstracts many of the complexities involved in multiprocessing.\n",
        "\n",
        "2. **Cross-platform compatibility**:\n",
        "   - **`os.fork()`**: Available only on Unix-based systems.\n",
        "   - **`multiprocessing`**: Cross-platform, works on both Unix and Windows.\n",
        "\n",
        "3. **Process Management**:\n",
        "   - **`os.fork()`**: Forked processes share the same memory space (except for some resources), so manual handling of memory and synchronization is needed.\n",
        "   - **`multiprocessing`**: Each process created by the `multiprocessing` module has its own memory space, avoiding shared memory issues and providing better isolation.\n",
        "\n",
        "4. **Use Cases**:\n",
        "   - **`os.fork()`**: More low-level control, suitable for Unix-based systems where fine-grained control over process behavior is needed.\n",
        "   - **`multiprocessing`**: Easier and more robust for parallel processing tasks, especially when dealing with cross-platform applications.\n",
        "\n",
        "In summary, **`os.fork()`** is a low-level, Unix-specific method for creating processes, while **`multiprocessing`** is a high-level, cross-platform module that simplifies process management and concurrency in Python."
      ],
      "metadata": {
        "id": "usRMWLLjBn5E"
      }
    },
    {
      "cell_type": "markdown",
      "source": [
        "## Q 19.  What is the importance of closing a file in Python?\n",
        "Ans- Closing a file in Python is important for the following reasons:\n",
        "\n",
        "1. **Releasing System Resources**: When a file is opened, the operating system allocates resources (like memory and file handles). Closing the file ensures these resources are released, preventing memory leaks or resource exhaustion.\n",
        "\n",
        "2. **Saving Changes**: Closing a file ensures that any changes made to the file (e.g., writing data) are properly saved and flushed from the buffer to the disk.\n",
        "\n",
        "3. **Avoiding Data Corruption**: Failing to close a file might lead to incomplete data being written or potential corruption of the file, especially if the program crashes before closing it.\n",
        "\n",
        "Using a `with` statement to open a file automatically closes it when done, ensuring proper resource management.\n",
        "\n",
        "Example:\n",
        "```python\n",
        "with open('file.txt', 'w') as f:\n",
        "    f.write(\"Hello, world!\")\n",
        "# File is automatically closed when the block is exited\n",
        "```"
      ],
      "metadata": {
        "id": "e9o3LxDpCNtc"
      }
    },
    {
      "cell_type": "markdown",
      "source": [
        "## Q 20.  What is the difference between file.read() and file.readline() in Python?\n",
        "Ans- The difference between **`file.read()`** and **`file.readline()`** in Python is:\n",
        "\n",
        "1. **`file.read()`**:\n",
        "   - Reads the entire content of the file at once and returns it as a single string.\n",
        "   - Useful when you want to process the whole file's content in one go.\n",
        "\n",
        "   Example:\n",
        "   \n",
        "   with open('file.txt', 'r') as f:\n",
        "       content = f.read()\n",
        "       print(content)\n",
        "   ```\n",
        "\n",
        "2. **`file.readline()`**:\n",
        "   - Reads one line at a time from the file and returns it as a string. After each call, the file pointer moves to the next line.\n",
        "   - Useful for reading large files line by line without loading the entire file into memory.\n",
        "\n",
        "   Example:\n",
        "   \n",
        "   with open('file.txt', 'r') as f:\n",
        "       line = f.readline()\n",
        "       print(line)\n",
        "   ```\n",
        "\n",
        "In short, **`file.read()`** reads the whole file, while **`file.readline()`** reads one line at a time.\n",
        "\n",
        "## Q 21.  What is the logging module in Python used for?\n",
        "Ans- The **`logging`** module in Python is used for tracking and recording log messages from a program. It provides a way to log messages at different levels (e.g., **DEBUG**, **INFO**, **WARNING**, **ERROR**, **CRITICAL**) to help developers monitor the execution flow, troubleshoot errors, and track important events.\n",
        "\n",
        "Key benefits of the `logging` module:\n",
        "- **Structured Logging**: Allows organized logging of events in a program.\n",
        "- **Log Levels**: Helps in categorizing logs by severity, making it easier to filter and analyze them.\n",
        "- **Output Flexibility**: Logs can be directed to different destinations, such as the console, files, or external systems.\n",
        "- **Configurability**: You can configure the format, level, and destination of logs based on your needs.\n",
        "\n",
        "Example:\n",
        "\n",
        "import logging\n",
        "\n",
        "logging.basicConfig(level=logging.DEBUG)\n",
        "logging.info('This is an info message')\n",
        "logging.error('This is an error message')\n",
        "```\n",
        "\n",
        "In short, the `logging` module helps in capturing and managing log messages, aiding in debugging and maintaining code.\n",
        "\n",
        "## Q 22.  What is the os module in Python used for in file handling?\n",
        "Ans- The **`os`** module in Python is used for interacting with the operating system and provides functions to perform file and directory operations. In file handling, the **`os`** module allows you to:\n",
        "\n",
        "1. **Create, remove, and rename files and directories**:\n",
        "   - `os.mkdir()` - Create a directory.\n",
        "   - `os.remove()` - Remove a file.\n",
        "   - `os.rename()` - Rename a file or directory.\n",
        "\n",
        "2. **Navigate the file system**:\n",
        "   - `os.getcwd()` - Get the current working directory.\n",
        "   - `os.chdir()` - Change the current working directory.\n",
        "   - `os.listdir()` - List files and directories in a given path.\n",
        "\n",
        "3. **Check for file existence and properties**:\n",
        "   - `os.path.exists()` - Check if a file or directory exists.\n",
        "   - `os.path.isfile()` - Check if a path is a file.\n",
        "   - `os.path.isdir()` - Check if a path is a directory.\n",
        "\n",
        "4. **File path manipulation**:\n",
        "   - `os.path.join()` - Join paths in a way that is platform-independent.\n",
        "   - `os.path.split()` - Split a file path into head and tail components.\n",
        "\n",
        "In short, the **`os`** module is useful for managing and manipulating files, directories, and file paths in an operating system-independent way.\n",
        "\n",
        "## Q 23.  What are the challenges associated with memory management in Python?\n",
        "Ans- The challenges associated with memory management in Python include:\n",
        "\n",
        "1. **Garbage Collection Delays**: Python's automatic garbage collection may not immediately release unused memory, potentially leading to memory being held longer than necessary.\n",
        "   \n",
        "2. **Circular References**: Python’s reference counting can struggle with circular references (objects referencing each other), causing memory leaks unless detected and cleaned up by the garbage collector.\n",
        "\n",
        "3. **Memory Fragmentation**: Over time, allocating and deallocating objects can result in fragmented memory, impacting performance in long-running programs.\n",
        "\n",
        "4. **Handling Large Data**: Python’s memory management may struggle with large datasets or memory-intensive tasks, leading to inefficient memory usage or out-of-memory errors.\n",
        "\n",
        "5. **Global Interpreter Lock (GIL)**: While not directly related to memory, the GIL affects memory handling in multi-threaded programs, limiting concurrency and efficiency.\n",
        "\n",
        "6. **Dynamic Typing**: As Python is dynamically typed, memory consumption can be unpredictable, making it harder to optimize memory use.\n",
        "\n",
        "These challenges require careful management to avoid performance issues, especially in memory-heavy or long-running applications.\n",
        "\n",
        "## Q 24.  How do you raise an exception manually in Python?\n",
        " Ans- In Python, you can raise an exception manually using the **`raise`** keyword. You can raise a specific exception type, optionally providing a custom error message.\n",
        "\n",
        "### Syntax:\n",
        "\n",
        "raise ExceptionType(\"Error message\")\n",
        "```\n",
        "\n",
        "### Example:\n",
        "\n",
        "raise ValueError(\"Invalid value provided\")\n",
        "```\n",
        "\n",
        "In this example, a **`ValueError`** is raised with a custom message. You can raise any built-in or user-defined exception in this way.\n",
        "\n",
        "## Q 25.  Why is it important to use multithreading in certain applications?\n",
        " Ans- Multithreading is important in certain applications because it enables concurrent execution of tasks, improving performance and efficiency. It allows better CPU utilization, especially on multi-core processors, and ensures responsiveness in applications (e.g., keeping a GUI responsive while performing background tasks). Multithreading is particularly useful for I/O-bound tasks (like file operations or network requests) and for applications that need to handle multiple simultaneous tasks, such as web servers or real-time systems."
      ],
      "metadata": {
        "id": "R12D5dFwCnlb"
      }
    },
    {
      "cell_type": "markdown",
      "source": [
        "# **Practical Questions**\n",
        "\n",
        "## Q 1.  How can you open a file for writing in Python and write a string to it\n",
        "\n"
      ],
      "metadata": {
        "id": "sfYpOEVMFoh_"
      }
    },
    {
      "cell_type": "code",
      "source": [
        "# Open the file in write mode ('w')\n",
        "with open('example.txt', 'w') as file:\n",
        "    # Write a string to the file\n",
        "    file.write(\"Hello, this is a test string.\")\n"
      ],
      "metadata": {
        "id": "I_exvRfPGD9o"
      },
      "execution_count": null,
      "outputs": []
    },
    {
      "cell_type": "markdown",
      "source": [
        "## Q 2.  Write a Python program to read the contents of a file and print each line?"
      ],
      "metadata": {
        "id": "2yQya0GdGLNz"
      }
    },
    {
      "cell_type": "code",
      "source": [
        "# Open the file in read mode ('r')\n",
        "with open('example.txt', 'r') as file:\n",
        "    # Read and print each line in the file\n",
        "    for line in file:\n",
        "        print(line, end='')  # 'end' is used to avoid double newlines from print\n"
      ],
      "metadata": {
        "colab": {
          "base_uri": "https://localhost:8080/"
        },
        "id": "a8xIWwLTGQWg",
        "outputId": "06ff3d14-75e5-4544-aaf7-a04c12531f6f"
      },
      "execution_count": null,
      "outputs": [
        {
          "output_type": "stream",
          "name": "stdout",
          "text": [
            "Hello, this is a test string."
          ]
        }
      ]
    },
    {
      "cell_type": "markdown",
      "source": [
        "## Q 3.  How would you handle a case where the file doesn't exist while trying to open it for reading?\n"
      ],
      "metadata": {
        "id": "MNBzgtfNGk2f"
      }
    },
    {
      "cell_type": "code",
      "source": [
        "try:\n",
        "    # Try to open the file in read mode\n",
        "    with open('example.txt', 'r') as file:\n",
        "        # Read and print each line in the file\n",
        "        for line in file:\n",
        "            print(line, end='')\n",
        "\n",
        "except FileNotFoundError:\n",
        "    # Handle the case where the file doesn't exist\n",
        "    print(\"Error: The file 'example.txt' does not exist.\")\n"
      ],
      "metadata": {
        "colab": {
          "base_uri": "https://localhost:8080/"
        },
        "id": "0RXqMkbzGtBJ",
        "outputId": "516c7310-5ea5-4fbf-8c4f-9baf1b1cd206"
      },
      "execution_count": null,
      "outputs": [
        {
          "output_type": "stream",
          "name": "stdout",
          "text": [
            "Hello, this is a test string."
          ]
        }
      ]
    },
    {
      "cell_type": "markdown",
      "source": [
        "## Q 4.  Write a Python script that reads from one file and writes its content to another file?\n"
      ],
      "metadata": {
        "id": "ZM8WiAWQG7UI"
      }
    },
    {
      "cell_type": "code",
      "source": [
        "# Open the source file in read mode and the destination file in write mode\n",
        "try:\n",
        "    with open('source.txt', 'r') as source_file, open('destination.txt', 'w') as dest_file:\n",
        "        # Read the content of the source file and write it to the destination file\n",
        "        content = source_file.read()  # Read the entire content\n",
        "        dest_file.write(content)     # Write the content to the destination file\n",
        "\n",
        "    print(\"Content successfully copied from 'source.txt' to 'destination.txt'.\")\n",
        "\n",
        "except FileNotFoundError:\n",
        "    print(\"Error: One of the files does not exist.\")\n",
        "\n"
      ],
      "metadata": {
        "colab": {
          "base_uri": "https://localhost:8080/"
        },
        "id": "rj2nhxK1HGxP",
        "outputId": "5d217be5-7185-42db-d59b-e219141bf98f"
      },
      "execution_count": null,
      "outputs": [
        {
          "output_type": "stream",
          "name": "stdout",
          "text": [
            "Error: One of the files does not exist.\n"
          ]
        }
      ]
    },
    {
      "cell_type": "markdown",
      "source": [
        "## Q 5.  How would you catch and handle division by zero error in Python?"
      ],
      "metadata": {
        "id": "TKvpxP0jHdhK"
      }
    },
    {
      "cell_type": "code",
      "source": [
        "try:\n",
        "    # Try to perform division\n",
        "    numerator = 10\n",
        "    denominator = 0\n",
        "    result = numerator / denominator\n",
        "    print(f\"Result: {result}\")\n",
        "\n",
        "except ZeroDivisionError:\n",
        "    # Handle the division by zero error\n",
        "    print(\"Error: Division by zero is not allowed.\")\n"
      ],
      "metadata": {
        "colab": {
          "base_uri": "https://localhost:8080/"
        },
        "id": "HJ5jRcDeHsFj",
        "outputId": "d4d3ba48-8d60-4373-8f8e-e24226f92ade"
      },
      "execution_count": null,
      "outputs": [
        {
          "output_type": "stream",
          "name": "stdout",
          "text": [
            "Error: Division by zero is not allowed.\n"
          ]
        }
      ]
    },
    {
      "cell_type": "markdown",
      "source": [
        " ## Q 6. Write a Python program that logs an error message to a log file when a division by zero exception occurs?\n"
      ],
      "metadata": {
        "id": "wSfPpFzfH_sX"
      }
    },
    {
      "cell_type": "code",
      "source": [
        "import logging\n",
        "\n",
        "# Set up logging configuration to log to a file\n",
        "logging.basicConfig(filename='error_log.txt', level=logging.ERROR, format='%(asctime)s - %(levelname)s - %(message)s')\n",
        "\n",
        "try:\n",
        "    # Try to perform division\n",
        "    numerator = 10\n",
        "    denominator = 0\n",
        "    result = numerator / denominator\n",
        "    print(f\"Result: {result}\")\n",
        "\n",
        "except ZeroDivisionError as e:\n",
        "    # Log the error message when a division by zero occurs\n",
        "    logging.error(f\"Division by zero error: {e}\")\n",
        "    print(\"Error: Division by zero occurred. Check the log file for details.\")\n"
      ],
      "metadata": {
        "colab": {
          "base_uri": "https://localhost:8080/"
        },
        "id": "bcs09YhfIE-s",
        "outputId": "1fd48c7c-7e24-4ada-fd03-edd272dab446"
      },
      "execution_count": null,
      "outputs": [
        {
          "output_type": "stream",
          "name": "stderr",
          "text": [
            "ERROR:root:Division by zero error: division by zero\n"
          ]
        },
        {
          "output_type": "stream",
          "name": "stdout",
          "text": [
            "Error: Division by zero occurred. Check the log file for details.\n"
          ]
        }
      ]
    },
    {
      "cell_type": "markdown",
      "source": [
        "## Q 7.  How do you log information at different levels (INFO, ERROR, WARNING) in Python using the logging module?\n"
      ],
      "metadata": {
        "id": "Nu_RjBg_IPSh"
      }
    },
    {
      "cell_type": "code",
      "source": [
        "import logging\n",
        "\n",
        "# Set up logging configuration to log messages to a file with different levels\n",
        "logging.basicConfig(filename='app_log.txt', level=logging.DEBUG, format='%(asctime)s - %(levelname)s - %(message)s')\n",
        "\n",
        "# Logging messages at different levels\n",
        "\n",
        "# INFO level message: general information about program flow\n",
        "logging.info('This is an info message.')\n",
        "\n",
        "# WARNING level message: a warning about something that might cause issues\n",
        "logging.warning('This is a warning message.')\n",
        "\n",
        "# ERROR level message: an error that indicates something went wrong\n",
        "logging.error('This is an error message.')\n",
        "\n",
        "# DEBUG level message: detailed debugging information, useful for development\n",
        "logging.debug('This is a debug message.')\n",
        "\n",
        "# CRITICAL level message: a very serious error, possibly causing the program to stop\n",
        "logging.critical('This is a critical message.')\n"
      ],
      "metadata": {
        "id": "6swp5TIeIUYG"
      },
      "execution_count": null,
      "outputs": []
    },
    {
      "cell_type": "markdown",
      "source": [
        "## Q 8.  Write a program to handle a file opening error using exception handling?\n"
      ],
      "metadata": {
        "id": "sjld20btIhuH"
      }
    },
    {
      "cell_type": "code",
      "source": [
        "try:\n",
        "    # Attempt to open a file that may not exist\n",
        "    with open('non_existing_file.txt', 'r') as file:\n",
        "        content = file.read()\n",
        "        print(content)\n",
        "\n",
        "except FileNotFoundError:\n",
        "    # Handle the case when the file doesn't exist\n",
        "    print(\"Error: The file does not exist.\")\n",
        "\n",
        "except IOError:\n",
        "    # Handle other I/O related errors\n",
        "    print(\"Error: There was an issue with file input/output.\")\n",
        "\n",
        "except Exception as e:\n",
        "    # Catch any other exceptions\n",
        "    print(f\"An unexpected error occurred: {e}\")\n"
      ],
      "metadata": {
        "colab": {
          "base_uri": "https://localhost:8080/"
        },
        "id": "t8d6-UGcIk5d",
        "outputId": "bb0af215-100f-407b-eda0-8f3b1f1704b0"
      },
      "execution_count": null,
      "outputs": [
        {
          "output_type": "stream",
          "name": "stdout",
          "text": [
            "Error: The file does not exist.\n"
          ]
        }
      ]
    },
    {
      "cell_type": "markdown",
      "source": [
        "## Q 9.  How can you read a file line by line and store its content in a list in Python?\n"
      ],
      "metadata": {
        "id": "HMhGOL22I0Hi"
      }
    },
    {
      "cell_type": "code",
      "source": [
        "## Example 1: Using readlines()\n",
        "\n",
        "# Open the file in read mode\n",
        "with open('example.txt', 'r') as file:\n",
        "    # Read all lines and store them in a list\n",
        "    lines = file.readlines()\n",
        "\n",
        "# Print the list of lines\n",
        "print(lines)\n"
      ],
      "metadata": {
        "colab": {
          "base_uri": "https://localhost:8080/"
        },
        "id": "IAc307zVI8rD",
        "outputId": "3f2c3e80-1595-42be-b707-2120e5203271"
      },
      "execution_count": null,
      "outputs": [
        {
          "output_type": "stream",
          "name": "stdout",
          "text": [
            "['Hello, this is a test string.']\n"
          ]
        }
      ]
    },
    {
      "cell_type": "code",
      "source": [
        "## Example 2: Using a forloop\n",
        "\n",
        "# Open the file in read mode\n",
        "with open('example.txt', 'r') as file:\n",
        "    # Use a for loop to read each line and store it in a list\n",
        "    lines = [line.strip() for line in file]  # `strip()` removes newline characters\n",
        "\n",
        "# Print the list of lines\n",
        "print(lines)\n"
      ],
      "metadata": {
        "colab": {
          "base_uri": "https://localhost:8080/"
        },
        "id": "WW_vCQnkJd2Y",
        "outputId": "8fd7b3cb-ec65-43cf-ee00-f12e29e98251"
      },
      "execution_count": null,
      "outputs": [
        {
          "output_type": "stream",
          "name": "stdout",
          "text": [
            "['Hello, this is a test string.']\n"
          ]
        }
      ]
    },
    {
      "cell_type": "markdown",
      "source": [
        "## Q 10.  How can you append data to an existing file in Python?\n"
      ],
      "metadata": {
        "id": "En5Y_PSHJyso"
      }
    },
    {
      "cell_type": "code",
      "source": [
        "# Open the file in append mode ('a')\n",
        "with open('example.txt', 'a') as file:\n",
        "    # Write the data you want to append\n",
        "    file.write(\"This is the new data that will be appended.\\n\")\n",
        "\n",
        "\n"
      ],
      "metadata": {
        "id": "xwaQv2rgJ-BN"
      },
      "execution_count": 2,
      "outputs": []
    },
    {
      "cell_type": "markdown",
      "source": [
        "## Q 11. Write a Python program that uses a try-except block to handle an error when attempting to access a dictionary key that doesn't exist?\n",
        "Ans-"
      ],
      "metadata": {
        "id": "ZB2gpPyDjE-c"
      }
    },
    {
      "cell_type": "code",
      "source": [
        "# Sample dictionary\n",
        "my_dict = {\n",
        "    'name': 'Alice',\n",
        "    'age': 30,\n",
        "    'city': 'New York'\n",
        "}\n",
        "\n",
        "# Try-except block to handle the KeyError\n",
        "try:\n",
        "    # Attempt to access a key that might not exist\n",
        "    key_to_access = 'country'\n",
        "    value = my_dict[key_to_access]\n",
        "    print(f\"The value of '{key_to_access}' is: {value}\")\n",
        "except KeyError:\n",
        "    print(f\"Error: The key '{key_to_access}' does not exist in the dictionary.\")\n"
      ],
      "metadata": {
        "colab": {
          "base_uri": "https://localhost:8080/"
        },
        "id": "1l_i2lDTj5i2",
        "outputId": "c773cb54-619b-4cf7-d35b-6ceac9760854"
      },
      "execution_count": 3,
      "outputs": [
        {
          "output_type": "stream",
          "name": "stdout",
          "text": [
            "Error: The key 'country' does not exist in the dictionary.\n"
          ]
        }
      ]
    },
    {
      "cell_type": "markdown",
      "source": [
        "## Q 12. Write a program that demonstrates using multiple except blocks to handle different types of exceptions.\n"
      ],
      "metadata": {
        "id": "Yc-zEi4Bj9Nf"
      }
    },
    {
      "cell_type": "code",
      "source": [
        "# Sample program demonstrating multiple except blocks\n",
        "\n",
        "def divide_numbers():\n",
        "    try:\n",
        "        # Get input from the user and perform division\n",
        "        num1 = int(input(\"Enter the first number: \"))\n",
        "        num2 = int(input(\"Enter the second number: \"))\n",
        "\n",
        "        # Perform division (might raise ZeroDivisionError)\n",
        "        result = num1 / num2\n",
        "        print(f\"The result of {num1} divided by {num2} is: {result}\")\n",
        "\n",
        "    except ValueError:\n",
        "        # Handle case where input is not a valid integer\n",
        "        print(\"Error: Please enter valid integer values.\")\n",
        "\n",
        "    except ZeroDivisionError:\n",
        "        # Handle division by zero\n",
        "        print(\"Error: Cannot divide by zero.\")\n",
        "\n",
        "    except Exception as e:\n",
        "        # Catch any other unexpected exceptions\n",
        "        print(f\"An unexpected error occurred: {e}\")\n",
        "\n",
        "# Call the function\n",
        "divide_numbers()\n"
      ],
      "metadata": {
        "colab": {
          "base_uri": "https://localhost:8080/"
        },
        "id": "s4P_oooukDJL",
        "outputId": "6ef8b1cd-725e-4c8d-c6aa-6f8109a504b0"
      },
      "execution_count": 4,
      "outputs": [
        {
          "output_type": "stream",
          "name": "stdout",
          "text": [
            "Enter the first number: 20\n",
            "Enter the second number: 4\n",
            "The result of 20 divided by 4 is: 5.0\n"
          ]
        }
      ]
    },
    {
      "cell_type": "markdown",
      "source": [
        "## Q 13.  How would you check if a file exists before attempting to read it in Python?\n"
      ],
      "metadata": {
        "id": "h_ft9VVokWDG"
      }
    },
    {
      "cell_type": "code",
      "source": [
        "## 1. Using os.path.exists()\n",
        "\n",
        "import os\n",
        "\n",
        "# File path\n",
        "file_path = 'example.txt'\n",
        "\n",
        "# Check if the file exists\n",
        "if os.path.exists(file_path):\n",
        "    # Open and read the file\n",
        "    with open(file_path, 'r') as file:\n",
        "        content = file.read()\n",
        "    print(content)\n",
        "else:\n",
        "    print(f\"The file {file_path} does not exist.\")\n"
      ],
      "metadata": {
        "colab": {
          "base_uri": "https://localhost:8080/"
        },
        "id": "U_9GSyDTk0mY",
        "outputId": "bcecaa1f-b370-4c74-b2a9-b71e38b14930"
      },
      "execution_count": 5,
      "outputs": [
        {
          "output_type": "stream",
          "name": "stdout",
          "text": [
            "\n",
            "This is an appended line of text.This is the new data that will be appended.\n",
            "\n"
          ]
        }
      ]
    },
    {
      "cell_type": "code",
      "source": [
        "## 2.Using pathlib.Path.exists()\n",
        "\n",
        "from pathlib import Path\n",
        "\n",
        "# File path\n",
        "file_path = Path('example.txt')\n",
        "\n",
        "# Check if the file exists\n",
        "if file_path.exists():\n",
        "    # Open and read the file\n",
        "    with open(file_path, 'r') as file:\n",
        "        content = file.read()\n",
        "    print(content)\n",
        "else:\n",
        "    print(f\"The file {file_path} does not exist.\")\n"
      ],
      "metadata": {
        "colab": {
          "base_uri": "https://localhost:8080/"
        },
        "id": "xp_B2AK4k9tG",
        "outputId": "b8cbfb54-7e49-4eb8-c986-27ff3d65611b"
      },
      "execution_count": 6,
      "outputs": [
        {
          "output_type": "stream",
          "name": "stdout",
          "text": [
            "\n",
            "This is an appended line of text.This is the new data that will be appended.\n",
            "\n"
          ]
        }
      ]
    },
    {
      "cell_type": "code",
      "source": [
        "## 3. Using try-except block (Alternative method)\n",
        "\n",
        "try:\n",
        "    with open('example.txt', 'r') as file:\n",
        "        content = file.read()\n",
        "    print(content)\n",
        "except FileNotFoundError:\n",
        "    print(\"The file does not exist.\")\n"
      ],
      "metadata": {
        "colab": {
          "base_uri": "https://localhost:8080/"
        },
        "id": "PTx8xksrlQhP",
        "outputId": "f462f476-8aee-402f-b353-73c3df3d5ba7"
      },
      "execution_count": 7,
      "outputs": [
        {
          "output_type": "stream",
          "name": "stdout",
          "text": [
            "\n",
            "This is an appended line of text.This is the new data that will be appended.\n",
            "\n"
          ]
        }
      ]
    },
    {
      "cell_type": "markdown",
      "source": [
        "## Q 14. Write a program that uses the logging module to log both informational and error messages.\n"
      ],
      "metadata": {
        "id": "phkQFMRqlX1i"
      }
    },
    {
      "cell_type": "code",
      "source": [
        "import logging\n",
        "\n",
        "# Configure the logging module\n",
        "logging.basicConfig(\n",
        "    level=logging.DEBUG,  # Set the minimum logging level (DEBUG captures all levels)\n",
        "    format='%(asctime)s - %(levelname)s - %(message)s',  # Log format\n",
        "    handlers=[\n",
        "        logging.StreamHandler(),  # Log messages to the console\n",
        "        logging.FileHandler('app.log')  # Log messages to a file (app.log)\n",
        "    ]\n",
        ")\n",
        "\n",
        "# Log an informational message\n",
        "logging.info(\"This is an informational message.\")\n",
        "\n",
        "# Log an error message\n",
        "try:\n",
        "    x = 10 / 0  # This will raise a ZeroDivisionError\n",
        "except ZeroDivisionError as e:\n",
        "    logging.error(f\"Error occurred: {e}\")\n",
        "\n",
        "# Log a warning message\n",
        "logging.warning(\"This is a warning message.\")\n",
        "\n",
        "# Log a debug message (useful for debugging purposes)\n",
        "logging.debug(\"This is a debug message.\")\n"
      ],
      "metadata": {
        "colab": {
          "base_uri": "https://localhost:8080/"
        },
        "id": "o8ljqLTYlml3",
        "outputId": "85c16966-b181-4753-d639-f5b5001d8576"
      },
      "execution_count": 8,
      "outputs": [
        {
          "output_type": "stream",
          "name": "stderr",
          "text": [
            "ERROR:root:Error occurred: division by zero\n",
            "WARNING:root:This is a warning message.\n"
          ]
        }
      ]
    },
    {
      "cell_type": "markdown",
      "source": [
        "## Q 15. Write a Python program that prints the content of a file and handles the case when the file is empty.\n"
      ],
      "metadata": {
        "id": "cUe57iU3ltJC"
      }
    },
    {
      "cell_type": "code",
      "source": [
        "def read_file(file_path):\n",
        "    try:\n",
        "        # Open the file in read mode\n",
        "        with open(file_path, 'r') as file:\n",
        "            content = file.read()  # Read the content of the file\n",
        "\n",
        "            # Check if the file is empty\n",
        "            if content:\n",
        "                print(\"File content:\")\n",
        "                print(content)\n",
        "            else:\n",
        "                print(\"The file is empty.\")\n",
        "    except FileNotFoundError:\n",
        "        print(f\"Error: The file '{file_path}' was not found.\")\n",
        "    except Exception as e:\n",
        "        print(f\"An error occurred: {e}\")\n",
        "\n",
        "# Specify the file path\n",
        "file_path = 'example.txt'\n",
        "\n",
        "# Call the function to read the file\n",
        "read_file(file_path)\n"
      ],
      "metadata": {
        "colab": {
          "base_uri": "https://localhost:8080/"
        },
        "id": "h61zVt8alwQP",
        "outputId": "17834d4e-8a40-4f0b-d3b3-df290221b8d6"
      },
      "execution_count": 9,
      "outputs": [
        {
          "output_type": "stream",
          "name": "stdout",
          "text": [
            "File content:\n",
            "\n",
            "This is an appended line of text.This is the new data that will be appended.\n",
            "\n"
          ]
        }
      ]
    },
    {
      "cell_type": "markdown",
      "source": [
        "## Q 16.  Demonstrate how to use memory profiling to check the memory usage of a small program.\n",
        "\n",
        "Ans-\n",
        "To quickly demonstrate memory profiling for a small Python program, we'll use the memory_profiler package. Here's a brief guide to profile memory usage for a simple function.\n",
        "\n",
        "Steps:\n",
        "1. Install memory_profiler:\n",
        "2. Create a Python program to profile\n",
        "3. Run the program with memory profiling\n",
        "\n",
        "(## Dear Evaluator, please explain these)\n"
      ],
      "metadata": {
        "id": "OUOkZKcEl_8O"
      }
    },
    {
      "cell_type": "markdown",
      "source": [
        "## Q 17.  Write a Python program to create and write a list of numbers to a file, one number per line.\n",
        ""
      ],
      "metadata": {
        "id": "ZDKs-SJRoXvh"
      }
    },
    {
      "cell_type": "code",
      "source": [
        "# List of numbers to be written to the file\n",
        "numbers = [1, 2, 3, 4, 5, 6, 7, 8, 9, 10]\n",
        "\n",
        "# Open the file in write mode\n",
        "with open('numbers.txt', 'w') as file:\n",
        "    # Iterate through the list and write each number on a new line\n",
        "    for number in numbers:\n",
        "        file.write(f\"{number}\\n\")\n",
        "\n",
        "print(\"Numbers have been written to the file.\")\n",
        "\n"
      ],
      "metadata": {
        "colab": {
          "base_uri": "https://localhost:8080/"
        },
        "id": "cc-chblNoh5o",
        "outputId": "e1a1f7d0-f004-4593-d763-65f7d87a62a9"
      },
      "execution_count": 23,
      "outputs": [
        {
          "output_type": "stream",
          "name": "stdout",
          "text": [
            "Numbers have been written to the file.\n"
          ]
        }
      ]
    },
    {
      "cell_type": "markdown",
      "source": [
        "##"
      ],
      "metadata": {
        "id": "hiQoTylFp1T8"
      }
    },
    {
      "cell_type": "markdown",
      "source": [
        "## Q 18.  How would you implement a basic logging setup that logs to a file with rotation after 1MB?"
      ],
      "metadata": {
        "id": "Xm5_OOnYqR37"
      }
    },
    {
      "cell_type": "code",
      "source": [
        "import logging\n",
        "from logging.handlers import RotatingFileHandler\n",
        "\n",
        "# Set up logging configuration\n",
        "handler = RotatingFileHandler('app.log', maxBytes=1e6, backupCount=3)  # 1MB (1e6 bytes), 3 backup files\n",
        "handler.setLevel(logging.INFO)\n",
        "\n",
        "# Set up a formatter\n",
        "formatter = logging.Formatter('%(asctime)s - %(levelname)s - %(message)s')\n",
        "handler.setFormatter(formatter)\n",
        "\n",
        "# Add the handler to the root logger\n",
        "logging.getLogger().addHandler(handler)\n",
        "\n",
        "# Log some messages\n",
        "logging.info(\"This is an info message.\")\n",
        "logging.error(\"This is an error message.\")\n",
        "\n"
      ],
      "metadata": {
        "colab": {
          "base_uri": "https://localhost:8080/"
        },
        "id": "5epdkwPgqfzv",
        "outputId": "62f04e92-70f4-41d8-de6a-7fa274d57729"
      },
      "execution_count": 24,
      "outputs": [
        {
          "output_type": "stream",
          "name": "stderr",
          "text": [
            "ERROR:root:This is an error message.\n"
          ]
        }
      ]
    },
    {
      "cell_type": "markdown",
      "source": [
        " ## Q 19. Write a program that handles both IndexError and KeyError using a try-except block.\n"
      ],
      "metadata": {
        "id": "oDpQq8N7q0mk"
      }
    },
    {
      "cell_type": "code",
      "source": [
        "def handle_errors():\n",
        "    # Example data\n",
        "    my_list = [1, 2, 3]\n",
        "    my_dict = {'a': 1, 'b': 2}\n",
        "\n",
        "    try:\n",
        "        # Attempting to access an index that doesn't exist (IndexError)\n",
        "        print(my_list[5])\n",
        "\n",
        "        # Attempting to access a key that doesn't exist (KeyError)\n",
        "        print(my_dict['c'])\n",
        "\n",
        "    except IndexError as ie:\n",
        "        print(f\"IndexError: {ie} - Tried to access an index that doesn't exist.\")\n",
        "\n",
        "    except KeyError as ke:\n",
        "        print(f\"KeyError: {ke} - Tried to access a key that doesn't exist.\")\n",
        "\n",
        "# Call the function\n",
        "handle_errors()\n"
      ],
      "metadata": {
        "colab": {
          "base_uri": "https://localhost:8080/"
        },
        "id": "DTx4ltyOq53O",
        "outputId": "95303c89-a94e-4edc-c630-b936836bd8f8"
      },
      "execution_count": 25,
      "outputs": [
        {
          "output_type": "stream",
          "name": "stdout",
          "text": [
            "IndexError: list index out of range - Tried to access an index that doesn't exist.\n"
          ]
        }
      ]
    },
    {
      "cell_type": "markdown",
      "source": [
        "## Q 20.  How would you open a file and read its contents using a context manager in Python."
      ],
      "metadata": {
        "id": "ezNXmEdprCG5"
      }
    },
    {
      "cell_type": "code",
      "source": [
        "# Open the file using a context manager to read its contents\n",
        "with open('example.txt', 'r') as file:\n",
        "    content = file.read()  # Read the entire content of the file\n",
        "\n",
        "# Print the content of the file\n",
        "print(content)\n"
      ],
      "metadata": {
        "colab": {
          "base_uri": "https://localhost:8080/"
        },
        "id": "DrLYveahrIEo",
        "outputId": "3e8080cd-3743-4860-99e9-47bf997e6fdc"
      },
      "execution_count": 26,
      "outputs": [
        {
          "output_type": "stream",
          "name": "stdout",
          "text": [
            "\n",
            "This is an appended line of text.This is the new data that will be appended.\n",
            "\n"
          ]
        }
      ]
    },
    {
      "cell_type": "markdown",
      "source": [
        "## Q 21.  Write a Python program that reads a file and prints the number of occurrences of a specific word.\n"
      ],
      "metadata": {
        "id": "ULdIzuMErUMe"
      }
    },
    {
      "cell_type": "code",
      "source": [
        "def count_word_occurrences(file_path, word):\n",
        "    try:\n",
        "        with open(file_path, 'r') as file:\n",
        "            content = file.read()  # Read the entire file content\n",
        "            word_count = content.lower().split().count(word.lower())  # Case-insensitive count of the word\n",
        "            print(f\"The word '{word}' occurred {word_count} times.\")\n",
        "    except FileNotFoundError:\n",
        "        print(f\"Error: The file '{file_path}' was not found.\")\n",
        "    except Exception as e:\n",
        "        print(f\"An error occurred: {e}\")\n",
        "\n",
        "# Usage example:\n",
        "file_path = 'example.txt'\n",
        "word_to_count = 'python'\n",
        "count_word_occurrences(file_path, word_to_count)\n"
      ],
      "metadata": {
        "colab": {
          "base_uri": "https://localhost:8080/"
        },
        "id": "y942JdoZrhag",
        "outputId": "9ef724e2-1fc0-4259-fb4e-9fe639648c9f"
      },
      "execution_count": 27,
      "outputs": [
        {
          "output_type": "stream",
          "name": "stdout",
          "text": [
            "The word 'python' occurred 0 times.\n"
          ]
        }
      ]
    },
    {
      "cell_type": "markdown",
      "source": [
        "## Q 22.  How can you check if a file is empty before attempting to read its contents?"
      ],
      "metadata": {
        "id": "lJEhoOLhrkip"
      }
    },
    {
      "cell_type": "code",
      "source": [
        "import os\n",
        "\n",
        "def check_if_file_is_empty(file_path):\n",
        "    if os.path.exists(file_path):  # Check if the file exists\n",
        "        if os.path.getsize(file_path) == 0:  # Check if the file size is 0 bytes\n",
        "            print(\"The file is empty.\")\n",
        "        else:\n",
        "            with open(file_path, 'r') as file:\n",
        "                content = file.read()\n",
        "                print(\"File contents:\")\n",
        "                print(content)\n",
        "    else:\n",
        "        print(f\"The file '{file_path}' does not exist.\")\n",
        "\n",
        "# Usage example\n",
        "file_path = 'example.txt'\n",
        "check_if_file_is_empty(file_path)\n"
      ],
      "metadata": {
        "colab": {
          "base_uri": "https://localhost:8080/"
        },
        "id": "aM7Sg-RTrvCD",
        "outputId": "81646abc-296b-49a1-e2c4-707564cd580c"
      },
      "execution_count": 28,
      "outputs": [
        {
          "output_type": "stream",
          "name": "stdout",
          "text": [
            "File contents:\n",
            "\n",
            "This is an appended line of text.This is the new data that will be appended.\n",
            "\n"
          ]
        }
      ]
    },
    {
      "cell_type": "markdown",
      "source": [
        "## 23.  Write a Python program that writes to a log file when an error occurs during file handling."
      ],
      "metadata": {
        "id": "cFARqLYir1on"
      }
    },
    {
      "cell_type": "code",
      "source": [
        "import logging\n",
        "\n",
        "# Set up logging configuration to log errors to a log file\n",
        "logging.basicConfig(\n",
        "    filename='file_handling_errors.log',  # Log file name\n",
        "    level=logging.ERROR,                  # Only log ERROR and above levels\n",
        "    format='%(asctime)s - %(levelname)s - %(message)s'\n",
        ")\n",
        "\n",
        "def read_file(file_path):\n",
        "    try:\n",
        "        with open(file_path, 'r') as file:\n",
        "            content = file.read()\n",
        "            print(content)\n",
        "    except FileNotFoundError as fnf_error:\n",
        "        logging.error(f\"FileNotFoundError: {fnf_error}\")\n",
        "        print(f\"Error: {fnf_error}\")\n",
        "    except IOError as io_error:\n",
        "        logging.error(f\"IOError: {io_error}\")\n",
        "        print(f\"Error: {io_error}\")\n",
        "    except Exception as e:\n",
        "        logging.error(f\"An unexpected error occurred: {e}\")\n",
        "        print(f\"An unexpected error occurred: {e}\")\n",
        "\n",
        "def write_to_file(file_path, content):\n",
        "    try:\n",
        "        with open(file_path, 'w') as file:\n",
        "            file.write(content)\n",
        "            print(\"Content written successfully.\")\n",
        "    except IOError as io_error:\n",
        "        logging.error(f\"IOError: {io_error}\")\n",
        "        print(f\"Error: {io_error}\")\n",
        "    except Exception as e:\n",
        "        logging.error(f\"An unexpected error occurred: {e}\")\n",
        "        print(f\"An unexpected error occurred: {e}\")\n",
        "\n",
        "# Example usage\n",
        "read_file('non_existent_file.txt')\n",
        "write_to_file('example_output.txt', \"This is a test content.\")\n"
      ],
      "metadata": {
        "colab": {
          "base_uri": "https://localhost:8080/"
        },
        "id": "mwfTBOcZr92t",
        "outputId": "c059e859-8dc7-45b2-ccb8-48185f1619a4"
      },
      "execution_count": 29,
      "outputs": [
        {
          "output_type": "stream",
          "name": "stderr",
          "text": [
            "ERROR:root:FileNotFoundError: [Errno 2] No such file or directory: 'non_existent_file.txt'\n"
          ]
        },
        {
          "output_type": "stream",
          "name": "stdout",
          "text": [
            "Error: [Errno 2] No such file or directory: 'non_existent_file.txt'\n",
            "Content written successfully.\n"
          ]
        }
      ]
    }
  ]
}