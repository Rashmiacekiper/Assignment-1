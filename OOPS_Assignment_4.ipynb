{
  "nbformat": 4,
  "nbformat_minor": 0,
  "metadata": {
    "colab": {
      "provenance": [],
      "authorship_tag": "ABX9TyOwI297wNugX2bdBq1R+lWX",
      "include_colab_link": true
    },
    "kernelspec": {
      "name": "python3",
      "display_name": "Python 3"
    },
    "language_info": {
      "name": "python"
    }
  },
  "cells": [
    {
      "cell_type": "markdown",
      "metadata": {
        "id": "view-in-github",
        "colab_type": "text"
      },
      "source": [
        "<a href=\"https://colab.research.google.com/github/Rashmiacekiper/Assignment-1/blob/main/OOPS_Assignment_4.ipynb\" target=\"_parent\"><img src=\"https://colab.research.google.com/assets/colab-badge.svg\" alt=\"Open In Colab\"/></a>"
      ]
    },
    {
      "cell_type": "code",
      "execution_count": null,
      "metadata": {
        "id": "QvtyQw8hbq6E"
      },
      "outputs": [],
      "source": []
    },
    {
      "cell_type": "markdown",
      "source": [
        "## 1. What are the five key concepts of Object-Oriented Programming (OOP)?\n",
        "\n",
        "Ans - The five key concepts of Object-Oriented Programming (OOP) are:\n",
        "\n",
        "1. **Encapsulation**\n",
        "Definition: Encapsulation refers to the bundling of data (attributes) and the methods (functions) that operate on that data into a single unit called a class. It also restricts direct access to some of an object's components and can prevent the accidental modification of data.\n",
        "Example: In a class Car, the data (like speed, engineStatus) is encapsulated within the object, and you might expose methods like accelerate() or brake() to interact with this data instead of directly changing the attributes.\n",
        "2. **Abstraction**\n",
        "Definition: Abstraction involves hiding the complex implementation details and showing only the essential features of the object. It helps in reducing complexity and allows the programmer to focus on high-level operations.\n",
        "Example: When using a Car object, you might interact with high-level methods like start() and stop() without needing to know the specifics of how the car's engine is started or stopped.\n",
        "3. **Inheritance**\n",
        "Definition: Inheritance is a mechanism that allows one class (the subclass or child class) to inherit properties and behaviors (attributes and methods) from another class (the superclass or parent class). This promotes code reuse.\n",
        "Example: A Vehicle class might have attributes like speed and fuelLevel, and a Car class can inherit these attributes from Vehicle, adding specific features like numberOfDoors.\n",
        "4. **Polymorphism**\n",
        "Definition: Polymorphism allows objects of different classes to be treated as objects of a common superclass. It also refers to the ability for methods to have different behaviors depending on the object they are acting upon. This can be achieved through method overriding and method overloading.\n",
        "Example: A method makeSound() can be defined in a superclass Animal. A Dog class might override this method to produce a \"bark,\" while a Cat class might override it to produce a \"meow.\"\n",
        "5. **Composition**\n",
        "Definition: Composition is a design principle in which one class contains references to other objects (instances of other classes), allowing for complex objects to be built from simpler ones. It is often described as a \"has-a\" relationship, as opposed to inheritance's \"is-a\" relationship.\n",
        "Example: A Car class may contain an instance of an Engine class, a Wheel class, etc. The car \"has\" an engine, rather than being an engine.\n",
        "These concepts together help create structured, reusable, and maintainable code by focusing on objects and their interactions."
      ],
      "metadata": {
        "id": "Z2SOR--Lb0UP"
      }
    },
    {
      "cell_type": "markdown",
      "source": [
        "## 2. Write a Python class for a `Car` with attributes for `make`, `model`, and `year`. Include a method to display the car's information.\n",
        "\n",
        "Ans- Here's a Python class for a Car with attributes for make, model, and year, along with a method to display the car's information:\n",
        "\n",
        "Explanation:\n",
        "__init__ method: This is the constructor used to initialize the make, model, and year attributes when a new Car object is created.\n",
        "display_info method: This method prints the car's make, model, and year in a user-friendly format."
      ],
      "metadata": {
        "id": "pfajK9qnfi_v"
      }
    },
    {
      "cell_type": "code",
      "source": [
        "class Car:\n",
        "    # Constructor to initialize the attributes\n",
        "    def __init__(self, make, model, year):\n",
        "        self.make = make\n",
        "        self.model = model\n",
        "        self.year = year\n",
        "\n",
        "    # Method to display the car's information\n",
        "    def display_info(self):\n",
        "        print(f\"Car Information:\\nMake: {self.make}\\nModel: {self.model}\\nYear: {self.year}\")\n",
        "\n",
        "# Example of creating a Car object and displaying its information\n",
        "my_car = Car(\"Toyota\", \"Corolla\", 2020)\n",
        "my_car.display_info()\n"
      ],
      "metadata": {
        "colab": {
          "base_uri": "https://localhost:8080/"
        },
        "id": "EkQNjhCdgHGI",
        "outputId": "639020b9-656b-4710-9a82-e5ef9bf0dfa1"
      },
      "execution_count": null,
      "outputs": [
        {
          "output_type": "stream",
          "name": "stdout",
          "text": [
            "Car Information:\n",
            "Make: Toyota\n",
            "Model: Corolla\n",
            "Year: 2020\n"
          ]
        }
      ]
    },
    {
      "cell_type": "markdown",
      "source": [
        "##  3. Explain the difference between instance methods and class methods. Provide an example of each.\n",
        "\n",
        "Ans- In Python, instance methods and class methods are both types of methods that belong to classes, but they serve different purposes and behave in distinct ways. Here’s a breakdown of the differences between them:\n",
        "\n",
        "**1.** **Instance Methods**\n",
        "Definition: Instance methods are methods that operate on an instance of the class. They have access to the instance's attributes and can modify the state of the specific object (instance). The first parameter of an instance method is always self, which refers to the current instance of the class.\n",
        "Use Case: Instance methods are typically used for operations that deal with or modify the data specific to a particular object."
      ],
      "metadata": {
        "id": "_rxmb3lrgk6_"
      }
    },
    {
      "cell_type": "code",
      "source": [
        "class Car:\n",
        "    def __init__(self, make, model, year):\n",
        "        self.make = make\n",
        "        self.model = model\n",
        "        self.year = year\n",
        "\n",
        "    # Instance method\n",
        "    def display_info(self):\n",
        "        print(f\"Car Information: {self.year} {self.make} {self.model}\")\n",
        "\n",
        "# Create an instance of the Car class\n",
        "my_car = Car(\"Toyota\", \"Corolla\", 2020)\n",
        "# Call the instance method\n",
        "my_car.display_info()\n"
      ],
      "metadata": {
        "colab": {
          "base_uri": "https://localhost:8080/"
        },
        "id": "2AYEVmiNg379",
        "outputId": "6b1fb465-da36-4d2b-8772-7b3ae901e13b"
      },
      "execution_count": null,
      "outputs": [
        {
          "output_type": "stream",
          "name": "stdout",
          "text": [
            "Car Information: 2020 Toyota Corolla\n"
          ]
        }
      ]
    },
    {
      "cell_type": "markdown",
      "source": [
        "**Explanation of the above example**: The display_info method is an instance method because it operates on the attributes of a specific Car object (e.g., my_car), and it needs access to the instance (self) to retrieve the make, model, and year of that particular car.\n",
        "\n",
        "**2. Class Methods**\n",
        "Definition: Class methods are methods that are bound to the class itself rather than an instance of the class. The first parameter of a class method is cls, which refers to the class itself, not an instance of the class. Class methods can access and modify class-level attributes, but they cannot access instance-level attributes unless explicitly passed.\n",
        "Use Case: Class methods are often used for operations that relate to the class itself, such as creating instances or modifying class-level data.\n",
        "\n"
      ],
      "metadata": {
        "id": "A5CvURbJhLcd"
      }
    },
    {
      "cell_type": "code",
      "source": [
        "class Car:\n",
        "    # Class variable\n",
        "    car_count = 0\n",
        "\n",
        "    def __init__(self, make, model, year):\n",
        "        self.make = make\n",
        "        self.model = model\n",
        "        self.year = year\n",
        "        Car.car_count += 1  # Increment car_count every time a new car is created\n",
        "\n",
        "    # Class method\n",
        "    @classmethod\n",
        "    def display_car_count(cls):\n",
        "        print(f\"Total number of cars: {cls.car_count}\")\n",
        "\n",
        "# Create instances of the Car class\n",
        "car1 = Car(\"Toyota\", \"Corolla\", 2020)\n",
        "car2 = Car(\"Honda\", \"Civic\", 2021)\n",
        "\n",
        "# Call the class method\n",
        "Car.display_car_count()\n"
      ],
      "metadata": {
        "colab": {
          "base_uri": "https://localhost:8080/"
        },
        "id": "KheB8i-Xhi9e",
        "outputId": "31fe9d5d-cf3e-4216-dfbb-1c23d9721ff7"
      },
      "execution_count": null,
      "outputs": [
        {
          "output_type": "stream",
          "name": "stdout",
          "text": [
            "Total number of cars: 2\n"
          ]
        }
      ]
    },
    {
      "cell_type": "markdown",
      "source": [
        "**Explanation of the above example**: The display_car_count method is a class method because it uses the @classmethod decorator and operates on class-level data (car_count), not on instance-specific data. It tracks the total number of Car objects created and prints that count. The cls parameter refers to the Car class itself, not an instance of it.\n",
        "\n",
        "Key Differences:\n",
        "(a) Instance method is bound to an instance of the class (object) whereas Class method is bound to the class itself, not an instance.\n",
        "(b) Instance method refers to the current instance whereas Class method refers to the class itself.\n",
        "(c) Instance method can access and modify instance attributes whereas Class method Can only access and modify class attributes.\n",
        "(d) Instance method is used for operations on a particular instance whereas Class method is used for operations related to the class.\n",
        "(e) Instance method should be used when you need to operate on individual objects and their data. Class method should be used when you need to operate on the class as a whole, like modifying class-level attributes or creating new instances (e.g., a factory method)."
      ],
      "metadata": {
        "id": "GRIWcG2XiLk2"
      }
    },
    {
      "cell_type": "markdown",
      "source": [
        "## 4. How does Python implement method overloading? Give an example.\n",
        "\n",
        "Ans- In Python, method overloading is not implemented in the same way as it is in some other languages like Java or C++. Python does not support traditional method overloading where you can define multiple methods with the same name but different parameter signatures. Instead, Python allows method overloading to be achieved through default arguments, variable-length arguments (using *args and **kwargs), or by explicitly checking the type or number of arguments inside the method.\n",
        "Two or more methods have the same name but different numbers of parameters or different types of parameters, or both. These methods are called overloaded methods and this is called method overloading.\n"
      ],
      "metadata": {
        "id": "M-ZkGL51jqcQ"
      }
    },
    {
      "cell_type": "code",
      "source": [
        "class Calculator:\n",
        "    def add(self, *args):\n",
        "        return sum(args)\n",
        "\n",
        "calc = Calculator()\n",
        "\n",
        "# Adding two numbers\n",
        "print(calc.add(1, 2))  # Output: 3\n",
        "\n",
        "# Adding three numbers\n",
        "print(calc.add(1, 2, 3))  # Output: 6\n",
        "\n",
        "# Adding five numbers\n",
        "print(calc.add(1, 2, 3, 4, 5))  # Output: 15\n"
      ],
      "metadata": {
        "colab": {
          "base_uri": "https://localhost:8080/"
        },
        "id": "WpP_moW8s_x0",
        "outputId": "53c80f22-e4eb-47fa-e9ef-a9218bf24342"
      },
      "execution_count": null,
      "outputs": [
        {
          "output_type": "stream",
          "name": "stdout",
          "text": [
            "3\n",
            "6\n",
            "15\n"
          ]
        }
      ]
    },
    {
      "cell_type": "markdown",
      "source": [
        "**Explanation of the above example:** In the add method of the Calculator class, b and c have default values of 0. So, if no value is passed for b or c, the method will still work.\n",
        "You can call add with one, two, or three arguments. Python interprets the number of arguments passed and uses the default values for the ones not provided."
      ],
      "metadata": {
        "id": "-U5y3O_0tYf1"
      }
    },
    {
      "cell_type": "markdown",
      "source": [
        "##  5. What are the three types of access modifiers in Python? How are they denoted?\n",
        "\n",
        "Ans- In Python, there are three main types of access modifiers that control the visibility and accessibility of class attributes and methods. These are:\n",
        "\n",
        "Public Access Modifier\n",
        "\n",
        "Protected Access Modifier\n",
        "\n",
        "Private Access Modifier\n",
        "\n",
        "**1. Public Access Modifier**\n",
        "Denoted by: No leading underscore (variable_name).\n",
        "Description: Public members (attributes or methods) are accessible from anywhere, both inside and outside the class. By default, all attributes and methods in Python are public."
      ],
      "metadata": {
        "id": "X5jFkYhTuXwz"
      }
    },
    {
      "cell_type": "code",
      "source": [
        "class MyClass:\n",
        "    def __init__(self, name):\n",
        "        self.name = name  # Public attribute\n",
        "\n",
        "    def greet(self):  # Public method\n",
        "        print(f\"Hello, {self.name}!\")\n",
        "\n",
        "obj = MyClass(\"Alice\")\n",
        "print(obj.name)  # Accessible outside the class\n",
        "obj.greet()  # Accessible outside the class\n"
      ],
      "metadata": {
        "colab": {
          "base_uri": "https://localhost:8080/"
        },
        "id": "Uj7zrEbCvNBq",
        "outputId": "fed4f2b3-c73b-4d6b-e0ad-f1030052fc5b"
      },
      "execution_count": null,
      "outputs": [
        {
          "output_type": "stream",
          "name": "stdout",
          "text": [
            "Alice\n",
            "Hello, Alice!\n"
          ]
        }
      ]
    },
    {
      "cell_type": "markdown",
      "source": [
        "**2. Protected Access Modifier**\n",
        "Denoted by: A single leading underscore (_variable_name).\n",
        "Description: Protected members are intended to be used only within the class and by subclasses (inherited classes). While they can still be accessed from outside the class, it is considered a convention to treat these attributes or methods as \"protected\" and to avoid direct access."
      ],
      "metadata": {
        "id": "QChWfOIAvgUz"
      }
    },
    {
      "cell_type": "code",
      "source": [
        "class MyClass:\n",
        "    def __init__(self, name):\n",
        "        self._name = name  # Protected attribute\n",
        "\n",
        "    def _greet(self):  # Protected method\n",
        "        print(f\"Hello, {self._name}!\")\n",
        "\n",
        "obj = MyClass(\"Bob\")\n",
        "print(obj._name)  # Accessible, but not recommended\n",
        "obj._greet()  # Accessible, but not recommended\n"
      ],
      "metadata": {
        "colab": {
          "base_uri": "https://localhost:8080/"
        },
        "id": "XVk-3YHxvjCx",
        "outputId": "418b1325-32ef-4699-8351-a642589386e9"
      },
      "execution_count": null,
      "outputs": [
        {
          "output_type": "stream",
          "name": "stdout",
          "text": [
            "Bob\n",
            "Hello, Bob!\n"
          ]
        }
      ]
    },
    {
      "cell_type": "markdown",
      "source": [
        "**3. Private Access Modifier**\n",
        "Denoted by: A double leading underscore (__variable_name).\n",
        "Description: Private members are intended to be used only within the class. They are name-mangled by Python, meaning their names are internally changed to make it harder (though not impossible) to access them from outside the class. This is meant to prevent accidental access or modification of private members."
      ],
      "metadata": {
        "id": "w4IkYnSYvued"
      }
    },
    {
      "cell_type": "code",
      "source": [
        "class MyClass:\n",
        "    def __init__(self, name):\n",
        "        self.__name = name  # Private attribute\n",
        "\n",
        "    def __greet(self):  # Private method\n",
        "        print(f\"Hello, {self.__name}!\")\n",
        "\n",
        "obj = MyClass(\"Charlie\")\n",
        "# print(obj.__name)  # This would raise an AttributeError\n",
        "# obj.__greet()  # This would raise an AttributeError\n",
        "\n",
        "# Accessing private members indirectly using name mangling\n",
        "print(obj._MyClass__name)  # Output: Charlie\n",
        "obj._MyClass__greet()  # Output: Hello, Charlie!\n"
      ],
      "metadata": {
        "colab": {
          "base_uri": "https://localhost:8080/"
        },
        "id": "K5FgmXmev4wm",
        "outputId": "17f2103a-8857-4631-b909-5fb2aa5e19f1"
      },
      "execution_count": null,
      "outputs": [
        {
          "output_type": "stream",
          "name": "stdout",
          "text": [
            "Charlie\n",
            "Hello, Charlie!\n"
          ]
        }
      ]
    },
    {
      "cell_type": "markdown",
      "source": [
        "## 6. Describe the five types of inheritance in Python. Provide a simple example of multiple inheritance.\n",
        "\n",
        "Ans- In Python, inheritance allows a class (child class) to inherit methods and attributes from another class (parent class). There are five types of inheritance in Python:\n",
        "\n",
        "**1. Single Inheritance**\n",
        "\n",
        "Description: In single inheritance, a child class inherits from only one parent class."
      ],
      "metadata": {
        "id": "gSRvhbz2wVgN"
      }
    },
    {
      "cell_type": "code",
      "source": [
        "class Animal:\n",
        "    def speak(self):\n",
        "        print(\"Animal speaks\")\n",
        "\n",
        "class Dog(Animal):\n",
        "    def bark(self):\n",
        "        print(\"Dog barks\")\n",
        "\n",
        "dog = Dog()\n",
        "dog.speak()  # Inherited from Animal class\n",
        "dog.bark()   # Defined in Dog class\n"
      ],
      "metadata": {
        "colab": {
          "base_uri": "https://localhost:8080/"
        },
        "id": "oDoz3dP9wtwy",
        "outputId": "6173c209-f338-4bd8-9d34-88a0c5d5d6bb"
      },
      "execution_count": null,
      "outputs": [
        {
          "output_type": "stream",
          "name": "stdout",
          "text": [
            "Animal speaks\n",
            "Dog barks\n"
          ]
        }
      ]
    },
    {
      "cell_type": "markdown",
      "source": [
        "**2. Multiple Inheritance**\n",
        "\n",
        "Description: In multiple inheritance, a child class inherits from more than one parent class. This allows the child class to access methods and attributes from multiple parent classes.\n"
      ],
      "metadata": {
        "id": "QiXtqKhWxLpi"
      }
    },
    {
      "cell_type": "code",
      "source": [
        "class Animal:\n",
        "    def speak(self):\n",
        "        print(\"Animal speaks\")\n",
        "\n",
        "class Dog:\n",
        "    def bark(self):\n",
        "        print(\"Dog barks\")\n",
        "\n",
        "class Hybrid(Animal, Dog):  # Inherits from both Animal and Dog\n",
        "    def move(self):\n",
        "        print(\"Hybrid moves\")\n",
        "\n",
        "hybrid = Hybrid()\n",
        "hybrid.speak()  # Inherited from Animal class\n",
        "hybrid.bark()   # Inherited from Dog class\n",
        "hybrid.move()   # Defined in Hybrid class\n"
      ],
      "metadata": {
        "colab": {
          "base_uri": "https://localhost:8080/"
        },
        "id": "jE70guETxUs_",
        "outputId": "6dec20e5-3d67-4762-dab4-84fec3e2c291"
      },
      "execution_count": null,
      "outputs": [
        {
          "output_type": "stream",
          "name": "stdout",
          "text": [
            "Animal speaks\n",
            "Dog barks\n",
            "Hybrid moves\n"
          ]
        }
      ]
    },
    {
      "cell_type": "markdown",
      "source": [
        "**3. Multilevel Inheritance**\n",
        "\n",
        "Description: In multilevel inheritance, a class inherits from a parent class, and then another class inherits from the first child class."
      ],
      "metadata": {
        "id": "c7ecwh5GxfFy"
      }
    },
    {
      "cell_type": "code",
      "source": [
        "class Animal:\n",
        "    def speak(self):\n",
        "        print(\"Animal speaks\")\n",
        "\n",
        "class Dog(Animal):\n",
        "    def bark(self):\n",
        "        print(\"Dog barks\")\n",
        "\n",
        "class Puppy(Dog):  # Inherits from Dog (which inherits from Animal)\n",
        "    def play(self):\n",
        "        print(\"Puppy plays\")\n",
        "\n",
        "puppy = Puppy()\n",
        "puppy.speak()  # Inherited from Animal class\n",
        "puppy.bark()   # Inherited from Dog class\n",
        "puppy.play()   # Defined in Puppy class\n"
      ],
      "metadata": {
        "colab": {
          "base_uri": "https://localhost:8080/"
        },
        "id": "tZo1hdGrxx8G",
        "outputId": "5bac8e62-600d-43b7-d05a-ed5fe8faa293"
      },
      "execution_count": null,
      "outputs": [
        {
          "output_type": "stream",
          "name": "stdout",
          "text": [
            "Animal speaks\n",
            "Dog barks\n",
            "Puppy plays\n"
          ]
        }
      ]
    },
    {
      "cell_type": "markdown",
      "source": [
        "**4. Hierarchical Inheritance**\n",
        "\n",
        "Description: In hierarchical inheritance, multiple classes inherit from a single parent class. All child classes share the same parent class."
      ],
      "metadata": {
        "id": "HX2vil1ryI0q"
      }
    },
    {
      "cell_type": "code",
      "source": [
        "class Animal:\n",
        "    def speak(self):\n",
        "        print(\"Animal speaks\")\n",
        "\n",
        "class Dog(Animal):\n",
        "    def bark(self):\n",
        "        print(\"Dog barks\")\n",
        "\n",
        "class Cat(Animal):\n",
        "    def meow(self):\n",
        "        print(\"Cat meows\")\n",
        "\n",
        "dog = Dog()\n",
        "dog.speak()  # Inherited from Animal class\n",
        "dog.bark()   # Defined in Dog class\n",
        "\n",
        "cat = Cat()\n",
        "cat.speak()  # Inherited from Animal class\n",
        "cat.meow()   # Defined in Cat class\n"
      ],
      "metadata": {
        "colab": {
          "base_uri": "https://localhost:8080/"
        },
        "id": "IHTS25E4yTI0",
        "outputId": "c0030117-0f9a-4feb-a387-904eeacc33e5"
      },
      "execution_count": null,
      "outputs": [
        {
          "output_type": "stream",
          "name": "stdout",
          "text": [
            "Animal speaks\n",
            "Dog barks\n",
            "Animal speaks\n",
            "Cat meows\n"
          ]
        }
      ]
    },
    {
      "cell_type": "markdown",
      "source": [
        "**5. Hybrid Inheritance**\n",
        "\n",
        "Description: Hybrid inheritance is a combination of more than one type of inheritance. It can involve any mix of the above inheritance types (e.g., multiple and multilevel inheritance combined)."
      ],
      "metadata": {
        "id": "n7aIZ7TTyazb"
      }
    },
    {
      "cell_type": "code",
      "source": [
        "class Animal:\n",
        "    def speak(self):\n",
        "        print(\"Animal speaks\")\n",
        "\n",
        "class Mammal(Animal):\n",
        "    def walk(self):\n",
        "        print(\"Mammal walks\")\n",
        "\n",
        "class Bird(Animal):\n",
        "    def fly(self):\n",
        "        print(\"Bird flies\")\n",
        "\n",
        "class Bat(Mammal, Bird):  # Hybrid inheritance (Multiple + Multilevel)\n",
        "    def sleep(self):\n",
        "        print(\"Bat sleeps\")\n",
        "\n",
        "bat = Bat()\n",
        "bat.speak()  # Inherited from Animal class\n",
        "bat.walk()   # Inherited from Mammal class\n",
        "bat.fly()    # Inherited from Bird class\n",
        "bat.sleep()  # Defined in Bat class\n"
      ],
      "metadata": {
        "colab": {
          "base_uri": "https://localhost:8080/"
        },
        "id": "yplZhK0Ty8nB",
        "outputId": "1fac726a-bcf9-48cb-8ac8-63393d6944db"
      },
      "execution_count": null,
      "outputs": [
        {
          "output_type": "stream",
          "name": "stdout",
          "text": [
            "Animal speaks\n",
            "Mammal walks\n",
            "Bird flies\n",
            "Bat sleeps\n"
          ]
        }
      ]
    },
    {
      "cell_type": "markdown",
      "source": [
        "Summary of Inheritance Types:\n",
        "\n",
        "Single Inheritance: One child class inherits from one parent class.\n",
        "\n",
        "Multiple Inheritance: One child class inherits from more than one parent class.\n",
        "\n",
        "Multilevel Inheritance: A chain of inheritance where a child class inherits from another child class.\n",
        "\n",
        "Hierarchical Inheritance: Multiple child classes inherit from a single parent class.\n",
        "\n",
        "Hybrid Inheritance: A combination of more than one type of inheritance (multiple and multilevel)."
      ],
      "metadata": {
        "id": "YP2-OWh93VXx"
      }
    },
    {
      "cell_type": "markdown",
      "source": [
        "## 7. What is the Method Resolution Order (MRO) in Python? How can you retrieve it programmatically?\n",
        "\n",
        "Ans- Method Resolution Order (MRO) in Python\n",
        "Method Resolution Order (MRO) is the order in which Python searches for a method in a class hierarchy. When a method is called on an object, Python needs to determine which method to invoke if there are multiple possible methods in a class hierarchy (due to inheritance). The MRO defines the order in which Python will search the class hierarchy to find the method or attribute.\n",
        "The Method Resolution Order in Python determines the order in which Python looks for methods and attributes in a class hierarchy. It is crucial in multiple inheritance scenarios to ensure that methods are resolved consistently. You can retrieve the MRO programmatically using the mro() method or the __mro__ attribute.\n",
        "\n",
        "MRO is important in multiple inheritance because:\n",
        "\n",
        "\n",
        "*   Avoids ambiguity: Ensures that Python resolves which method to call even in\n",
        "*   complex class hierarchies.\n",
        "Predictable behavior: Knowing the MRO allows developers to predict how inheritance will behave and avoid unexpected method calls.\n"
      ],
      "metadata": {
        "id": "Tt03MTje3cex"
      }
    },
    {
      "cell_type": "code",
      "source": [
        "class A:\n",
        "    def show(self):\n",
        "        print(\"Class A\")\n",
        "\n",
        "class B(A):\n",
        "    def show(self):\n",
        "        print(\"Class B\")\n",
        "\n",
        "class C(A):\n",
        "    def show(self):\n",
        "        print(\"Class C\")\n",
        "\n",
        "class D(B, C):  # Multiple Inheritance\n",
        "    pass\n",
        "\n",
        "d = D()\n",
        "d.show()  # Which method will be called?\n"
      ],
      "metadata": {
        "colab": {
          "base_uri": "https://localhost:8080/"
        },
        "id": "f_liYd5i6KxX",
        "outputId": "ec2106f1-493d-4556-f083-d617c6620f40"
      },
      "execution_count": null,
      "outputs": [
        {
          "output_type": "stream",
          "name": "stdout",
          "text": [
            "Class B\n"
          ]
        }
      ]
    },
    {
      "cell_type": "markdown",
      "source": [
        "In this above case, D inherits from both B and C, and both B and C inherit from A. When we call d.show(), Python needs to determine which show() method to invoke.\n",
        "\n",
        "**Retrieving MRO Programmatically**\n",
        "\n",
        "You can retrieve the MRO of a class programmatically using the mro() method or the __mro__ attribute.\n",
        "\n",
        "Using mro() Method: This method returns the MRO as a list of classes.\n",
        "\n",
        "print(D.mro())\n",
        "\n",
        "Using __mro__ Attribute: This attribute gives you the MRO in the form of a tuple of class objects.\n",
        "\n",
        "print(D.__mro__)"
      ],
      "metadata": {
        "id": "6xtwnapp6ZIx"
      }
    },
    {
      "cell_type": "code",
      "source": [
        "class A:\n",
        "    def show(self):\n",
        "        print(\"Class A\")\n",
        "\n",
        "class B(A):\n",
        "    def show(self):\n",
        "        print(\"Class B\")\n",
        "\n",
        "class C(A):\n",
        "    def show(self):\n",
        "        print(\"Class C\")\n",
        "\n",
        "class D(B, C):\n",
        "    pass\n",
        "\n",
        "# Retrieving MRO using mro()\n",
        "print(D.mro())  # Output: [<class '__main__.D'>, <class '__main__.B'>, <class '__main__.C'>, <class '__main__.A'>, <class 'object'>]\n",
        "\n",
        "# Retrieving MRO using __mro__\n",
        "print(D.__mro__)  # Output: (<class '__main__.D'>, <class '__main__.B'>, <class '__main__.C'>, <class '__main__.A'>, <class 'object'>)\n"
      ],
      "metadata": {
        "colab": {
          "base_uri": "https://localhost:8080/"
        },
        "id": "g7ranqv06sme",
        "outputId": "2037506a-4875-44d3-be74-501c13137bcd"
      },
      "execution_count": null,
      "outputs": [
        {
          "output_type": "stream",
          "name": "stdout",
          "text": [
            "[<class '__main__.D'>, <class '__main__.B'>, <class '__main__.C'>, <class '__main__.A'>, <class 'object'>]\n",
            "(<class '__main__.D'>, <class '__main__.B'>, <class '__main__.C'>, <class '__main__.A'>, <class 'object'>)\n"
          ]
        }
      ]
    },
    {
      "cell_type": "markdown",
      "source": [
        "Explanation:\n",
        "\n",
        "The MRO list shows the classes in the order Python will search for methods and attributes.\n",
        "The MRO for D is: D -> B -> C -> A -> object, where object is the base class for all new-style classes in Python (since Python 2.x)."
      ],
      "metadata": {
        "id": "E3B5m50m64mt"
      }
    },
    {
      "cell_type": "markdown",
      "source": [
        "## 8. Create an abstract base class `Shape` with an abstract method `area()`. Then create two subclasses `Circle` and `Rectangle` that implement the `area()` method.\n",
        "\n",
        "Ans- In Python, you can use the abc (Abstract Base Class) module to create abstract base classes. An abstract base class cannot be instantiated directly and must be subclassed by other classes that implement the abstract methods.\n",
        "\n",
        "Here’s how you can create an abstract base class Shape with an abstract method area(), and then create two subclasses Circle and Rectangle that implement the area() method:\n"
      ],
      "metadata": {
        "id": "KqnR6VW27BlM"
      }
    },
    {
      "cell_type": "code",
      "source": [
        "from abc import ABC, abstractmethod\n",
        "import math\n",
        "\n",
        "# Abstract Base Class\n",
        "class Shape(ABC):\n",
        "\n",
        "    @abstractmethod\n",
        "    def area(self):\n",
        "        pass  # This method should be implemented by subclasses\n",
        "\n",
        "# Subclass Circle\n",
        "class Circle(Shape):\n",
        "    def __init__(self, radius):\n",
        "        self.radius = radius\n",
        "\n",
        "    def area(self):\n",
        "        return math.pi * (self.radius ** 2)  # Area of a circle: πr²\n",
        "\n",
        "# Subclass Rectangle\n",
        "class Rectangle(Shape):\n",
        "    def __init__(self, width, height):\n",
        "        self.width = width\n",
        "        self.height = height\n",
        "\n",
        "    def area(self):\n",
        "        return self.width * self.height  # Area of a rectangle: width * height\n",
        "\n",
        "# Create instances of Circle and Rectangle\n",
        "circle = Circle(5)\n",
        "rectangle = Rectangle(4, 6)\n",
        "\n",
        "# Display their areas\n",
        "print(f\"Area of circle: {circle.area():.2f}\")  # Output: Area of circle: 78.54\n",
        "print(f\"Area of rectangle: {rectangle.area():.2f}\")  # Output: Area of rectangle: 24\n"
      ],
      "metadata": {
        "colab": {
          "base_uri": "https://localhost:8080/"
        },
        "id": "zcCM0pL07f8c",
        "outputId": "fbdc8cf2-6e7e-4413-f373-06884c09e519"
      },
      "execution_count": null,
      "outputs": [
        {
          "output_type": "stream",
          "name": "stdout",
          "text": [
            "Area of circle: 78.54\n",
            "Area of rectangle: 24.00\n"
          ]
        }
      ]
    },
    {
      "cell_type": "markdown",
      "source": [
        "Explanation:\n",
        "\n",
        "**Abstract Base Class (Shape)**:\n",
        "\n",
        "Shape is an abstract class that inherits from ABC.\n",
        "It has an abstract method area(), which must be implemented by any subclass.\n",
        "\n",
        "** Subclass Circle: **\n",
        "\n",
        "Circle implements the area() method. The area of a circle is calculated using the formula πr^2, where r is the radius of the circle.\n",
        "\n",
        "**Subclass Rectangle:**\n",
        "\n",
        "Rectangle also implements the area() method. The area of a rectangle is calculated using the formula width × height.\n",
        "\n",
        "**Instances:**\n",
        "\n",
        "Instances of Circle and Rectangle are created and their area() methods are called to calculate and print the areas.\n",
        "\n",
        "Key Points:\n",
        "\n",
        "(a) The Shape class is abstract and cannot be instantiated directly.\n",
        "\n",
        "(b) The area() method in Shape is abstract, so subclasses must implement it.\n",
        "\n",
        "(c) Circle and Rectangle implement the area() method specific to their respective shapes.\n"
      ],
      "metadata": {
        "id": "804lgO4D7pPv"
      }
    },
    {
      "cell_type": "markdown",
      "source": [
        "## 9. Demonstrate polymorphism by creating a function that can work with different shape objects to calculate and print their areas.\n",
        "\n",
        "Ans- Polymorphism allows us to define methods in child classes that have the same name as methods in the parent class. Here's how you can demonstrate this with a function that calculates the areas of different shapes:"
      ],
      "metadata": {
        "id": "puc9qn9I93MW"
      }
    },
    {
      "cell_type": "code",
      "source": [
        "class Shape:\n",
        "    def area(self):\n",
        "        pass\n",
        "\n",
        "class Rectangle(Shape):\n",
        "    def __init__(self, width, height):\n",
        "        self.width = width\n",
        "        self.height = height\n",
        "\n",
        "    def area(self):\n",
        "        return self.width * self.height\n",
        "\n",
        "class Circle(Shape):\n",
        "    def __init__(self, radius):\n",
        "        self.radius = radius\n",
        "\n",
        "    def area(self):\n",
        "        return 3.14 * self.radius * self.radius\n",
        "\n",
        "class Triangle(Shape):\n",
        "    def __init__(self, base, height):\n",
        "        self.base = base\n",
        "        self.height = height\n",
        "\n",
        "    def area(self):\n",
        "        return 0.5 * self.base * self.height\n",
        "\n",
        "def print_area(shape):\n",
        "    print(f\"The area is: {shape.area()}\")\n",
        "\n",
        "# Creating objects of different shapes\n",
        "shapes = [\n",
        "    Rectangle(5, 3),\n",
        "    Circle(4),\n",
        "    Triangle(6, 4)\n",
        "]\n",
        "\n",
        "# Calculating and printing the areas\n",
        "for shape in shapes:\n",
        "    print_area(shape)\n"
      ],
      "metadata": {
        "colab": {
          "base_uri": "https://localhost:8080/"
        },
        "id": "ct6s-SXhZFNZ",
        "outputId": "893a8d0f-8e0d-4fae-8b88-c340d8b20daf"
      },
      "execution_count": 1,
      "outputs": [
        {
          "output_type": "stream",
          "name": "stdout",
          "text": [
            "The area is: 15\n",
            "The area is: 50.24\n",
            "The area is: 12.0\n"
          ]
        }
      ]
    },
    {
      "cell_type": "markdown",
      "source": [
        "In the above example:\n",
        "\n",
        "(a) Shape is a parent class with a method area.\n",
        "\n",
        "(b) Rectangle, Circle, and Triangle are child classes that override the area method to calculate the area of the respective shapes.\n",
        "\n",
        "(c) The print_area function works with any shape object due to polymorphism, calling the appropriate area method based on the object passed to it.\n"
      ],
      "metadata": {
        "id": "pAXcwgH_ZT_l"
      }
    },
    {
      "cell_type": "markdown",
      "source": [
        "## 10.  Implement encapsulation in a `BankAccount` class with private attributes for `balance` and `account_number`. Include methods for deposit, withdrawal, and balance inquiry.\n",
        "\n",
        "Ans- Here's how we can implement encapsulation in a BankAccount class with private attributes and the required methods:"
      ],
      "metadata": {
        "id": "HbcUUnrEZjES"
      }
    },
    {
      "cell_type": "code",
      "source": [
        "class BankAccount:\n",
        "    def __init__(self, account_number, initial_balance=0):\n",
        "        self.__account_number = account_number\n",
        "        self.__balance = initial_balance\n",
        "\n",
        "    def deposit(self, amount):\n",
        "        if amount > 0:\n",
        "            self.__balance += amount\n",
        "            print(f\"Deposited: {amount}\")\n",
        "        else:\n",
        "            print(\"Invalid deposit amount\")\n",
        "\n",
        "    def withdraw(self, amount):\n",
        "        if 0 < amount <= self.__balance:\n",
        "            self.__balance -= amount\n",
        "            print(f\"Withdrew: {amount}\")\n",
        "        else:\n",
        "            print(\"Invalid withdrawal amount\")\n",
        "\n",
        "    def get_balance(self):\n",
        "        return self.__balance\n",
        "\n",
        "    def get_account_number(self):\n",
        "        return self.__account_number\n",
        "\n",
        "# Example usage\n",
        "account = BankAccount(\"123456789\")\n",
        "account.deposit(1000)\n",
        "account.withdraw(500)\n",
        "print(f\"Balance: {account.get_balance()}\")\n"
      ],
      "metadata": {
        "colab": {
          "base_uri": "https://localhost:8080/"
        },
        "id": "N_12eOIOaFzK",
        "outputId": "a62aa364-8cf0-45b7-c74b-92420d1735f8"
      },
      "execution_count": 2,
      "outputs": [
        {
          "output_type": "stream",
          "name": "stdout",
          "text": [
            "Deposited: 1000\n",
            "Withdrew: 500\n",
            "Balance: 500\n"
          ]
        }
      ]
    },
    {
      "cell_type": "markdown",
      "source": [
        "Explanation:\n",
        "\n",
        "**Private Attributes:** __account_number and __balance are private attributes (denoted by __) to restrict direct access from outside the class.\n",
        "\n",
        "**Methods:**\n",
        "\n",
        "(a) deposit method to add funds to the account, validating that the deposit amount is positive.\n",
        "\n",
        "(b) withdraw method to remove funds from the account, ensuring the withdrawal amount is within the balance.\n",
        "\n",
        "(c) get_balance method to check the current balance.\n",
        "\n",
        "(d) get_account_number method to retrieve the account number.\n",
        "\n",
        "This approach ensures that the account’s balance and number are not directly accessible from outside the class, thereby encapsulating the data."
      ],
      "metadata": {
        "id": "2YFFbAlDaJjO"
      }
    },
    {
      "cell_type": "markdown",
      "source": [
        "## 11. Write a class that overrides the `__str__` and `__add__` magic methods. What will these methods allow you to do?\n",
        "\n",
        "Ans-  \n",
        "(a) __str__ Method: This method is called when you use the str() function or print() function on an object. In this example, __str__ returns a human-readable string representation of the Point object, so when you print point1, it outputs Point(2, 3).\n",
        "\n",
        "(b) __add__ Method: This method is called when you use the + operator with objects of the class. The __add__ method takes another Point object and returns a new Point object with the coordinates summed. For example, point1 + point2 results in a new Point with coordinates (7, 10).\n",
        "\n",
        "By overriding these magic methods, we can create more intuitive and readable classes that integrate seamlessly with Python's built-in operations and functions."
      ],
      "metadata": {
        "id": "T5hjhAe_bSeo"
      }
    },
    {
      "cell_type": "code",
      "source": [
        "class Point:\n",
        "    def __init__(self, x, y):\n",
        "        self.x = x\n",
        "        self.y = y\n",
        "\n",
        "    def __str__(self):\n",
        "        return f\"Point({self.x}, {self.y})\"\n",
        "\n",
        "    def __add__(self, other):\n",
        "        if isinstance(other, Point):\n",
        "            return Point(self.x + other.x, self.y + other.y)\n",
        "        return NotImplemented\n",
        "\n",
        "# Example usage\n",
        "point1 = Point(2, 3)\n",
        "point2 = Point(5, 7)\n",
        "\n",
        "# __str__ method allows us to print the object in a readable format\n",
        "print(point1)  # Output: Point(2, 3)\n",
        "\n",
        "# __add__ method allows us to add two Point objects using the + operator\n",
        "point3 = point1 + point2\n",
        "print(point3)  # Output: Point(7, 10)\n"
      ],
      "metadata": {
        "colab": {
          "base_uri": "https://localhost:8080/"
        },
        "id": "iAawYAOccaq1",
        "outputId": "1357493f-1be3-48e2-d0ba-5c9c7532d3cb"
      },
      "execution_count": 3,
      "outputs": [
        {
          "output_type": "stream",
          "name": "stdout",
          "text": [
            "Point(2, 3)\n",
            "Point(7, 10)\n"
          ]
        }
      ]
    },
    {
      "cell_type": "markdown",
      "source": [
        "## 12. Create a decorator that measures and prints the execution time of a function.\n",
        "\n",
        "Ans- To create a Python decorator that measures and prints the execution time of a function, the time module can be used to track the time before and after the function call. Here's how we can implement the decorator:\n",
        "\n",
        "import time\n",
        "\n",
        "def measure_execution_time(func):\n",
        "    def wrapper(*args, **kwargs):\n",
        "        start_time = time.time()  # Record the start time\n",
        "        result = func(*args, **kwargs)  # Call the original function\n",
        "        end_time = time.time()  # Record the end time\n",
        "        execution_time = end_time - start_time  # Calculate the execution time\n",
        "        print(f\"Execution time of {func.__name__}: {execution_time:.4f} seconds\")\n",
        "        return result\n",
        "    return wrapper\n",
        "    \n",
        "Example usage:\n",
        "\n",
        "@measure_execution_time\n",
        "def my_function():\n",
        "    time.sleep(2)  # Simulate a delay\n",
        "\n",
        "my_function()\n",
        "Explanation:\n",
        "measure_execution_time: This is the decorator function. It takes a function func as an argument.\n",
        "wrapper: This is the inner function that wraps the original function func. It records the start time, calls the function, records the end time, and then calculates and prints the execution time.\n",
        "@measure_execution_time: This decorator is applied to my_function, so when my_function() is called, it will automatically measure and print the execution time.\n",
        "When you run the above code, it will output something like:\n",
        "\n",
        "Execution time of my_function: 2.0001 seconds\n"
      ],
      "metadata": {
        "id": "xnzjarNjcnCk"
      }
    },
    {
      "cell_type": "markdown",
      "source": [
        "## 13.  Explain the concept of the Diamond Problem in multiple inheritance. How does Python resolve it?\n",
        "\n",
        "Ans- The Diamond Problem in Multiple Inheritance\n",
        "The Diamond Problem arises in object-oriented programming when a class inherits from two classes that both inherit from the same base class. This creates a \"diamond-shaped\" inheritance structure, where a class has two parent classes that share a common ancestor. The problem occurs when a method or attribute is inherited from the common ancestor in a way that creates ambiguity, especially if both child classes override or redefine methods or attributes.\n",
        "\n",
        "Example of the Diamond Problem:\n",
        "Consider the following class hierarchy:\n",
        "\n",
        "        A\n",
        "       / \\\n",
        "      B   C\n",
        "       \\ /\n",
        "        D\n",
        "In this case:\n",
        "\n",
        "(a) Class B and class C both inherit from class A.\n",
        "(b) Class D inherits from both B and C.\n",
        "Now, suppose that A has a method foo(), and both B and C override this method. When D calls foo(), there's ambiguity about which version of foo() should be called: the one from B or the one from C.\n",
        "\n",
        "**How Python Resolves the Diamond Problem**\n",
        "Python uses a method resolution order (MRO) to determine the order in which classes are searched for a method or attribute. The MRO defines the order in which the base classes are considered when searching for a method, ensuring that there is no ambiguity.\n",
        "\n",
        "Python follows the C3 linearization algorithm to determine the method resolution order. The C3 linearization provides a consistent order of inheritance that avoids problems like the Diamond Problem by ensuring that the method or attribute search order is predictable.\n",
        "\n",
        "**MRO in Python**\n",
        "Python resolves the MRO using the C3 Linearization algorithm. This algorithm works by creating a linear order of classes that respects the inheritance hierarchy while avoiding the ambiguity of multiple inheritance paths. The order ensures that the classes are checked in a way that:\n",
        "\n",
        "Follows the depth of the inheritance hierarchy.\n",
        "Resolves ambiguities by giving precedence to classes that appear first in the inheritance chain."
      ],
      "metadata": {
        "id": "mcKxzJYJkymW"
      }
    },
    {
      "cell_type": "code",
      "source": [
        "class A:\n",
        "    def foo(self):\n",
        "        print(\"A's foo\")\n",
        "\n",
        "class B(A):\n",
        "    def foo(self):\n",
        "        print(\"B's foo\")\n",
        "\n",
        "class C(A):\n",
        "    def foo(self):\n",
        "        print(\"C's foo\")\n",
        "\n",
        "class D(B, C):\n",
        "    pass\n",
        "\n",
        "d = D()\n",
        "d.foo()  # This will call the 'foo' method from B\n"
      ],
      "metadata": {
        "colab": {
          "base_uri": "https://localhost:8080/"
        },
        "id": "-ab5hPcKmyLT",
        "outputId": "bbd4eb77-9e21-4e54-b5b9-b28b509ba62f"
      },
      "execution_count": 15,
      "outputs": [
        {
          "output_type": "stream",
          "name": "stdout",
          "text": [
            "B's foo\n"
          ]
        }
      ]
    },
    {
      "cell_type": "markdown",
      "source": [
        "Explanation of the MRO:\n",
        "(a) Class D inherits from B and C.\n",
        "\n",
        "(b) B and C both inherit from A.\n",
        "\n",
        "(c) When d.foo() is called, Python looks at the MRO of D to determine which foo() method to call.\n",
        "\n",
        "(d) The MRO for class D is determined as follows:\n",
        "\n",
        "D → B → C → A\n",
        "(e) In the MRO order, Python first checks B for the foo() method. Since B has its own foo() method, it calls that and prints \"B's foo\"."
      ],
      "metadata": {
        "id": "LxV8M4HCnB9J"
      }
    },
    {
      "cell_type": "code",
      "source": [
        "print(D.mro())"
      ],
      "metadata": {
        "colab": {
          "base_uri": "https://localhost:8080/"
        },
        "id": "cizHccLVnXmI",
        "outputId": "bbcefd7b-0549-448c-bc40-8fefe76a4a8e"
      },
      "execution_count": 16,
      "outputs": [
        {
          "output_type": "stream",
          "name": "stdout",
          "text": [
            "[<class '__main__.D'>, <class '__main__.B'>, <class '__main__.C'>, <class '__main__.A'>, <class 'object'>]\n"
          ]
        }
      ]
    },
    {
      "cell_type": "markdown",
      "source": [
        "Key Points of Python's Resolution:\n",
        "(a) C3 Linearization ensures that classes in the inheritance chain are checked in a clear and predictable order.\n",
        "(b) Python's MRO ensures that if a class method is overridden in multiple classes, the method resolution will be determined according to the order in which classes appear in the inheritance chain."
      ],
      "metadata": {
        "id": "P0dOgcjzngFq"
      }
    },
    {
      "cell_type": "markdown",
      "source": [
        "## 14. Write a class method that keeps track of the number of instances created from a class.\n",
        "\n",
        "Ans- To track the number of instances created from a class, you can use a class variable that gets incremented each time a new instance is created. A class method can be used to access this variable and return the count.\n",
        "\n",
        "Here's an implementation of such a class:\n",
        "\n"
      ],
      "metadata": {
        "id": "jLJMhU_PntPK"
      }
    },
    {
      "cell_type": "code",
      "source": [
        "class MyClass:\n",
        "    # Class variable to track the number of instances\n",
        "    instance_count = 0\n",
        "\n",
        "    def __init__(self):\n",
        "        # Increment the instance count each time a new instance is created\n",
        "        MyClass.instance_count += 1\n",
        "\n",
        "    @classmethod\n",
        "    def get_instance_count(cls):\n",
        "        # Class method to return the count of instances\n",
        "        return cls.instance_count\n",
        "\n",
        "# Example usage:\n",
        "obj1 = MyClass()\n",
        "obj2 = MyClass()\n",
        "obj3 = MyClass()\n",
        "\n",
        "print(MyClass.get_instance_count())  # Output: 3\n"
      ],
      "metadata": {
        "colab": {
          "base_uri": "https://localhost:8080/"
        },
        "id": "IFoyNbZRoJSm",
        "outputId": "5ebca37d-9f47-4d75-c6d4-e46dc3f04480"
      },
      "execution_count": 17,
      "outputs": [
        {
          "output_type": "stream",
          "name": "stdout",
          "text": [
            "3\n"
          ]
        }
      ]
    },
    {
      "cell_type": "markdown",
      "source": [
        "**Explanation:**\n",
        "(a) instance_count: This is a class variable that holds the number of instances created from the class. It starts at 0.\n",
        "\n",
        "(b) __init__: The constructor method that is called every time a new instance is created. Each time an instance is created, we increment instance_count.\n",
        "\n",
        "(c) get_instance_count: This is a class method (@classmethod) that allows access to the instance_count variable. It returns the current value of instance_count.\n",
        "\n",
        "After creating 3 instances of MyClass, calling MyClass.get_instance_count() will return 3, which is the number of instances that have been created.\n",
        "\n",
        "\n",
        "\n"
      ],
      "metadata": {
        "id": "soEPjxhfoX3m"
      }
    },
    {
      "cell_type": "markdown",
      "source": [
        "## 15. Implement a static method in a class that checks if a given year is a leap year.\n",
        "\n",
        "Ans- To implement a static method that checks if a given year is a leap year, we can follow the leap year rules:\n",
        "\n",
        "A year is a leap year if it is divisible by 4.\n",
        "However, if it is divisible by 100, it is not a leap year unless it is also divisible by 400.\n",
        "Here's how to implement this logic in a static method:\n"
      ],
      "metadata": {
        "id": "G-gAR3REow-Q"
      }
    },
    {
      "cell_type": "code",
      "source": [
        "class YearUtils:\n",
        "    @staticmethod\n",
        "    def is_leap_year(year):\n",
        "        # A leap year is divisible by 4, but not divisible by 100 unless also divisible by 400\n",
        "        if (year % 4 == 0 and year % 100 != 0) or (year % 400 == 0):\n",
        "            return True\n",
        "        return False\n",
        "\n",
        "# Example usage:\n",
        "print(YearUtils.is_leap_year(2020))  # Output: True\n",
        "print(YearUtils.is_leap_year(1900))  # Output: False\n",
        "print(YearUtils.is_leap_year(2000))  # Output: True\n",
        "print(YearUtils.is_leap_year(2024))  # Output: True\n"
      ],
      "metadata": {
        "colab": {
          "base_uri": "https://localhost:8080/"
        },
        "id": "NIOJ0SLHpBDZ",
        "outputId": "1aec3e81-f964-4732-e923-8589d997e1c3"
      },
      "execution_count": 18,
      "outputs": [
        {
          "output_type": "stream",
          "name": "stdout",
          "text": [
            "True\n",
            "False\n",
            "True\n",
            "True\n"
          ]
        }
      ]
    },
    {
      "cell_type": "markdown",
      "source": [
        "Explanation:\n",
        "@staticmethod: This decorator makes the method static, meaning it does not depend on any instance or class state. It only requires the year argument to check if it is a leap year.\n",
        "\n",
        "Leap year logic:\n",
        "\n",
        "(a) The first condition (year % 4 == 0 and year % 100 != 0) checks if the year is divisible by 4 but not by 100.\n",
        "(b) The second condition (year % 400 == 0) checks if the year is divisible by 400, in which case it is a leap year even if it is divisible by 100.\n",
        "\n",
        "This static method allows you to check if any given year is a leap year without needing to instantiate the class."
      ],
      "metadata": {
        "id": "4k68G1z1pNWQ"
      }
    }
  ]
}