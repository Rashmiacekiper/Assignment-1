{
  "nbformat": 4,
  "nbformat_minor": 0,
  "metadata": {
    "colab": {
      "provenance": [],
      "authorship_tag": "ABX9TyNV3SFvEV+nVI5POQMBCfve",
      "include_colab_link": true
    },
    "kernelspec": {
      "name": "python3",
      "display_name": "Python 3"
    },
    "language_info": {
      "name": "python"
    }
  },
  "cells": [
    {
      "cell_type": "markdown",
      "metadata": {
        "id": "view-in-github",
        "colab_type": "text"
      },
      "source": [
        "<a href=\"https://colab.research.google.com/github/Rashmiacekiper/Assignment-1/blob/main/Python_Basics_Assignment_1.ipynb\" target=\"_parent\"><img src=\"https://colab.research.google.com/assets/colab-badge.svg\" alt=\"Open In Colab\"/></a>"
      ]
    },
    {
      "cell_type": "code",
      "execution_count": null,
      "metadata": {
        "id": "MyF8-KY-jp6M"
      },
      "outputs": [],
      "source": []
    },
    {
      "cell_type": "markdown",
      "source": [
        "## 1.Explain the key features of Python that make it a popular choice for programming.\n",
        "A -**Features of Python**\n",
        "  - Python is the simplest programming language.\n",
        "  - It has object oriented approach.It means it is procedured or functional programmimg language. Each and every task is in sequential manner.\n",
        "  - Python is utilized in web development, mathematical research, scientific research, visualization of data, analysis of data, interpretation of graphs, DV tools.\n",
        "  - Python helps in Machine learning, NLP and AI.\n",
        "  - Python works in all the different programs/any operating system platforms.\n",
        "  - Python's source code is converted to bytecode and executed line by line, which makes it easier to debug.\n",
        "  - Python runs in Interpreter. Code can be executed once it is written.\n",
        "  Python's simple syntax, keywords ans structure make it easy to understand. So, it is easy going with developers.\n",
        "  - Python offers an interactive shell or REPL (Read Evaluate Print Loop Environment), enabling developers to experiment the code snippets quickly. It enables developers to test code snippets, assess results and refine their code iteratively.\n",
        "  Therefore. the key features of Python will empower developers to create worldclass software applications efficiently.\n",
        "  "
      ],
      "metadata": {
        "id": "6GLsnJMPkmZF"
      }
    },
    {
      "cell_type": "markdown",
      "source": [
        "# 2. Describe the role of predefined keywords in Python and provide examples of how they are used in a program.\n",
        "A There are 35 keywords in Python.\n",
        "        False\tawait\telse\timport\tpass\n",
        "        None\tbreak\texcept\tin\traise\n",
        "        True\tclass\tfinally\tis\treturn\n",
        "        and\tcontinue\tfor\tlambda\ttry\n",
        "        as\tdef\tfrom\tnonlocal\twhile\n",
        "        assert\tdel\tglobal\tnot\twith\n",
        "        async\telif\tif\tor\tyield\n",
        "\n",
        "  A Keyword is a word having special meaning reserved by programming language. Keywords are words that convey a special meaning to the language. The purpose of the keyword is to define the syntax of the code.\n"
      ],
      "metadata": {
        "id": "WMs-QMIan8Oj"
      }
    },
    {
      "cell_type": "code",
      "source": [
        "# Examples\n",
        "2==2\n"
      ],
      "metadata": {
        "colab": {
          "base_uri": "https://localhost:8080/"
        },
        "id": "Cmw5PLMgpckt",
        "outputId": "15632189-fc0c-4d4e-f3af-f9a619ee0974"
      },
      "execution_count": null,
      "outputs": [
        {
          "output_type": "execute_result",
          "data": {
            "text/plain": [
              "True"
            ]
          },
          "metadata": {},
          "execution_count": 1
        }
      ]
    },
    {
      "cell_type": "code",
      "source": [
        "5>4\n"
      ],
      "metadata": {
        "colab": {
          "base_uri": "https://localhost:8080/"
        },
        "id": "3ZUgOO_kpqWf",
        "outputId": "40ad29b1-135b-4698-edd6-01d95056442a"
      },
      "execution_count": null,
      "outputs": [
        {
          "output_type": "execute_result",
          "data": {
            "text/plain": [
              "True"
            ]
          },
          "metadata": {},
          "execution_count": 2
        }
      ]
    },
    {
      "cell_type": "code",
      "source": [
        "6<4"
      ],
      "metadata": {
        "colab": {
          "base_uri": "https://localhost:8080/"
        },
        "id": "5gj5b930qH0r",
        "outputId": "36ea1c68-6493-4d8d-b485-f9971a8c3b89"
      },
      "execution_count": null,
      "outputs": [
        {
          "output_type": "execute_result",
          "data": {
            "text/plain": [
              "False"
            ]
          },
          "metadata": {},
          "execution_count": 4
        }
      ]
    },
    {
      "cell_type": "code",
      "source": [
        "a = 6\n",
        "type(a)"
      ],
      "metadata": {
        "colab": {
          "base_uri": "https://localhost:8080/"
        },
        "id": "XV1FcAjlqXa9",
        "outputId": "cbe56ccf-67ff-4063-9b05-62a2773832cc"
      },
      "execution_count": null,
      "outputs": [
        {
          "output_type": "execute_result",
          "data": {
            "text/plain": [
              "int"
            ]
          },
          "metadata": {},
          "execution_count": 8
        }
      ]
    },
    {
      "cell_type": "code",
      "source": [
        "b=2.6\n",
        "type(b)"
      ],
      "metadata": {
        "colab": {
          "base_uri": "https://localhost:8080/"
        },
        "id": "TjQdBEReqzZh",
        "outputId": "8a3b99a0-d7fb-43ea-becd-4c4511d90ae1"
      },
      "execution_count": null,
      "outputs": [
        {
          "output_type": "execute_result",
          "data": {
            "text/plain": [
              "float"
            ]
          },
          "metadata": {},
          "execution_count": 9
        }
      ]
    },
    {
      "cell_type": "markdown",
      "source": [
        "# 3. Compare and contrast mutable and immutable objects in Python with examples.\n",
        "\n",
        "A - In Python, objects can be either changeable/mutable or unchangeable/unmutable.\n",
        "  **Immutable types**\n",
        "  The Immutable types are those that can never change their value in place. The following types are immutable. (a) Integers\n",
        "                                 (b) Floating point numbers\n",
        "                                 (c) Booleans\n",
        "                                 (d) Strings\n",
        "                                 (e) Tuples\n",
        "                                 \n",
        "\n",
        " ** Mutable types**\n",
        " The Mutable types are those whose values can be changed in place. Mutable objets are : (a) List\n",
        "              (b) Disctionary\n",
        "              (c) Sets\n",
        "  To change a member of a list.We may write:\n",
        "  "
      ],
      "metadata": {
        "id": "_mmc8lyu8hBO"
      }
    },
    {
      "cell_type": "code",
      "source": [
        "chk=[2,4,6]\n",
        "chk[1]=40\n",
        "# It will make the list namely chk as [2,4,6]\n",
        "chk\n",
        "\n"
      ],
      "metadata": {
        "colab": {
          "base_uri": "https://localhost:8080/"
        },
        "id": "YvkuvRYRAG8J",
        "outputId": "205cc47e-5cdf-43a4-b997-0d77b92de7e1"
      },
      "execution_count": null,
      "outputs": [
        {
          "output_type": "execute_result",
          "data": {
            "text/plain": [
              "[2, 40, 6]"
            ]
          },
          "metadata": {},
          "execution_count": 6
        }
      ]
    },
    {
      "cell_type": "markdown",
      "source": [
        "The above was the example of Mutable type."
      ],
      "metadata": {
        "id": "xATq4T1vCmQe"
      }
    },
    {
      "cell_type": "markdown",
      "source": [
        "# 4.  Discuss the different types of operators in Python and provide examples of how they are used.\n",
        "A - Operators are special symbols or keywords that are used to carry out specific actions on numbers or variable in Python expressions. Python operators comprises of these types of operators.\n",
        "(a) Arithmatic operators - +\tAddition\tx + y\n",
        "                          -\tSubtraction\tx - y\n",
        "                          *\tMultiplication\tx * y\n",
        "                          /\tDivision\tx / y\n",
        "                          %\tModulus\tx % y\n",
        "                          **\tExponentiation\tx ** y\n",
        "                            //\tFloor division\tx // y\n",
        "\n",
        "(b) Comparison Operators - Compare two values and return a boolean value.\n",
        "                          Exp: 12>2 (output- True)\n",
        "                               12>=5 (output - True)\n",
        "                               10<2 (output - False)\n",
        "\n",
        "(c) Logical Operators - Logical operators are used to combine conditional statements.\n",
        "\n",
        "and : Returns True if both conditions are True\n",
        "or : Returns True if at least one condition is True\n",
        "not : Returns the negation of a condition\n",
        "Example:\n",
        "\n",
        "x = True\n",
        "y = False\n",
        "\n",
        "# and\n",
        "print(x and y)  # Output: False\n",
        "\n",
        "# or\n",
        "print(x or y)   # Output: True\n",
        "\n",
        "# not\n",
        "print(not x)    # Output: False\n",
        "\n",
        "(d) Bitwise operators - Bitwise operators are used to perform operations on the binary representations of integers.\n",
        "\n",
        "& : Bitwise AND\n",
        "| : Bitwise OR\n",
        "^ : Bitwise XOR (exclusive OR)\n",
        "~ : Bitwise NOT\n",
        "<< : Bitwise left shift\n",
        ">> : Bitwise right shift\n",
        "Example:\n",
        "\n",
        "a = 5  # 0101 in binary\n",
        "b = 3  # 0011 in binary\n",
        "\n",
        "# Bitwise AND\n",
        "print(a & b)  # Output: 1 (0001 in binary)\n",
        "\n",
        "# Bitwise OR\n",
        "print(a | b)  # Output: 7 (0111 in binary)\n",
        "\n",
        "# Bitwise XOR\n",
        "print(a ^ b)  # Output: 6 (0110 in binary)\n",
        "\n",
        "# Bitwise NOT\n",
        "print(~a)     # Output: -6 (inverted bits of 0101)\n",
        "\n",
        "# Bitwise Left Shift\n",
        "print(a << 1)  # Output: 10 (1010 in binary)\n",
        "\n",
        "# Bitwise Right Shift\n",
        "print(a >> 1)  # Output: 2 (0010 in binary)\n",
        "\n",
        "\n",
        "(e) Assignment Operators - These operators are used to assign values to variables.\n",
        "\n",
        "= : Assigns a value to a variable\n",
        "+= : Adds and assigns\n",
        "-= : Subtracts and assigns\n",
        "*= : Multiplies and assigns\n",
        "/= : Divides and assigns\n",
        "//= : Floor divides and assigns\n",
        "%= : Modulus and assigns\n",
        "**= : Exponentiates and assigns\n",
        "Example:\n",
        "\n",
        "a = 10\n",
        "\n",
        "# Add and assign\n",
        "a += 5  # a = a + 5\n",
        "print(a)  # Output: 15\n",
        "\n",
        "# Subtract and assign\n",
        "a -= 3  # a = a - 3\n",
        "print(a)  # Output: 12\n",
        "\n",
        "# Multiply and assign\n",
        "a *= 2  # a = a * 2\n",
        "print(a)  # Output: 24\n",
        "\n",
        "# Divide and assign\n",
        "a /= 4  # a = a / 4\n",
        "print(a)  # Output: 6.0\n",
        "\n",
        "# Floor divide and assign\n",
        "a //= 2  # a = a // 2\n",
        "print(a)  # Output: 3.0\n",
        "\n",
        "# Modulus and assign\n",
        "a %= 2  # a = a % 2\n",
        "print(a)  # Output: 1.0\n",
        "\n",
        "# Exponentiate and assign\n",
        "a **= 3  # a = a ** 3\n",
        "print(a)  # Output: 1.0\n",
        "\n",
        "(f) Membership Operators - These operators are used to test if a value is a member of a sequence (like a list, tuple, string, etc.).\n",
        "\n",
        "in : Returns True if a value is found in the sequence\n",
        "not in : Returns True if a value is not found in the sequence\n",
        "Example:\n",
        "python\n",
        "Copy code\n",
        "lst = [1, 2, 3, 4, 5]\n",
        "\n",
        "# in\n",
        "print(3 in lst)  # Output: True\n",
        "\n",
        "# not in\n",
        "print(6 not in lst)  # Output: True\n",
        "\n",
        "(g) Identity Operators - Identity operators are used to compare the memory locations of two objects.\n",
        "\n",
        "is : Returns True if two variables point to the same object in memory\n",
        "is not : Returns True if two variables do not point to the same object in memory\n",
        "Example:\n",
        "\n",
        "a = [1, 2, 3]\n",
        "b = [1, 2, 3]\n",
        "\n",
        "# is\n",
        "print(a is b)  # Output: False (because they are different objects in memory)\n",
        "\n",
        "# is not\n",
        "print(a is not b)  # Output: True\n",
        "\n",
        "c = a\n",
        "\n",
        "# is\n",
        "print(a is c)  # Output: True (because both point to the same object)\n",
        "\n"
      ],
      "metadata": {
        "id": "kMufJ9uHC7-X"
      }
    },
    {
      "cell_type": "markdown",
      "source": [
        "# 5.  Explain the concept of type casting in Python with examples.\n",
        "Ans - Type casting is the process of changing the data type of a value or object.\n",
        "Type casting, also referred to as type conversion, is the process of changing one data type to another in Python. •\tPython provides built-in functions for type casting, such as int(), float(), str(), list(), tuple(), dict(), etc.\n",
        "\n",
        "Python supports two main types of type casting:\n",
        "\n",
        "Implicit Type Casting (Automatic Casting)\n",
        "Explicit Type Casting (Manual Casting)\n",
        "\n",
        "1. Implicit Type Casting (Automatic Casting)\n",
        "Implicit type casting is automatically handled by Python when it converts a smaller data type to a larger data type. This occurs when an operation requires two different data types, and Python automatically converts the smaller data type to a larger one to avoid data loss.\n",
        "\n",
        "For example, when performing arithmetic operations between integers and floats, Python will automatically convert the integer to a float.\n",
        "\n",
        "Example:\n",
        "\n",
        "# Implicit type casting\n",
        "x = 10        # Integer\n",
        "y = 3.5       # Float\n",
        "\n",
        "# Python automatically converts x (int) to float and adds\n",
        "result = x + y\n",
        "print(result)  # Output: 13.5\n",
        "In the above example, x (an integer) is implicitly converted to a float to perform the addition with y, which is a float.\n",
        "\n",
        "2. Explicit Type Casting (Manual Casting)\n",
        "\n",
        "Explicit type casting requires the programmer to manually convert one data type to another using built-in functions. This type of casting is used when you want to convert a value to a specific type, even if it doesn't happen automatically.\n",
        "\n",
        "Python provides several functions for explicit type casting:\n",
        "\n",
        "int(): Converts a value to an integer.\n",
        "float(): Converts a value to a float.\n",
        "str(): Converts a value to a string.\n",
        "list(): Converts a value (like a tuple or string) to a list.\n",
        "tuple(): Converts a value to a tuple.\n",
        "set(): Converts a value to a set.\n",
        "Example:\n",
        "\n",
        "# Explicit Type Casting\n",
        "\n",
        "# Converting float to int\n",
        "float_value = 12.56\n",
        "int_value = int(float_value)  # The fractional part is truncated\n",
        "print(int_value)  # Output: 12\n",
        "\n",
        "# Converting string to integer\n",
        "str_value = \"100\"\n",
        "int_value = int(str_value)\n",
        "print(int_value)  # Output: 100\n",
        "\n",
        "# Converting integer to float\n",
        "int_value = 10\n",
        "float_value = float(int_value)\n",
        "print(float_value)  # Output: 10.0\n",
        "\n",
        "# Converting integer to string\n",
        "num = 25\n",
        "str_value = str(num)\n",
        "print(str_value)  # Output: \"25\"\n",
        "\n",
        "num = 50\n",
        "str_value = str(num)\n",
        "print(str_value)  # Output: \"50\"\n",
        "\n",
        "# Concatenating string and number\n",
        "greeting = \"The number is \" + str(num)\n",
        "print(greeting)  # Output: \"The number is 50\"\n"
      ],
      "metadata": {
        "id": "rZ59BGkpWYNO"
      }
    },
    {
      "cell_type": "markdown",
      "source": [
        "# 6. How do conditional statements work in Python? Illustrate with examples.\n",
        " Ans - •\tConditionals in Python are used to execute code based on the evaluation of one or more conditions.\n",
        "•\tPython supports conditional statements such as if, elif (else if), and else to control the flow of execution.\n",
        "Example\n",
        "(a)\n",
        "x = 10\n",
        "\n",
        "if x > 5:\n",
        "    print(\"x is greater than 5\")\n",
        "\n",
        "(Output - X is greater than 5)\n",
        "\n",
        "(b)\n",
        "x = 3\n",
        "\n",
        "if x > 5:\n",
        "    print(\"x is greater than 5\")\n",
        "else:\n",
        "    print(\"x is less than or equal to 5\")\n",
        "\n",
        "(output - x is less than or equal to 5)\n",
        "\n",
        "(c)\n",
        "x = 7\n",
        "\n",
        "if x > 10:\n",
        "    print(\"x is greater than 10\")\n",
        "elif x > 5:\n",
        "    print(\"x is greater than 5 but less than or equal to 10\")\n",
        "else:\n",
        "    print(\"x is 5 or less\")\n",
        "\n",
        "(Output - x is greater than 5 but less than or equal to 10)\n",
        "\n",
        "\n",
        "\n",
        "•\tConditionals can be nested to handle multiple conditions and control different branches of execution based on the outcome of logical expressions.\n",
        "\n",
        "Example\n",
        "x = 15\n",
        "y = 10\n",
        "\n",
        "if x > 5:\n",
        "    if y > 5:\n",
        "        print(\"Both x and y are greater than 5\")\n",
        "    else:\n",
        "        print(\"x is greater than 5, but y is not\")\n",
        "else:\n",
        "    print(\"x is less than or equal to 5\")\n",
        "\n",
        "(Output - Both x and y are greater than 5)\n",
        "Here, the first if condition (x > 5) is True, so Python checks the inner if statement (y > 5). Since y > 5 is also True, the inner block of code is executed.\n",
        "\n"
      ],
      "metadata": {
        "id": "Li5Aj3fdYjYO"
      }
    },
    {
      "cell_type": "markdown",
      "source": [
        "# 7.  Describe the different types of loops in Python and their use cases with examples.\n",
        "\n",
        "Ans -\n",
        "•\tIn Python, loops are employed to repeat a sequence of actions or code until a specific condition is fulfilled.\n",
        "•\tPython offers two primary types of loops: for loops and while loops.\n",
        "•\t“for” loops are used for iterating over a sequence of elements, while “while” loops are used for executing code until a specified condition becomes False\n",
        "\n",
        "**1. The for Loop**\n",
        "The for loop is used to iterate over a sequence (such as a list, tuple, dictionary, set, or string) or other iterable objects. The loop runs once for each item in the sequence.\n",
        "\n",
        "Syntax:\n",
        "\n",
        "for variable in iterable:\n",
        "    # code to execute for each item\n",
        "Example 1: Iterating over a list\n",
        "\n",
        "fruits = [\"apple\", \"banana\", \"cherry\"]\n",
        "\n",
        "for fruit in fruits:\n",
        "    print(fruit)\n",
        "Output:\n",
        "\n",
        "apple\n",
        "banana\n",
        "cherry\n",
        "In this example, the for loop iterates over each item in the list fruits and prints it.\n",
        "\n",
        "Example 2: Iterating over a range of numbers\n",
        "The range() function is often used with for loops to repeat actions a specific number of times.\n",
        "\n",
        "for i in range(5):\n",
        "    print(i)\n",
        "Output:\n",
        "\n",
        "Copy code\n",
        "0\n",
        "1\n",
        "2\n",
        "3\n",
        "4\n",
        "Here, range(5) generates numbers from 0 to 4 (5 is not included), and the loop prints each number.\n",
        "\n",
        "Example 3: Iterating over a dictionary\n",
        "When looping through a dictionary, you can loop over its keys, values, or key-value pairs.\n",
        "\n",
        "person = {\"name\": \"Alice\", \"age\": 25, \"city\": \"New York\"}\n",
        "\n",
        "# Loop over keys\n",
        "for key in person:\n",
        "    print(key, \":\", person[key])\n",
        "\n",
        "# Loop over keys and values\n",
        "for key, value in person.items():\n",
        "    print(key, \"->\", value)\n",
        "Output:\n",
        "\n",
        "name : Alice\n",
        "age : 25\n",
        "city : New York\n",
        "\n",
        "name -> Alice\n",
        "age -> 25\n",
        "city -> New York\n",
        "\n",
        "** 2. The While Loop **\n",
        "he while loop repeatedly executes a block of code as long as the specified condition is True. The loop will stop when the condition becomes False.\n",
        "\n",
        "Syntax:\n",
        "\n",
        "while condition:\n",
        "    # code to execute while condition is True\n",
        "Example 1: Basic while loop\n",
        "\n",
        "count = 0\n",
        "\n",
        "while count < 5:\n",
        "    print(count)\n",
        "    count += 1  # Increment the counter\n",
        "Output:\n",
        "\n",
        "0\n",
        "1\n",
        "2\n",
        "3\n",
        "4\n",
        "In this example, the loop continues to run as long as count < 5. Each time, count is incremented by 1 until it reaches 5, at which point the loop stops.\n",
        "\n",
        "Example 2: Infinite loop with while (using break to stop)\n",
        "A while loop can run indefinitely if its condition is always True. You can use a break statement to exit the loop.\n",
        "\n",
        "while True:\n",
        "    response = input(\"Type 'exit' to stop: \")\n",
        "    if response == \"exit\":\n",
        "        print(\"Exiting the loop.\")\n",
        "        break\n",
        "Output (example of input/output):\n",
        "\n",
        "Type 'exit' to stop: hello\n",
        "Type 'exit' to stop: exit\n",
        "Exiting the loop.\n",
        "In this example, the loop runs indefinitely until the user types \"exit\", at which point the break statement exits the loop.\n",
        "\n"
      ],
      "metadata": {
        "id": "ECnsrzgjbBrg"
      }
    }
  ]
}