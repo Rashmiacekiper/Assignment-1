{
  "nbformat": 4,
  "nbformat_minor": 0,
  "metadata": {
    "colab": {
      "provenance": [],
      "authorship_tag": "ABX9TyO67dAsy2/HlyJZPCn8UQk+",
      "include_colab_link": true
    },
    "kernelspec": {
      "name": "python3",
      "display_name": "Python 3"
    },
    "language_info": {
      "name": "python"
    }
  },
  "cells": [
    {
      "cell_type": "markdown",
      "metadata": {
        "id": "view-in-github",
        "colab_type": "text"
      },
      "source": [
        "<a href=\"https://colab.research.google.com/github/Rashmiacekiper/Assignment-1/blob/main/Data_Toolkit_Assignment_6.ipynb\" target=\"_parent\"><img src=\"https://colab.research.google.com/assets/colab-badge.svg\" alt=\"Open In Colab\"/></a>"
      ]
    },
    {
      "cell_type": "markdown",
      "source": [
        "# **Data Toolkit**\n",
        "\n",
        "## Q 1.  What is NumPy, and why is it widely used in Python?\n",
        "\n",
        "Ans-\n",
        "NumPy (short for Numerical Python) is a powerful library in Python primarily used for numerical and scientific computing. It provides support for working with large, multi-dimensional arrays and matrices, along with a large collection of high-level mathematical functions to operate on these arrays.NumPy is widely used because of its performance, ease of use, and ability to handle large datasets efficiently, making it an essential tool for scientific computing in Python.\n",
        "\n",
        "Why it's widely used:\n",
        "\n",
        "(a) Performance: It allows fast computations by using highly efficient, low-level C code.\n",
        "(b) Ease of use: Simplifies complex mathematical operations with a high-level API.\n",
        "(c) Memory efficiency: NumPy arrays are more memory-efficient than Python lists.\n",
        "(d) Broad integration: It's the foundation for many other libraries like Pandas, SciPy, and Matplotlib.\n",
        "(e) Vectorization: Enables fast, element-wise operations on arrays without explicit loops.\n",
        "(f) These features make NumPy essential for scientific, mathematical, and data-driven tasks in Python.\n",
        "\n",
        "\n",
        "## Q 2.  How does broadcasting work in NumPy?\n",
        "\n",
        "Ans- Broadcasting in NumPy allows operations on arrays of different shapes, making it possible to perform element-wise operations without explicitly reshaping the arrays. NumPy automatically adjusts the shapes of the arrays involved in an operation to make them compatible, following specific rules.\n",
        "\n",
        "How it works:\n",
        "**Aligning dimensions**: NumPy compares the dimensions of the arrays starting from the right (last dimension). If the dimensions are not the same, it \"broadcasts\" the smaller array to match the larger one.\n",
        "\n",
        "**Compatibility rules:** Broadcasting works when:\n",
        "\n",
        "The arrays have the same number of dimensions, or one has fewer dimensions.\n",
        "The size of the dimension is either the same or one of the arrays has a size of 1 in that dimension.\n"
      ],
      "metadata": {
        "id": "psGoQB2oj3TP"
      }
    },
    {
      "cell_type": "code",
      "source": [
        "import numpy as np\n",
        "a = np.array([1, 2, 3])  # Shape (3,)\n",
        "b = np.array([[10], [20], [30]])  # Shape (3, 1)\n",
        "result = a + b  # Broadcasting happens here\n"
      ],
      "metadata": {
        "id": "PbTFx42HmE73"
      },
      "execution_count": 1,
      "outputs": []
    },
    {
      "cell_type": "markdown",
      "source": [
        "In the above case, a is broadcasted to shape (3, 3) to match b, and the addition is performed element-wise.\n",
        "\n",
        "In short, broadcasting simplifies operations on arrays of different shapes by automatically adjusting their dimensions, making code more concise and efficient.\n",
        "\n",
        "## Q 3.  What is a Pandas DataFrame?\n",
        "\n",
        "Ans- A **Pandas DataFrame** is a two-dimensional, labeled data structure in Python, similar to a table or a spreadsheet. It can hold data of different types (e.g., integers, floats, strings) in columns, and each column can be accessed by its label.\n",
        "\n",
        "### Key Features:\n",
        "- **Rows and Columns**: Data is organized into rows and columns, where each column can have a different data type.\n",
        "- **Labeled axes**: Both rows and columns are labeled, allowing easy access to data using labels.\n",
        "- **Flexible**: Data can be read from various formats (CSV, Excel, SQL databases, etc.) and manipulated efficiently.\n",
        "\n",
        "Therefore, a Pandas DataFrame is a powerful and flexible structure for handling and analyzing structured data.\n",
        "\n",
        "## Q 4.  Explain the use of the groupby() method in Pandas\n",
        "\n",
        "Ans- The **`groupby()`** method in Pandas is used to group data based on one or more columns, and then apply a function (like sum, mean, count, etc.) to each group independently. It allows for efficient data aggregation and transformation.\n",
        "\n",
        "### How it works:\n",
        "1. **Grouping**: The `groupby()` method splits the data into groups based on specified column(s).\n",
        "2. **Applying**: A function is applied to each group (e.g., calculating the sum or average).\n",
        "3. **Combining**: The results from each group are combined back into a DataFrame or Series.\n",
        "\n",
        "## Example:\n",
        "\n",
        "import pandas as pd\n",
        "data = {'Category': ['A', 'B', 'A', 'B', 'A'], 'Value': [10, 20, 30, 40, 50]}\n",
        "df = pd.DataFrame(data)\n",
        "\n",
        "## Group by 'Category' and calculate the sum of 'Value'\n",
        "result = df.groupby('Category')['Value'].sum()\n",
        "\n",
        "This will group the data by the 'Category' column and calculate the sum of 'Value' for each group.\n",
        "\n",
        "Therefore, groupby() is useful for aggregating and summarizing data based on categories.\n",
        "\n",
        "## Q 5.  Why is Seaborn preferred for statistical visualizations?\n",
        "\n",
        "Ans- **Seaborn** is preferred for statistical visualizations because it provides:\n",
        "\n",
        "1. **High-level interface**: Seaborn simplifies the creation of complex statistical plots (e.g., box plots, violin plots, pair plots) with minimal code.\n",
        "2. **Built-in statistical functions**: It integrates easily with Pandas and automatically computes statistics like means, medians, and confidence intervals for visualizations.\n",
        "3. **Aesthetics**: Seaborn generates visually appealing, well-designed plots by default, with better color schemes and style options than Matplotlib.\n",
        "4. **Integration with Pandas**: Seaborn works seamlessly with Pandas DataFrames, allowing easy data manipulation and plotting directly from DataFrames.\n",
        "\n",
        "In short, Seaborn is preferred for its simplicity, statistical capabilities, and aesthetically pleasing visuals."
      ],
      "metadata": {
        "id": "EoBfof80nuJM"
      }
    },
    {
      "cell_type": "markdown",
      "source": [
        "## Q 6.  What are the differences between NumPy arrays and Python lists?\n",
        "\n",
        "Ans- Here are the key differences between **NumPy arrays** and **Python lists**:\n",
        "\n",
        "1. **Performance**:\n",
        "   - **NumPy arrays** are faster for numerical operations because they are implemented in C and optimized for performance.\n",
        "   - **Python lists** are slower as they are general-purpose and can store elements of different data types.\n",
        "\n",
        "2. **Memory Efficiency**:\n",
        "   - **NumPy arrays** are more memory-efficient since they store elements of the same data type.\n",
        "   - **Python lists** are less memory-efficient as they store objects of arbitrary types, leading to overhead.\n",
        "\n",
        "3. **Element-wise Operations**:\n",
        "   - **NumPy arrays** support element-wise operations (e.g., addition, multiplication) without the need for explicit loops.\n",
        "   - **Python lists** do not support element-wise operations natively and require loops for similar tasks.\n",
        "\n",
        "4. **Multidimensional Support**:\n",
        "   - **NumPy arrays** can easily handle multi-dimensional arrays (e.g., matrices).\n",
        "   - **Python lists** can represent multi-dimensional data but require nested lists and additional complexity.\n",
        "\n",
        "5. **Functionality**:\n",
        "   - **NumPy arrays** come with a wide range of built-in functions for mathematical, statistical, and linear algebra operations.\n",
        "   - **Python lists** provide basic functionality like adding, removing, or indexing elements, but no advanced mathematical operations.\n",
        "\n",
        "In short, NumPy arrays are optimized for numerical tasks, offering better performance, memory efficiency, and functionality compared to Python lists.\n",
        "\n",
        "\n",
        "## Q 7.  What is a heatmap, and when should it be used?\n",
        "\n",
        "Ans- A **heatmap** is a data visualization that displays values in a matrix format, where individual values are represented by colors. The color intensity indicates the magnitude of the value, with typically darker or more intense colors representing higher values.\n",
        "\n",
        "### When to use a heatmap:\n",
        "- **Correlation analysis**: To visualize correlations between variables in a dataset.\n",
        "- **Data density**: To display the density of occurrences or values, such as in geographical data or survey responses.\n",
        "- **Matrix data**: For visualizing matrices, such as confusion matrices, or when comparing values across rows and columns.\n",
        "\n",
        "Therefore, heatmaps are useful for visualizing patterns, relationships, or anomalies in large datasets through color-coding.\n",
        "\n",
        "\n",
        "## Q 8.  What does the term “vectorized operation” mean in NumPy?\n",
        "\n",
        "Ans- In **NumPy**, a **vectorized operation** refers to performing operations on entire arrays (or large portions of them) without using explicit loops. These operations are carried out element-wise, and NumPy automatically optimizes them for faster execution using low-level implementations.\n",
        "\n",
        "### Key Points:\n",
        "- **Efficiency**: Vectorized operations are more efficient than traditional loops in Python, as they are implemented in C and run directly on memory.\n",
        "- **Simplicity**: They allow complex operations to be written in a more concise and readable way.\n",
        "\n",
        "Example:\n",
        "\n",
        "import numpy as np\n",
        "a = np.array([1, 2, 3])\n",
        "b = np.array([4, 5, 6])\n",
        "result = a + b  # Vectorized operation, adds elements of a and b element-wise\n",
        "\n",
        "Therefore, a vectorized operation in NumPy enables faster and more readable computations on arrays without explicit loops.\n",
        "\n",
        "\n",
        "## Q 9.  How does Matplotlib differ from Plotly?\n",
        "\n",
        "Ans- **Matplotlib** and **Plotly** are both popular Python libraries for data visualization, but they differ in several ways:\n",
        "\n",
        "1. **Interactivity**:\n",
        "   - **Matplotlib**: Primarily generates static, non-interactive plots.\n",
        "   - **Plotly**: Creates interactive plots that allow users to zoom, pan, and hover over data points for additional information.\n",
        "\n",
        "2. **Ease of Use**:\n",
        "   - **Matplotlib**: Offers fine-grained control over plot customization, but can require more code for interactivity and complex features.\n",
        "   - **Plotly**: Provides higher-level interfaces and is more intuitive for creating interactive visualizations with less code.\n",
        "\n",
        "3. **Appearance**:\n",
        "   - **Matplotlib**: Produces publication-quality static plots with detailed customization options.\n",
        "   - **Plotly**: Focuses on creating visually appealing interactive plots, especially suited for web applications.\n",
        "\n",
        "4. **Use Cases**:\n",
        "   - **Matplotlib**: Best for static, highly customizable plots (e.g., academic papers, reports).\n",
        "   - **Plotly**: Ideal for interactive dashboards, web-based applications, and exploratory data analysis.\n",
        "\n",
        "So, **Matplotlib** is best for static, high-quality plots, while **Plotly** excels at creating interactive visualizations.\n",
        "\n",
        "\n",
        "## Q 10. What is the significance of hierarchical indexing in Pandas?\n",
        "\n",
        "Ans- **Hierarchical indexing** in Pandas allows for multiple levels of indexing on a DataFrame or Series, enabling the organization and manipulation of data with more complex structures. It is also known as **MultiIndex**.\n",
        "\n",
        "### Significance:\n",
        "1. **Multi-level grouping**: Hierarchical indexing allows you to group and access data in a more organized way, especially when working with data that has multiple dimensions or categories (e.g., data from different regions, time periods).\n",
        "2. **Efficient data handling**: It makes operations like slicing, aggregation, and reshaping easier by referencing multiple levels of indices.\n",
        "3. **Better organization**: It helps represent data that naturally fits into a hierarchical structure, like time series data (years, months, days) or nested categories.\n",
        "\n",
        "### Example:\n",
        "```python\n",
        "import pandas as pd\n",
        "index = pd.MultiIndex.from_tuples([('A', 1), ('A', 2), ('B', 1)], names=['Letter', 'Number'])\n",
        "df = pd.DataFrame([1, 2, 3], index=index, columns=['Value'])\n",
        "```\n",
        "\n",
        "In short, hierarchical indexing provides a powerful way to handle and analyze multi-dimensional data in Pandas."
      ],
      "metadata": {
        "id": "hM3DVUN5pqZA"
      }
    },
    {
      "cell_type": "markdown",
      "source": [
        "## Q 11.  What is the role of Seaborn’s pairplot() function?\n",
        "\n",
        "Ans- The **`pairplot()`** function in Seaborn is used to create a matrix of scatter plots for visualizing relationships between multiple numerical variables in a dataset. It shows pairwise comparisons of variables, helping to identify correlations, distributions, and patterns.\n",
        "\n",
        "### Key Features:\n",
        "- **Pairwise scatter plots**: Plots the relationships between every pair of variables in the dataset.\n",
        "- **Diagonal plots**: Displays univariate distributions (like histograms or KDEs) along the diagonal.\n",
        "- **Customization**: Can include color-coding by categories, regression lines, or other statistical visualizations.\n",
        "\n",
        "### Example:\n",
        "\n",
        "import seaborn as sns\n",
        "sns.pairplot(df)\n",
        "\n",
        "\n",
        "In short, `pairplot()` is useful for quickly exploring the relationships between variables in a dataset and identifying patterns or correlations.\n",
        "\n",
        "\n",
        "## Q 12.  What is the purpose of the describe() function in Pandas?\n",
        "\n",
        "Ans- The **`describe()`** function in Pandas is used to generate summary statistics of a DataFrame or Series, providing an overview of the distribution and key characteristics of the numerical data.\n",
        "\n",
        "### Purpose:\n",
        "- **Summary statistics**: It calculates metrics like mean, standard deviation, minimum, maximum, and percentiles (25%, 50%, 75%).\n",
        "- **Data insights**: Helps quickly understand the central tendency, spread, and shape of the data.\n",
        "\n",
        "### Example:\n",
        "\n",
        "import pandas as pd\n",
        "df.describe()\n",
        "\n",
        "So, `describe()` provides a quick and comprehensive summary of the statistical properties of numerical columns in a DataFrame.\n",
        "\n",
        "\n",
        "## Q 13. Why is handling missing data important in Pandas?\n",
        "\n",
        "Ans- Handling **missing data** is important in Pandas because:\n",
        "\n",
        "1. **Data Integrity**: Missing data can lead to inaccurate or biased analysis if not addressed properly. It can distort statistical calculations like means, medians, and correlations.\n",
        "\n",
        "2. **Modeling**: Many machine learning models cannot handle missing values directly, and leaving them untreated may result in errors or poor model performance.\n",
        "\n",
        "3. **Consistency**: Ensuring that missing values are handled properly helps maintain consistent and reliable datasets, enabling accurate insights.\n",
        "\n",
        "### Common Approaches in Pandas:\n",
        "- **Filling**: Using methods like `fillna()` to replace missing values with a specific value or using interpolation.\n",
        "- **Dropping**: Removing rows or columns with missing data using `dropna()`.\n",
        "- **Imputation**: Replacing missing values with estimates based on other data (e.g., mean or median imputation).\n",
        "\n",
        "Therefore, handling missing data ensures accurate analysis, reliable models, and data consistency.\n",
        "\n",
        "\n",
        "## Q 14.  What are the benefits of using Plotly for data visualization?\n",
        "\n",
        "Ans- **Plotly** offers several benefits for data visualization:\n",
        "\n",
        "1. **Interactivity**: Plotly generates interactive plots, allowing users to zoom, pan, and hover for additional information, enhancing data exploration.\n",
        "2. **Aesthetics**: It creates visually appealing, high-quality, and polished plots by default.\n",
        "3. **Ease of Use**: Plotly provides high-level APIs that make it easy to create complex plots with minimal code.\n",
        "4. **Web Integration**: Plots are easily embeddable in web applications and dashboards, making it ideal for interactive reports.\n",
        "5. **Wide Range of Plot Types**: It supports a variety of visualizations, including 3D plots, maps, and statistical charts.\n",
        "\n",
        "In short, Plotly excels in creating interactive, visually appealing, and web-ready visualizations with minimal effort.\n",
        "\n",
        "\n",
        "## Q 15.  How does NumPy handle multidimensional arrays?\n",
        "\n",
        "Ans- **NumPy** handles multidimensional arrays through its **ndarray** object, which can store data in arrays with multiple dimensions (e.g., 2D matrices, 3D tensors). These arrays are efficient in terms of memory and performance.\n",
        "\n",
        "### Key Features:\n",
        "1. **Shape and Dimensions**: NumPy arrays can have any number of dimensions (axes), and the shape of an array is represented by a tuple (e.g., `(3, 4)` for a 2D array with 3 rows and 4 columns).\n",
        "2. **Indexing and Slicing**: You can index and slice multidimensional arrays using tuples of indices or slice objects, allowing access to specific elements, rows, columns, or subarrays.\n",
        "3. **Operations**: NumPy supports element-wise operations on multidimensional arrays, and operations can be efficiently performed across entire arrays without the need for explicit loops.\n",
        "\n",
        "### Example:\n",
        "\n",
        "import numpy as np\n",
        "arr = np.array([[1, 2, 3], [4, 5, 6]])\n",
        "print(arr.shape)  # Output: (2, 3)\n",
        "\n",
        "Therefore, NumPy efficiently handles multidimensional arrays with powerful indexing, slicing, and operations, making it suitable for complex data structures.\n",
        "\n",
        "\n",
        "## Q 16.  What is the role of Bokeh in data visualization?\n",
        "\n",
        "Ans- **Bokeh** is a Python library for interactive data visualization, specifically designed for creating web-based visualizations that can be embedded into web applications.\n",
        "\n",
        "### Key Roles of Bokeh:\n",
        "1. **Interactivity**: Bokeh enables the creation of interactive plots with features like zooming, panning, and hovering, allowing users to explore the data.\n",
        "2. **Web Integration**: It is optimized for generating visualizations that can be easily embedded into web pages or dashboards.\n",
        "3. **Flexibility**: Bokeh supports a wide variety of plot types (e.g., scatter, line, bar charts, heatmaps) and custom interactive widgets.\n",
        "4. **High-performance**: It is capable of handling large datasets and streaming data efficiently in real-time applications.\n",
        "\n",
        "In short, Bokeh is ideal for creating interactive, web-based visualizations, making it well-suited for data dashboards and interactive reporting.\n",
        "\n",
        "\n",
        "## Q 17.  Explain the difference between apply() and map() in Pandas?\n",
        "\n",
        "Ans- In **Pandas**, both **`apply()`** and **`map()`** are used for applying functions to data, but they differ in scope and usage:\n",
        "\n",
        "1. **`apply()`**:\n",
        "   - Works on **entire rows or columns** of a DataFrame or Series.\n",
        "   - Can be used with both **Series** and **DataFrame**.\n",
        "   - Allows more **complex functions** (like aggregations or transformations) to be applied across rows or columns.\n",
        "\n",
        "   **Example** (on DataFrame):\n",
        "   ```python\n",
        "   df.apply(np.sum, axis=0)  # Sum values across each column\n",
        "   ```\n",
        "\n",
        "2. **`map()`**:\n",
        "   - Works only on **Series** and applies a **function element-wise**.\n",
        "   - Typically used for **transforming values** based on a mapping (e.g., replacing values or applying a function to each element).\n",
        "\n",
        "   **Example** (on Series):\n",
        "   ```python\n",
        "   df['column'].map(lambda x: x * 2)  # Apply a function element-wise\n",
        "   ```\n",
        "\n",
        "### Key Difference:\n",
        "- **`apply()`** can work across entire rows or columns and is more flexible, while **`map()`** is simpler and works only element-wise on a **single column** (Series).\n",
        "\n",
        "## Q 18. What are some advanced features of NumPy?\n",
        "\n",
        "Ans- Some advanced features of **NumPy** include:\n",
        "\n",
        "1. **Broadcasting**: Allows operations on arrays of different shapes by automatically adjusting their shapes to make them compatible for element-wise operations without explicit loops.\n",
        "\n",
        "2. **Vectorization**: Enables fast execution of element-wise operations on entire arrays, improving performance by avoiding Python loops.\n",
        "\n",
        "3. **Advanced indexing**: Supports techniques like boolean indexing, fancy indexing (using integer arrays or lists), and conditional selection for efficient data manipulation.\n",
        "\n",
        "4. **Linear algebra**: Provides comprehensive functions for linear algebra operations, such as matrix multiplication, eigenvalue computation, and solving linear systems.\n",
        "\n",
        "5. **Random module**: Offers tools for generating random numbers, sampling, and statistical simulations, supporting various distributions (e.g., normal, uniform).\n",
        "\n",
        "6. **Fourier Transforms**: Includes efficient functions like `fft()` for performing Fourier transforms, which are useful in signal processing and other scientific applications.\n",
        "\n",
        "7. **Memory management**: NumPy arrays can be reshaped, flattened, and transposed without making copies, reducing memory usage with `view()` and `reshape()` functions.\n",
        "\n",
        "Therefore, NumPy provides advanced capabilities for efficient numerical computation, including broadcasting, advanced indexing, linear algebra, and random number generation.\n",
        "\n",
        "\n",
        "## Q 19.  How does Pandas simplify time series analysis?\n",
        "\n",
        "Ans- Pandas simplifies **time series analysis** with its powerful and easy-to-use features:\n",
        "\n",
        "1. **Datetime support**: Pandas provides efficient handling of **datetime** objects and supports various date/time formats, making it easy to work with time-based data.\n",
        "\n",
        "2. **Resampling**: Allows you to change the frequency of time series data (e.g., from daily to monthly) using the `resample()` method for aggregation or downsampling.\n",
        "\n",
        "3. **Time-based indexing**: Pandas enables **time-based indexing**, where data is indexed by timestamps, allowing for quick access, slicing, and filtering based on date and time.\n",
        "\n",
        "4. **Rolling windows**: Supports moving averages and other window-based operations using the `rolling()` function to analyze trends over time.\n",
        "\n",
        "5. **Shifting and lagging**: The `shift()` function makes it easy to shift data, useful for calculating differences between periods or lagging indicators.\n",
        "\n",
        "Therefore, Pandas simplifies time series analysis by providing built-in tools for date parsing, resampling, indexing, and window operations, making it ideal for working with time-dependent data.\n",
        "\n",
        "\n",
        "## Q 20.  What is the role of a pivot table in Pandas?\n",
        "\n",
        "Ans- A **pivot table** in Pandas is used to summarize and aggregate data in a DataFrame, allowing you to rearrange and analyze data in a structured format. It transforms long-form data into a table with multi-dimensional summary statistics.\n",
        "\n",
        "### Role:\n",
        "1. **Data Aggregation**: Pivot tables allow you to group data based on one or more columns and apply aggregation functions (e.g., sum, mean, count) to summarize the data.\n",
        "2. **Reshaping**: They help reshape data, turning unique values from one column into new columns and performing calculations across them.\n",
        "3. **Easy Comparison**: Pivot tables make it easy to compare data across different dimensions (e.g., comparing sales across different regions and time periods).\n",
        "\n",
        "### Example:\n",
        "```python\n",
        "import pandas as pd\n",
        "df = pd.DataFrame({\n",
        "    'Date': ['2024-01-01', '2024-01-02', '2024-01-01', '2024-01-02'],\n",
        "    'Region': ['North', 'North', 'South', 'South'],\n",
        "    'Sales': [200, 250, 150, 300]\n",
        "})\n",
        "\n",
        "pivot_df = df.pivot_table(values='Sales', index='Date', columns='Region', aggfunc='sum')\n",
        "```\n",
        "\n",
        "Therefore, a pivot table in Pandas is a powerful tool for summarizing, reshaping, and analyzing data with multiple dimensions.\n",
        "\n",
        "\n",
        "## Q 21.  Why is NumPy’s array slicing faster than Python’s list slicing?\n",
        "\n",
        "Ans- **NumPy’s array slicing** is faster than Python’s list slicing because:\n",
        "\n",
        "1. **Memory Efficiency**: NumPy arrays are stored in contiguous blocks of memory, allowing for more efficient slicing without needing to copy the data. Python lists, on the other hand, are more flexible but stored in non-contiguous memory, requiring more overhead when slicing.\n",
        "\n",
        "2. **Low-level Implementation**: NumPy operations, including slicing, are implemented in **C** and highly optimized for performance, whereas Python lists are handled at a higher level, which introduces more overhead.\n",
        "\n",
        "3. **No Data Copy**: When slicing a NumPy array, it often returns a **view** (not a copy), meaning changes to the slice affect the original array. In contrast, Python lists generally create a new list when sliced.\n",
        "\n",
        "Therefore, NumPy’s array slicing is faster due to efficient memory storage, low-level implementation, and the use of views instead of copies.\n",
        "\n",
        "\n",
        "## Q 22.  What are some common use cases for Seaborn?\n",
        "\n",
        "Ans- **Seaborn** is widely used for statistical data visualization. Some common use cases include:\n",
        "\n",
        "1. **Visualizing distributions**: Seaborn’s functions like `distplot()`, `kdeplot()`, and `boxplot()` are used to visualize the distribution of data, including histograms, density plots, and box plots.\n",
        "\n",
        "2. **Exploring relationships between variables**: Functions like `scatterplot()`, `pairplot()`, and `heatmap()` help in visualizing relationships, correlations, and patterns between two or more variables.\n",
        "\n",
        "3. **Categorical data analysis**: Seaborn's `barplot()`, `countplot()`, and `violinplot()` are often used to analyze and compare categorical data by plotting aggregated statistics.\n",
        "\n",
        "4. **Regression analysis**: The `regplot()` function is used to plot linear regression models along with scatter plots to visualize the relationship between variables.\n",
        "\n",
        "5. **Matrix visualization**: Heatmaps, created with `heatmap()`, are used to display matrix-like data, such as correlation matrices or cross-tabulations.\n",
        "\n",
        "Therefore, Seaborn is great for visualizing distributions, relationships, and statistical summaries in datasets, particularly with its emphasis on simplicity and aesthetics."
      ],
      "metadata": {
        "id": "sLBlHOC-rs2d"
      }
    },
    {
      "cell_type": "markdown",
      "source": [
        "# **Practical**\n",
        "\n",
        "## Q 1.  How do you create a 2D NumPy array and calculate the sum of each row?\n",
        "\n",
        "Ans-"
      ],
      "metadata": {
        "id": "2AP4LKtEvFYU"
      }
    },
    {
      "cell_type": "code",
      "source": [
        "import numpy as np\n",
        "\n",
        "# Create a 2D NumPy array\n",
        "array = np.array([[1, 2, 3], [4, 5, 6], [7, 8, 9]])\n",
        "\n",
        "# Calculate the sum of each row\n",
        "row_sums = array.sum(axis=1)\n",
        "\n",
        "print(row_sums)\n"
      ],
      "metadata": {
        "colab": {
          "base_uri": "https://localhost:8080/"
        },
        "id": "D-3pmo2VvcVn",
        "outputId": "1025e2df-e614-4631-cc07-02fe8f40488f"
      },
      "execution_count": 6,
      "outputs": [
        {
          "output_type": "stream",
          "name": "stdout",
          "text": [
            "[ 6 15 24]\n"
          ]
        }
      ]
    },
    {
      "cell_type": "markdown",
      "source": [
        "Explanation:\n",
        "Creating a 2D array: np.array([[1, 2, 3], [4, 5, 6], [7, 8, 9]]) creates a 3x3 matrix.\n",
        "Calculating the sum: array.sum(axis=1) calculates the sum across each row (axis 1 indicates rows).\n",
        "So, np.sum(axis=1) gives the sum of each row in a 2D NumPy array."
      ],
      "metadata": {
        "id": "xRU0l6J8vlK3"
      }
    },
    {
      "cell_type": "markdown",
      "source": [
        "## Q 2.  Write a Pandas script to find the mean of a specific column in a DataFrame.\n",
        "Ans-"
      ],
      "metadata": {
        "id": "TxKU5d5GvtxN"
      }
    },
    {
      "cell_type": "code",
      "source": [
        "import pandas as pd\n",
        "\n",
        "# Create a sample DataFrame\n",
        "data = {\n",
        "    'Name': ['Alice', 'Bob', 'Charlie', 'David', 'Eva'],\n",
        "    'Age': [25, 30, 35, 40, 45],\n",
        "    'Salary': [50000, 60000, 70000, 80000, 90000]\n",
        "}\n",
        "\n",
        "df = pd.DataFrame(data)\n",
        "\n",
        "# Calculate the mean of the 'Age' column\n",
        "mean_age = df['Age'].mean()\n",
        "\n",
        "# Print the result\n",
        "print(f\"Mean of Age column: {mean_age}\")\n"
      ],
      "metadata": {
        "colab": {
          "base_uri": "https://localhost:8080/"
        },
        "id": "KDDVmZDHv77t",
        "outputId": "9d561201-636b-4ada-9002-a39ee04daeab"
      },
      "execution_count": 7,
      "outputs": [
        {
          "output_type": "stream",
          "name": "stdout",
          "text": [
            "Mean of Age column: 35.0\n"
          ]
        }
      ]
    },
    {
      "cell_type": "markdown",
      "source": [
        "Explanation:\n",
        "df['Age'] selects the \"Age\" column from the DataFrame.\n",
        "mean() calculates the mean of the selected column.\n",
        "Therefore, this script calculates the mean of a specific column in a DataFrame using mean()."
      ],
      "metadata": {
        "id": "rvqV7vADwAms"
      }
    },
    {
      "cell_type": "markdown",
      "source": [
        "## Q 3.  Create a scatter plot using Matplotlib.\n"
      ],
      "metadata": {
        "id": "XV0YZwBIwLn5"
      }
    },
    {
      "cell_type": "code",
      "source": [
        "import matplotlib.pyplot as plt\n",
        "\n",
        "# Sample data\n",
        "x = [1, 2, 3, 4, 5]\n",
        "y = [2, 4, 6, 8, 10]\n",
        "\n",
        "# Create scatter plot\n",
        "plt.scatter(x, y)\n",
        "\n",
        "# Display the plot\n",
        "plt.show()\n"
      ],
      "metadata": {
        "id": "9gr8eVqEwh2h"
      },
      "execution_count": null,
      "outputs": []
    },
    {
      "cell_type": "markdown",
      "source": [
        "## Q 4.  How do you calculate the correlation matrix using Seaborn and visualize it with a heatmap?"
      ],
      "metadata": {
        "id": "DIl8rRRMwsp9"
      }
    },
    {
      "cell_type": "code",
      "source": [
        "import seaborn as sns\n",
        "import pandas as pd\n",
        "\n",
        "# Sample DataFrame\n",
        "df = pd.DataFrame({\n",
        "    'A': [1, 2, 3, 4],\n",
        "    'B': [4, 5, 6, 7],\n",
        "    'C': [7, 8, 9, 10]\n",
        "})\n",
        "\n",
        "# Calculate the correlation matrix\n",
        "corr_matrix = df.corr()\n",
        "\n",
        "# Create the heatmap\n",
        "sns.heatmap(corr_matrix, annot=True, cmap='coolwarm')\n",
        "\n",
        "# Display the plot\n",
        "import matplotlib.pyplot as plt\n",
        "plt.show()\n"
      ],
      "metadata": {
        "colab": {
          "base_uri": "https://localhost:8080/",
          "height": 435
        },
        "id": "RWCqdeViwzjl",
        "outputId": "8528b6e8-e30c-4a8a-a519-3e993debadfe"
      },
      "execution_count": 8,
      "outputs": [
        {
          "output_type": "display_data",
          "data": {
            "text/plain": [
              "<Figure size 640x480 with 2 Axes>"
            ],
            "image/png": "[encoded data removed]"
          },
          "metadata": {}
        }
      ]
    },
    {
      "cell_type": "markdown",
      "source": [
        "## Q 5.  Generate a bar plot using Plotly."
      ],
      "metadata": {
        "id": "1_g-wACLxMdo"
      }
    },
    {
      "cell_type": "code",
      "source": [
        "import plotly.graph_objects as go\n",
        "\n",
        "# Sample data\n",
        "categories = ['A', 'B', 'C', 'D']\n",
        "values = [10, 20, 30, 40]\n",
        "\n",
        "# Create a bar plot\n",
        "fig = go.Figure(data=[go.Bar(x=categories, y=values)])\n",
        "\n",
        "# Add title and labels\n",
        "fig.update_layout(title='Bar Plot Example', xaxis_title='Category', yaxis_title='Value')\n",
        "\n",
        "# Show the plot\n",
        "fig.show()\n"
      ],
      "metadata": {
        "colab": {
          "base_uri": "https://localhost:8080/",
          "height": 542
        },
        "id": "QXOsFjUNCJeX",
        "outputId": "1a99a22b-fbc5-4c5c-efae-1decf248acde"
      },
      "execution_count": 1,
      "outputs": [
        {
          "output_type": "display_data",
          "data": {
            "text/html": [
              "<html>\n",
              "<head><meta charset=\"utf-8\" /></head>\n",
              "<body>\n",
              "    <div>            <script src=\"https://cdnjs.cloudflare.com/ajax/libs/mathjax/2.7.5/MathJax.js?config=TeX-AMS-MML_SVG\"></script><script type=\"text/javascript\">if (window.MathJax && window.MathJax.Hub && window.MathJax.Hub.Config) {window.MathJax.Hub.Config({SVG: {font: \"STIX-Web\"}});}</script>                <script type=\"text/javascript\">window.PlotlyConfig = {MathJaxConfig: 'local'};</script>\n",
              "        <script charset=\"utf-8\" src=\"https://cdn.plot.ly/plotly-2.35.2.min.js\"></script>                <div id=\"e6d4d31b-4334-4aa6-8cb0-d2a8c7743032\" class=\"plotly-graph-div\" style=\"height:525px; width:100%;\"></div>            <script type=\"text/javascript\">                                    window.PLOTLYENV=window.PLOTLYENV || {};                                    if (document.getElementById(\"e6d4d31b-4334-4aa6-8cb0-d2a8c7743032\")) {                    Plotly.newPlot(                        \"e6d4d31b-4334-4aa6-8cb0-d2a8c7743032\",                        [{\"x\":[\"A\",\"B\",\"C\",\"D\"],\"y\":[10,20,30,40],\"type\":\"bar\"}],                        {\"template\":{\"data\":{\"histogram2dcontour\":[{\"type\":\"histogram2dcontour\",\"colorbar\":{\"outlinewidth\":0,\"ticks\":\"\"},\"colorscale\":[[0.0,\"#0d0887\"],[0.1111111111111111,\"#46039f\"],[0.2222222222222222,\"#7201a8\"],[0.3333333333333333,\"#9c179e\"],[0.4444444444444444,\"#bd3786\"],[0.5555555555555556,\"#d8576b\"],[0.6666666666666666,\"#ed7953\"],[0.7777777777777778,\"#fb9f3a\"],[0.8888888888888888,\"#fdca26\"],[1.0,\"#f0f921\"]]}],\"choropleth\":[{\"type\":\"choropleth\",\"colorbar\":{\"outlinewidth\":0,\"ticks\":\"\"}}],\"histogram2d\":[{\"type\":\"histogram2d\",\"colorbar\":{\"outlinewidth\":0,\"ticks\":\"\"},\"colorscale\":[[0.0,\"#0d0887\"],[0.1111111111111111,\"#46039f\"],[0.2222222222222222,\"#7201a8\"],[0.3333333333333333,\"#9c179e\"],[0.4444444444444444,\"#bd3786\"],[0.5555555555555556,\"#d8576b\"],[0.6666666666666666,\"#ed7953\"],[0.7777777777777778,\"#fb9f3a\"],[0.8888888888888888,\"#fdca26\"],[1.0,\"#f0f921\"]]}],\"heatmap\":[{\"type\":\"heatmap\",\"colorbar\":{\"outlinewidth\":0,\"ticks\":\"\"},\"colorscale\":[[0.0,\"#0d0887\"],[0.1111111111111111,\"#46039f\"],[0.2222222222222222,\"#7201a8\"],[0.3333333333333333,\"#9c179e\"],[0.4444444444444444,\"#bd3786\"],[0.5555555555555556,\"#d8576b\"],[0.6666666666666666,\"#ed7953\"],[0.7777777777777778,\"#fb9f3a\"],[0.8888888888888888,\"#fdca26\"],[1.0,\"#f0f921\"]]}],\"heatmapgl\":[{\"type\":\"heatmapgl\",\"colorbar\":{\"outlinewidth\":0,\"ticks\":\"\"},\"colorscale\":[[0.0,\"#0d0887\"],[0.1111111111111111,\"#46039f\"],[0.2222222222222222,\"#7201a8\"],[0.3333333333333333,\"#9c179e\"],[0.4444444444444444,\"#bd3786\"],[0.5555555555555556,\"#d8576b\"],[0.6666666666666666,\"#ed7953\"],[0.7777777777777778,\"#fb9f3a\"],[0.8888888888888888,\"#fdca26\"],[1.0,\"#f0f921\"]]}],\"contourcarpet\":[{\"type\":\"contourcarpet\",\"colorbar\":{\"outlinewidth\":0,\"ticks\":\"\"}}],\"contour\":[{\"type\":\"contour\",\"colorbar\":{\"outlinewidth\":0,\"ticks\":\"\"},\"colorscale\":[[0.0,\"#0d0887\"],[0.1111111111111111,\"#46039f\"],[0.2222222222222222,\"#7201a8\"],[0.3333333333333333,\"#9c179e\"],[0.4444444444444444,\"#bd3786\"],[0.5555555555555556,\"#d8576b\"],[0.6666666666666666,\"#ed7953\"],[0.7777777777777778,\"#fb9f3a\"],[0.8888888888888888,\"#fdca26\"],[1.0,\"#f0f921\"]]}],\"surface\":[{\"type\":\"surface\",\"colorbar\":{\"outlinewidth\":0,\"ticks\":\"\"},\"colorscale\":[[0.0,\"#0d0887\"],[0.1111111111111111,\"#46039f\"],[0.2222222222222222,\"#7201a8\"],[0.3333333333333333,\"#9c179e\"],[0.4444444444444444,\"#bd3786\"],[0.5555555555555556,\"#d8576b\"],[0.6666666666666666,\"#ed7953\"],[0.7777777777777778,\"#fb9f3a\"],[0.8888888888888888,\"#fdca26\"],[1.0,\"#f0f921\"]]}],\"mesh3d\":[{\"type\":\"mesh3d\",\"colorbar\":{\"outlinewidth\":0,\"ticks\":\"\"}}],\"scatter\":[{\"fillpattern\":{\"fillmode\":\"overlay\",\"size\":10,\"solidity\":0.2},\"type\":\"scatter\"}],\"parcoords\":[{\"type\":\"parcoords\",\"line\":{\"colorbar\":{\"outlinewidth\":0,\"ticks\":\"\"}}}],\"scatterpolargl\":[{\"type\":\"scatterpolargl\",\"marker\":{\"colorbar\":{\"outlinewidth\":0,\"ticks\":\"\"}}}],\"bar\":[{\"error_x\":{\"color\":\"#2a3f5f\"},\"error_y\":{\"color\":\"#2a3f5f\"},\"marker\":{\"line\":{\"color\":\"#E5ECF6\",\"width\":0.5},\"pattern\":{\"fillmode\":\"overlay\",\"size\":10,\"solidity\":0.2}},\"type\":\"bar\"}],\"scattergeo\":[{\"type\":\"scattergeo\",\"marker\":{\"colorbar\":{\"outlinewidth\":0,\"ticks\":\"\"}}}],\"scatterpolar\":[{\"type\":\"scatterpolar\",\"marker\":{\"colorbar\":{\"outlinewidth\":0,\"ticks\":\"\"}}}],\"histogram\":[{\"marker\":{\"pattern\":{\"fillmode\":\"overlay\",\"size\":10,\"solidity\":0.2}},\"type\":\"histogram\"}],\"scattergl\":[{\"type\":\"scattergl\",\"marker\":{\"colorbar\":{\"outlinewidth\":0,\"ticks\":\"\"}}}],\"scatter3d\":[{\"type\":\"scatter3d\",\"line\":{\"colorbar\":{\"outlinewidth\":0,\"ticks\":\"\"}},\"marker\":{\"colorbar\":{\"outlinewidth\":0,\"ticks\":\"\"}}}],\"scattermapbox\":[{\"type\":\"scattermapbox\",\"marker\":{\"colorbar\":{\"outlinewidth\":0,\"ticks\":\"\"}}}],\"scatterternary\":[{\"type\":\"scatterternary\",\"marker\":{\"colorbar\":{\"outlinewidth\":0,\"ticks\":\"\"}}}],\"scattercarpet\":[{\"type\":\"scattercarpet\",\"marker\":{\"colorbar\":{\"outlinewidth\":0,\"ticks\":\"\"}}}],\"carpet\":[{\"aaxis\":{\"endlinecolor\":\"#2a3f5f\",\"gridcolor\":\"white\",\"linecolor\":\"white\",\"minorgridcolor\":\"white\",\"startlinecolor\":\"#2a3f5f\"},\"baxis\":{\"endlinecolor\":\"#2a3f5f\",\"gridcolor\":\"white\",\"linecolor\":\"white\",\"minorgridcolor\":\"white\",\"startlinecolor\":\"#2a3f5f\"},\"type\":\"carpet\"}],\"table\":[{\"cells\":{\"fill\":{\"color\":\"#EBF0F8\"},\"line\":{\"color\":\"white\"}},\"header\":{\"fill\":{\"color\":\"#C8D4E3\"},\"line\":{\"color\":\"white\"}},\"type\":\"table\"}],\"barpolar\":[{\"marker\":{\"line\":{\"color\":\"#E5ECF6\",\"width\":0.5},\"pattern\":{\"fillmode\":\"overlay\",\"size\":10,\"solidity\":0.2}},\"type\":\"barpolar\"}],\"pie\":[{\"automargin\":true,\"type\":\"pie\"}]},\"layout\":{\"autotypenumbers\":\"strict\",\"colorway\":[\"#636efa\",\"#EF553B\",\"#00cc96\",\"#ab63fa\",\"#FFA15A\",\"#19d3f3\",\"#FF6692\",\"#B6E880\",\"#FF97FF\",\"#FECB52\"],\"font\":{\"color\":\"#2a3f5f\"},\"hovermode\":\"closest\",\"hoverlabel\":{\"align\":\"left\"},\"paper_bgcolor\":\"white\",\"plot_bgcolor\":\"#E5ECF6\",\"polar\":{\"bgcolor\":\"#E5ECF6\",\"angularaxis\":{\"gridcolor\":\"white\",\"linecolor\":\"white\",\"ticks\":\"\"},\"radialaxis\":{\"gridcolor\":\"white\",\"linecolor\":\"white\",\"ticks\":\"\"}},\"ternary\":{\"bgcolor\":\"#E5ECF6\",\"aaxis\":{\"gridcolor\":\"white\",\"linecolor\":\"white\",\"ticks\":\"\"},\"baxis\":{\"gridcolor\":\"white\",\"linecolor\":\"white\",\"ticks\":\"\"},\"caxis\":{\"gridcolor\":\"white\",\"linecolor\":\"white\",\"ticks\":\"\"}},\"coloraxis\":{\"colorbar\":{\"outlinewidth\":0,\"ticks\":\"\"}},\"colorscale\":{\"sequential\":[[0.0,\"#0d0887\"],[0.1111111111111111,\"#46039f\"],[0.2222222222222222,\"#7201a8\"],[0.3333333333333333,\"#9c179e\"],[0.4444444444444444,\"#bd3786\"],[0.5555555555555556,\"#d8576b\"],[0.6666666666666666,\"#ed7953\"],[0.7777777777777778,\"#fb9f3a\"],[0.8888888888888888,\"#fdca26\"],[1.0,\"#f0f921\"]],\"sequentialminus\":[[0.0,\"#0d0887\"],[0.1111111111111111,\"#46039f\"],[0.2222222222222222,\"#7201a8\"],[0.3333333333333333,\"#9c179e\"],[0.4444444444444444,\"#bd3786\"],[0.5555555555555556,\"#d8576b\"],[0.6666666666666666,\"#ed7953\"],[0.7777777777777778,\"#fb9f3a\"],[0.8888888888888888,\"#fdca26\"],[1.0,\"#f0f921\"]],\"diverging\":[[0,\"#8e0152\"],[0.1,\"#c51b7d\"],[0.2,\"#de77ae\"],[0.3,\"#f1b6da\"],[0.4,\"#fde0ef\"],[0.5,\"#f7f7f7\"],[0.6,\"#e6f5d0\"],[0.7,\"#b8e186\"],[0.8,\"#7fbc41\"],[0.9,\"#4d9221\"],[1,\"#276419\"]]},\"xaxis\":{\"gridcolor\":\"white\",\"linecolor\":\"white\",\"ticks\":\"\",\"title\":{\"standoff\":15},\"zerolinecolor\":\"white\",\"automargin\":true,\"zerolinewidth\":2},\"yaxis\":{\"gridcolor\":\"white\",\"linecolor\":\"white\",\"ticks\":\"\",\"title\":{\"standoff\":15},\"zerolinecolor\":\"white\",\"automargin\":true,\"zerolinewidth\":2},\"scene\":{\"xaxis\":{\"backgroundcolor\":\"#E5ECF6\",\"gridcolor\":\"white\",\"linecolor\":\"white\",\"showbackground\":true,\"ticks\":\"\",\"zerolinecolor\":\"white\",\"gridwidth\":2},\"yaxis\":{\"backgroundcolor\":\"#E5ECF6\",\"gridcolor\":\"white\",\"linecolor\":\"white\",\"showbackground\":true,\"ticks\":\"\",\"zerolinecolor\":\"white\",\"gridwidth\":2},\"zaxis\":{\"backgroundcolor\":\"#E5ECF6\",\"gridcolor\":\"white\",\"linecolor\":\"white\",\"showbackground\":true,\"ticks\":\"\",\"zerolinecolor\":\"white\",\"gridwidth\":2}},\"shapedefaults\":{\"line\":{\"color\":\"#2a3f5f\"}},\"annotationdefaults\":{\"arrowcolor\":\"#2a3f5f\",\"arrowhead\":0,\"arrowwidth\":1},\"geo\":{\"bgcolor\":\"white\",\"landcolor\":\"#E5ECF6\",\"subunitcolor\":\"white\",\"showland\":true,\"showlakes\":true,\"lakecolor\":\"white\"},\"title\":{\"x\":0.05},\"mapbox\":{\"style\":\"light\"}}},\"title\":{\"text\":\"Bar Plot Example\"},\"xaxis\":{\"title\":{\"text\":\"Category\"}},\"yaxis\":{\"title\":{\"text\":\"Value\"}}},                        {\"responsive\": true}                    ).then(function(){\n",
              "                            \n",
              "var gd = document.getElementById('e6d4d31b-4334-4aa6-8cb0-d2a8c7743032');\n",
              "var x = new MutationObserver(function (mutations, observer) {{\n",
              "        var display = window.getComputedStyle(gd).display;\n",
              "        if (!display || display === 'none') {{\n",
              "            console.log([gd, 'removed!']);\n",
              "            Plotly.purge(gd);\n",
              "            observer.disconnect();\n",
              "        }}\n",
              "}});\n",
              "\n",
              "// Listen for the removal of the full notebook cells\n",
              "var notebookContainer = gd.closest('#notebook-container');\n",
              "if (notebookContainer) {{\n",
              "    x.observe(notebookContainer, {childList: true});\n",
              "}}\n",
              "\n",
              "// Listen for the clearing of the current output cell\n",
              "var outputEl = gd.closest('.output');\n",
              "if (outputEl) {{\n",
              "    x.observe(outputEl, {childList: true});\n",
              "}}\n",
              "\n",
              "                        })                };                            </script>        </div>\n",
              "</body>\n",
              "</html>"
            ]
          },
          "metadata": {}
        }
      ]
    },
    {
      "cell_type": "markdown",
      "source": [
        "## Q 6.  Create a DataFrame and add a new column based on an existing column."
      ],
      "metadata": {
        "id": "wUR7n3gmCTnY"
      }
    },
    {
      "cell_type": "code",
      "source": [
        "import pandas as pd\n",
        "\n",
        "# Create a sample DataFrame\n",
        "data = {'A': [10, 20, 30, 40, 50], 'B': [5, 10, 15, 20, 25]}\n",
        "df = pd.DataFrame(data)\n",
        "\n",
        "# Add a new column 'C' based on the values in column 'A'\n",
        "df['C'] = df['A'] * 2\n",
        "\n",
        "# Display the DataFrame\n",
        "print(df)\n"
      ],
      "metadata": {
        "colab": {
          "base_uri": "https://localhost:8080/"
        },
        "id": "Y789anDmCd3X",
        "outputId": "df0adfb2-bbab-423b-bc0a-4757f3a09884"
      },
      "execution_count": 3,
      "outputs": [
        {
          "output_type": "stream",
          "name": "stdout",
          "text": [
            "    A   B    C\n",
            "0  10   5   20\n",
            "1  20  10   40\n",
            "2  30  15   60\n",
            "3  40  20   80\n",
            "4  50  25  100\n"
          ]
        }
      ]
    },
    {
      "cell_type": "markdown",
      "source": [
        "## Q 7. Write a program to perform element-wise multiplication of two NumPy arrays.\n"
      ],
      "metadata": {
        "id": "j8ZOKzI0Cxnt"
      }
    },
    {
      "cell_type": "code",
      "source": [
        "import numpy as np\n",
        "\n",
        "# Create two NumPy arrays\n",
        "array1 = np.array([1, 2, 3, 4])\n",
        "array2 = np.array([5, 6, 7, 8])\n",
        "\n",
        "# Perform element-wise multiplication\n",
        "result = array1 * array2\n",
        "\n",
        "# Display the result\n",
        "print(result)\n"
      ],
      "metadata": {
        "colab": {
          "base_uri": "https://localhost:8080/"
        },
        "id": "lEXQHbVSC_8H",
        "outputId": "9bcc45e4-3b46-4354-9c37-00bb5e37e0bc"
      },
      "execution_count": 4,
      "outputs": [
        {
          "output_type": "stream",
          "name": "stdout",
          "text": [
            "[ 5 12 21 32]\n"
          ]
        }
      ]
    },
    {
      "cell_type": "markdown",
      "source": [
        "## Q 8. Create a line plot with multiple lines using Matplotlib.\n"
      ],
      "metadata": {
        "id": "sM0KqEgrDDEm"
      }
    },
    {
      "cell_type": "code",
      "source": [
        "import matplotlib.pyplot as plt\n",
        "\n",
        "# Sample data\n",
        "x = [1, 2, 3, 4, 5]\n",
        "y1 = [1, 4, 9, 16, 25]  # Line 1\n",
        "y2 = [25, 20, 15, 10, 5]  # Line 2\n",
        "\n",
        "# Create a line plot with multiple lines\n",
        "plt.plot(x, y1, label='Line 1', color='b', marker='o')\n",
        "plt.plot(x, y2, label='Line 2', color='r', marker='x')\n",
        "\n",
        "# Add title and labels\n",
        "plt.title('Multiple Lines Plot')\n",
        "plt.xlabel('X Axis')\n",
        "plt.ylabel('Y Axis')\n",
        "\n",
        "# Show legend\n",
        "plt.legend()\n",
        "\n",
        "# Display the plot\n",
        "plt.show()\n"
      ],
      "metadata": {
        "colab": {
          "base_uri": "https://localhost:8080/",
          "height": 472
        },
        "id": "cLP0UsIpDK2h",
        "outputId": "7ea07180-b0d6-4054-f60c-c84ce8517f88"
      },
      "execution_count": 5,
      "outputs": [
        {
          "output_type": "display_data",
          "data": {
            "text/plain": [
              "<Figure size 640x480 with 1 Axes>"
            ],
            "image/png": "[encoded data removed]"
          },
          "metadata": {}
        }
      ]
    },
    {
      "cell_type": "markdown",
      "source": [
        "## Q 9. Generate a Pandas DataFrame and filter rows where a column value is greater than a threshold."
      ],
      "metadata": {
        "id": "XiYnZHajDUHf"
      }
    },
    {
      "cell_type": "code",
      "source": [
        "import pandas as pd\n",
        "\n",
        "# Create a sample DataFrame\n",
        "data = {'Name': ['Alice', 'Bob', 'Charlie', 'David', 'Eva'],\n",
        "        'Age': [25, 30, 35, 40, 45],\n",
        "        'Salary': [50000, 60000, 70000, 80000, 90000]}\n",
        "\n",
        "df = pd.DataFrame(data)\n",
        "\n",
        "# Filter rows where the 'Age' column is greater than 30\n",
        "filtered_df = df[df['Age'] > 30]\n",
        "\n",
        "# Display the filtered DataFrame\n",
        "print(filtered_df)\n"
      ],
      "metadata": {
        "colab": {
          "base_uri": "https://localhost:8080/"
        },
        "id": "WLGKvNNTDYRH",
        "outputId": "caabdba9-251a-47fc-8587-d12f9f586f2a"
      },
      "execution_count": 6,
      "outputs": [
        {
          "output_type": "stream",
          "name": "stdout",
          "text": [
            "      Name  Age  Salary\n",
            "2  Charlie   35   70000\n",
            "3    David   40   80000\n",
            "4      Eva   45   90000\n"
          ]
        }
      ]
    },
    {
      "cell_type": "markdown",
      "source": [
        "## Q 10. Create a histogram using Seaborn to visualize a distribution."
      ],
      "metadata": {
        "id": "26fR13-JDlFL"
      }
    },
    {
      "cell_type": "code",
      "source": [
        "import seaborn as sns\n",
        "import matplotlib.pyplot as plt\n",
        "\n",
        "# Sample data\n",
        "data = [10, 20, 30, 40, 50, 50, 60, 70, 80, 90, 100]\n",
        "\n",
        "# Create a histogram\n",
        "sns.histplot(data, kde=True, bins=10, color='blue')\n",
        "\n",
        "# Add title and labels\n",
        "plt.title('Histogram with Seaborn')\n",
        "plt.xlabel('Value')\n",
        "plt.ylabel('Frequency')\n",
        "\n",
        "# Display the plot\n",
        "plt.show()\n"
      ],
      "metadata": {
        "colab": {
          "base_uri": "https://localhost:8080/",
          "height": 472
        },
        "id": "rBsr5Re3DvgW",
        "outputId": "dd8a2e90-0515-465c-b20c-c665def0d7e3"
      },
      "execution_count": 7,
      "outputs": [
        {
          "output_type": "display_data",
          "data": {
            "text/plain": [
              "<Figure size 640x480 with 1 Axes>"
            ],
            "image/png": "[encoded data removed]"
          },
          "metadata": {}
        }
      ]
    },
    {
      "cell_type": "markdown",
      "source": [
        "## Q 11. Perform matrix multiplication using NumPy."
      ],
      "metadata": {
        "id": "_NIB1eGrD288"
      }
    },
    {
      "cell_type": "code",
      "source": [
        "import numpy as np\n",
        "\n",
        "# Create two matrices\n",
        "matrix1 = np.array([[1, 2], [3, 4]])\n",
        "matrix2 = np.array([[5, 6], [7, 8]])\n",
        "\n",
        "# Perform matrix multiplication\n",
        "result = np.dot(matrix1, matrix2)\n",
        "\n",
        "# Display the result\n",
        "print(result)\n"
      ],
      "metadata": {
        "colab": {
          "base_uri": "https://localhost:8080/"
        },
        "id": "_m13cJ4VD9s8",
        "outputId": "197cb9c9-3d93-45aa-ed85-f70a9a4ff4c8"
      },
      "execution_count": 8,
      "outputs": [
        {
          "output_type": "stream",
          "name": "stdout",
          "text": [
            "[[19 22]\n",
            " [43 50]]\n"
          ]
        }
      ]
    },
    {
      "cell_type": "markdown",
      "source": [
        "Explanation:\n",
        "np.array() creates NumPy arrays representing the matrices.\n",
        "np.dot(matrix1, matrix2) performs matrix multiplication between matrix1 and matrix2.\n",
        "Alternatively, the @ operator can also be used for matrix multiplication.\n",
        "In short, this script multiplies two matrices using NumPy's dot() function (or @ operator) and outputs the result.\n",
        "\n",
        "\n",
        "## Q 12. Use Pandas to load a CSV file and display its first 5 rows.\n",
        "\n",
        "    Dear Evaluater, please help here for solution.\n",
        "\n",
        "\n",
        "## Q 13. Create a 3D scatter plot using Plotly.\n"
      ],
      "metadata": {
        "id": "TkacnKc8EN-X"
      }
    },
    {
      "cell_type": "code",
      "source": [
        "import plotly.graph_objects as go\n",
        "\n",
        "# Sample data\n",
        "x = [1, 2, 3, 4, 5]\n",
        "y = [10, 20, 30, 40, 50]\n",
        "z = [5, 10, 15, 20, 25]\n",
        "\n",
        "# Create a 3D scatter plot\n",
        "fig = go.Figure(data=[go.Scatter3d(\n",
        "    x=x,\n",
        "    y=y,\n",
        "    z=z,\n",
        "    mode='markers',\n",
        "    marker=dict(size=8, color='blue')\n",
        ")])\n",
        "\n",
        "# Add title and axis labels\n",
        "fig.update_layout(\n",
        "    title=\"3D Scatter Plot Example\",\n",
        "    scene=dict(\n",
        "        xaxis_title='X Axis',\n",
        "        yaxis_title='Y Axis',\n",
        "        zaxis_title='Z Axis'\n",
        "    )\n",
        ")\n",
        "\n",
        "# Show the plot\n",
        "fig.show()\n"
      ],
      "metadata": {
        "colab": {
          "base_uri": "https://localhost:8080/",
          "height": 542
        },
        "id": "as3mQQe-GT_P",
        "outputId": "b81b9090-7eb3-4ad7-bab8-0f6b4dca70a3"
      },
      "execution_count": 10,
      "outputs": [
        {
          "output_type": "display_data",
          "data": {
            "text/html": [
              "<html>\n",
              "<head><meta charset=\"utf-8\" /></head>\n",
              "<body>\n",
              "    <div>            <script src=\"https://cdnjs.cloudflare.com/ajax/libs/mathjax/2.7.5/MathJax.js?config=TeX-AMS-MML_SVG\"></script><script type=\"text/javascript\">if (window.MathJax && window.MathJax.Hub && window.MathJax.Hub.Config) {window.MathJax.Hub.Config({SVG: {font: \"STIX-Web\"}});}</script>                <script type=\"text/javascript\">window.PlotlyConfig = {MathJaxConfig: 'local'};</script>\n",
              "        <script charset=\"utf-8\" src=\"https://cdn.plot.ly/plotly-2.35.2.min.js\"></script>                <div id=\"f997ba95-5edc-4938-a24a-53346cf909b3\" class=\"plotly-graph-div\" style=\"height:525px; width:100%;\"></div>            <script type=\"text/javascript\">                                    window.PLOTLYENV=window.PLOTLYENV || {};                                    if (document.getElementById(\"f997ba95-5edc-4938-a24a-53346cf909b3\")) {                    Plotly.newPlot(                        \"f997ba95-5edc-4938-a24a-53346cf909b3\",                        [{\"marker\":{\"color\":\"blue\",\"size\":8},\"mode\":\"markers\",\"x\":[1,2,3,4,5],\"y\":[10,20,30,40,50],\"z\":[5,10,15,20,25],\"type\":\"scatter3d\"}],                        {\"template\":{\"data\":{\"histogram2dcontour\":[{\"type\":\"histogram2dcontour\",\"colorbar\":{\"outlinewidth\":0,\"ticks\":\"\"},\"colorscale\":[[0.0,\"#0d0887\"],[0.1111111111111111,\"#46039f\"],[0.2222222222222222,\"#7201a8\"],[0.3333333333333333,\"#9c179e\"],[0.4444444444444444,\"#bd3786\"],[0.5555555555555556,\"#d8576b\"],[0.6666666666666666,\"#ed7953\"],[0.7777777777777778,\"#fb9f3a\"],[0.8888888888888888,\"#fdca26\"],[1.0,\"#f0f921\"]]}],\"choropleth\":[{\"type\":\"choropleth\",\"colorbar\":{\"outlinewidth\":0,\"ticks\":\"\"}}],\"histogram2d\":[{\"type\":\"histogram2d\",\"colorbar\":{\"outlinewidth\":0,\"ticks\":\"\"},\"colorscale\":[[0.0,\"#0d0887\"],[0.1111111111111111,\"#46039f\"],[0.2222222222222222,\"#7201a8\"],[0.3333333333333333,\"#9c179e\"],[0.4444444444444444,\"#bd3786\"],[0.5555555555555556,\"#d8576b\"],[0.6666666666666666,\"#ed7953\"],[0.7777777777777778,\"#fb9f3a\"],[0.8888888888888888,\"#fdca26\"],[1.0,\"#f0f921\"]]}],\"heatmap\":[{\"type\":\"heatmap\",\"colorbar\":{\"outlinewidth\":0,\"ticks\":\"\"},\"colorscale\":[[0.0,\"#0d0887\"],[0.1111111111111111,\"#46039f\"],[0.2222222222222222,\"#7201a8\"],[0.3333333333333333,\"#9c179e\"],[0.4444444444444444,\"#bd3786\"],[0.5555555555555556,\"#d8576b\"],[0.6666666666666666,\"#ed7953\"],[0.7777777777777778,\"#fb9f3a\"],[0.8888888888888888,\"#fdca26\"],[1.0,\"#f0f921\"]]}],\"heatmapgl\":[{\"type\":\"heatmapgl\",\"colorbar\":{\"outlinewidth\":0,\"ticks\":\"\"},\"colorscale\":[[0.0,\"#0d0887\"],[0.1111111111111111,\"#46039f\"],[0.2222222222222222,\"#7201a8\"],[0.3333333333333333,\"#9c179e\"],[0.4444444444444444,\"#bd3786\"],[0.5555555555555556,\"#d8576b\"],[0.6666666666666666,\"#ed7953\"],[0.7777777777777778,\"#fb9f3a\"],[0.8888888888888888,\"#fdca26\"],[1.0,\"#f0f921\"]]}],\"contourcarpet\":[{\"type\":\"contourcarpet\",\"colorbar\":{\"outlinewidth\":0,\"ticks\":\"\"}}],\"contour\":[{\"type\":\"contour\",\"colorbar\":{\"outlinewidth\":0,\"ticks\":\"\"},\"colorscale\":[[0.0,\"#0d0887\"],[0.1111111111111111,\"#46039f\"],[0.2222222222222222,\"#7201a8\"],[0.3333333333333333,\"#9c179e\"],[0.4444444444444444,\"#bd3786\"],[0.5555555555555556,\"#d8576b\"],[0.6666666666666666,\"#ed7953\"],[0.7777777777777778,\"#fb9f3a\"],[0.8888888888888888,\"#fdca26\"],[1.0,\"#f0f921\"]]}],\"surface\":[{\"type\":\"surface\",\"colorbar\":{\"outlinewidth\":0,\"ticks\":\"\"},\"colorscale\":[[0.0,\"#0d0887\"],[0.1111111111111111,\"#46039f\"],[0.2222222222222222,\"#7201a8\"],[0.3333333333333333,\"#9c179e\"],[0.4444444444444444,\"#bd3786\"],[0.5555555555555556,\"#d8576b\"],[0.6666666666666666,\"#ed7953\"],[0.7777777777777778,\"#fb9f3a\"],[0.8888888888888888,\"#fdca26\"],[1.0,\"#f0f921\"]]}],\"mesh3d\":[{\"type\":\"mesh3d\",\"colorbar\":{\"outlinewidth\":0,\"ticks\":\"\"}}],\"scatter\":[{\"fillpattern\":{\"fillmode\":\"overlay\",\"size\":10,\"solidity\":0.2},\"type\":\"scatter\"}],\"parcoords\":[{\"type\":\"parcoords\",\"line\":{\"colorbar\":{\"outlinewidth\":0,\"ticks\":\"\"}}}],\"scatterpolargl\":[{\"type\":\"scatterpolargl\",\"marker\":{\"colorbar\":{\"outlinewidth\":0,\"ticks\":\"\"}}}],\"bar\":[{\"error_x\":{\"color\":\"#2a3f5f\"},\"error_y\":{\"color\":\"#2a3f5f\"},\"marker\":{\"line\":{\"color\":\"#E5ECF6\",\"width\":0.5},\"pattern\":{\"fillmode\":\"overlay\",\"size\":10,\"solidity\":0.2}},\"type\":\"bar\"}],\"scattergeo\":[{\"type\":\"scattergeo\",\"marker\":{\"colorbar\":{\"outlinewidth\":0,\"ticks\":\"\"}}}],\"scatterpolar\":[{\"type\":\"scatterpolar\",\"marker\":{\"colorbar\":{\"outlinewidth\":0,\"ticks\":\"\"}}}],\"histogram\":[{\"marker\":{\"pattern\":{\"fillmode\":\"overlay\",\"size\":10,\"solidity\":0.2}},\"type\":\"histogram\"}],\"scattergl\":[{\"type\":\"scattergl\",\"marker\":{\"colorbar\":{\"outlinewidth\":0,\"ticks\":\"\"}}}],\"scatter3d\":[{\"type\":\"scatter3d\",\"line\":{\"colorbar\":{\"outlinewidth\":0,\"ticks\":\"\"}},\"marker\":{\"colorbar\":{\"outlinewidth\":0,\"ticks\":\"\"}}}],\"scattermapbox\":[{\"type\":\"scattermapbox\",\"marker\":{\"colorbar\":{\"outlinewidth\":0,\"ticks\":\"\"}}}],\"scatterternary\":[{\"type\":\"scatterternary\",\"marker\":{\"colorbar\":{\"outlinewidth\":0,\"ticks\":\"\"}}}],\"scattercarpet\":[{\"type\":\"scattercarpet\",\"marker\":{\"colorbar\":{\"outlinewidth\":0,\"ticks\":\"\"}}}],\"carpet\":[{\"aaxis\":{\"endlinecolor\":\"#2a3f5f\",\"gridcolor\":\"white\",\"linecolor\":\"white\",\"minorgridcolor\":\"white\",\"startlinecolor\":\"#2a3f5f\"},\"baxis\":{\"endlinecolor\":\"#2a3f5f\",\"gridcolor\":\"white\",\"linecolor\":\"white\",\"minorgridcolor\":\"white\",\"startlinecolor\":\"#2a3f5f\"},\"type\":\"carpet\"}],\"table\":[{\"cells\":{\"fill\":{\"color\":\"#EBF0F8\"},\"line\":{\"color\":\"white\"}},\"header\":{\"fill\":{\"color\":\"#C8D4E3\"},\"line\":{\"color\":\"white\"}},\"type\":\"table\"}],\"barpolar\":[{\"marker\":{\"line\":{\"color\":\"#E5ECF6\",\"width\":0.5},\"pattern\":{\"fillmode\":\"overlay\",\"size\":10,\"solidity\":0.2}},\"type\":\"barpolar\"}],\"pie\":[{\"automargin\":true,\"type\":\"pie\"}]},\"layout\":{\"autotypenumbers\":\"strict\",\"colorway\":[\"#636efa\",\"#EF553B\",\"#00cc96\",\"#ab63fa\",\"#FFA15A\",\"#19d3f3\",\"#FF6692\",\"#B6E880\",\"#FF97FF\",\"#FECB52\"],\"font\":{\"color\":\"#2a3f5f\"},\"hovermode\":\"closest\",\"hoverlabel\":{\"align\":\"left\"},\"paper_bgcolor\":\"white\",\"plot_bgcolor\":\"#E5ECF6\",\"polar\":{\"bgcolor\":\"#E5ECF6\",\"angularaxis\":{\"gridcolor\":\"white\",\"linecolor\":\"white\",\"ticks\":\"\"},\"radialaxis\":{\"gridcolor\":\"white\",\"linecolor\":\"white\",\"ticks\":\"\"}},\"ternary\":{\"bgcolor\":\"#E5ECF6\",\"aaxis\":{\"gridcolor\":\"white\",\"linecolor\":\"white\",\"ticks\":\"\"},\"baxis\":{\"gridcolor\":\"white\",\"linecolor\":\"white\",\"ticks\":\"\"},\"caxis\":{\"gridcolor\":\"white\",\"linecolor\":\"white\",\"ticks\":\"\"}},\"coloraxis\":{\"colorbar\":{\"outlinewidth\":0,\"ticks\":\"\"}},\"colorscale\":{\"sequential\":[[0.0,\"#0d0887\"],[0.1111111111111111,\"#46039f\"],[0.2222222222222222,\"#7201a8\"],[0.3333333333333333,\"#9c179e\"],[0.4444444444444444,\"#bd3786\"],[0.5555555555555556,\"#d8576b\"],[0.6666666666666666,\"#ed7953\"],[0.7777777777777778,\"#fb9f3a\"],[0.8888888888888888,\"#fdca26\"],[1.0,\"#f0f921\"]],\"sequentialminus\":[[0.0,\"#0d0887\"],[0.1111111111111111,\"#46039f\"],[0.2222222222222222,\"#7201a8\"],[0.3333333333333333,\"#9c179e\"],[0.4444444444444444,\"#bd3786\"],[0.5555555555555556,\"#d8576b\"],[0.6666666666666666,\"#ed7953\"],[0.7777777777777778,\"#fb9f3a\"],[0.8888888888888888,\"#fdca26\"],[1.0,\"#f0f921\"]],\"diverging\":[[0,\"#8e0152\"],[0.1,\"#c51b7d\"],[0.2,\"#de77ae\"],[0.3,\"#f1b6da\"],[0.4,\"#fde0ef\"],[0.5,\"#f7f7f7\"],[0.6,\"#e6f5d0\"],[0.7,\"#b8e186\"],[0.8,\"#7fbc41\"],[0.9,\"#4d9221\"],[1,\"#276419\"]]},\"xaxis\":{\"gridcolor\":\"white\",\"linecolor\":\"white\",\"ticks\":\"\",\"title\":{\"standoff\":15},\"zerolinecolor\":\"white\",\"automargin\":true,\"zerolinewidth\":2},\"yaxis\":{\"gridcolor\":\"white\",\"linecolor\":\"white\",\"ticks\":\"\",\"title\":{\"standoff\":15},\"zerolinecolor\":\"white\",\"automargin\":true,\"zerolinewidth\":2},\"scene\":{\"xaxis\":{\"backgroundcolor\":\"#E5ECF6\",\"gridcolor\":\"white\",\"linecolor\":\"white\",\"showbackground\":true,\"ticks\":\"\",\"zerolinecolor\":\"white\",\"gridwidth\":2},\"yaxis\":{\"backgroundcolor\":\"#E5ECF6\",\"gridcolor\":\"white\",\"linecolor\":\"white\",\"showbackground\":true,\"ticks\":\"\",\"zerolinecolor\":\"white\",\"gridwidth\":2},\"zaxis\":{\"backgroundcolor\":\"#E5ECF6\",\"gridcolor\":\"white\",\"linecolor\":\"white\",\"showbackground\":true,\"ticks\":\"\",\"zerolinecolor\":\"white\",\"gridwidth\":2}},\"shapedefaults\":{\"line\":{\"color\":\"#2a3f5f\"}},\"annotationdefaults\":{\"arrowcolor\":\"#2a3f5f\",\"arrowhead\":0,\"arrowwidth\":1},\"geo\":{\"bgcolor\":\"white\",\"landcolor\":\"#E5ECF6\",\"subunitcolor\":\"white\",\"showland\":true,\"showlakes\":true,\"lakecolor\":\"white\"},\"title\":{\"x\":0.05},\"mapbox\":{\"style\":\"light\"}}},\"title\":{\"text\":\"3D Scatter Plot Example\"},\"scene\":{\"xaxis\":{\"title\":{\"text\":\"X Axis\"}},\"yaxis\":{\"title\":{\"text\":\"Y Axis\"}},\"zaxis\":{\"title\":{\"text\":\"Z Axis\"}}}},                        {\"responsive\": true}                    ).then(function(){\n",
              "                            \n",
              "var gd = document.getElementById('f997ba95-5edc-4938-a24a-53346cf909b3');\n",
              "var x = new MutationObserver(function (mutations, observer) {{\n",
              "        var display = window.getComputedStyle(gd).display;\n",
              "        if (!display || display === 'none') {{\n",
              "            console.log([gd, 'removed!']);\n",
              "            Plotly.purge(gd);\n",
              "            observer.disconnect();\n",
              "        }}\n",
              "}});\n",
              "\n",
              "// Listen for the removal of the full notebook cells\n",
              "var notebookContainer = gd.closest('#notebook-container');\n",
              "if (notebookContainer) {{\n",
              "    x.observe(notebookContainer, {childList: true});\n",
              "}}\n",
              "\n",
              "// Listen for the clearing of the current output cell\n",
              "var outputEl = gd.closest('.output');\n",
              "if (outputEl) {{\n",
              "    x.observe(outputEl, {childList: true});\n",
              "}}\n",
              "\n",
              "                        })                };                            </script>        </div>\n",
              "</body>\n",
              "</html>"
            ]
          },
          "metadata": {}
        }
      ]
    },
    {
      "cell_type": "markdown",
      "source": [
        "Explanation:\n",
        "\n",
        "go.Scatter3d() creates a 3D scatter plot with x, y, and z as coordinates.\n",
        "mode='markers' specifies that the plot will show points (not lines).\n",
        "marker=dict(size=8, color='blue') customizes the appearance of the points.\n",
        "fig.update_layout() adds the title and axis labels for the 3D plot.\n",
        "Output:\n",
        "This will generate an interactive 3D scatter plot with the specified points in 3D space.\n",
        "\n",
        "Therefore, this code creates a 3D scatter plot using Plotly and visualizes the relationship between three variables (x, y, and z)."
      ],
      "metadata": {
        "id": "6EPQ7ZzfGfw5"
      }
    }
  ]
}